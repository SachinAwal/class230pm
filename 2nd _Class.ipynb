{
 "cells": [
  {
   "cell_type": "code",
   "execution_count": 1,
   "metadata": {},
   "outputs": [],
   "source": [
    "#print()\n",
    "#type()\n",
    "#int()\n",
    "#str()\n",
    "#float()"
   ]
  },
  {
   "cell_type": "code",
   "execution_count": 2,
   "metadata": {},
   "outputs": [],
   "source": [
    "# def <function name>():\n",
    "#     <operations>\n",
    "#<function name>()"
   ]
  },
  {
   "cell_type": "code",
   "execution_count": 5,
   "metadata": {},
   "outputs": [
    {
     "name": "stdout",
     "output_type": "stream",
     "text": [
      "Hello World\n"
     ]
    }
   ],
   "source": [
    "def hello():\n",
    "    print(\"Hello World\")\n",
    "hello()"
   ]
  },
  {
   "cell_type": "code",
   "execution_count": 7,
   "metadata": {},
   "outputs": [
    {
     "name": "stdout",
     "output_type": "stream",
     "text": [
      "Enter the length l = 5\n",
      "Enter the breadth b = 3\n",
      "The value of a is  15\n"
     ]
    }
   ],
   "source": [
    "def area():\n",
    "    l = int(input(\"Enter the length l = \"))  #local variable\n",
    "    b = int(input(\"Enter the breadth b = \")) #local variable\n",
    "    a = l*b                                  #local variable\n",
    "    print(\"The value of a is \",a)\n",
    "area()"
   ]
  },
  {
   "cell_type": "code",
   "execution_count": 8,
   "metadata": {},
   "outputs": [
    {
     "name": "stdout",
     "output_type": "stream",
     "text": [
      "Enter the length l = 5\n",
      "Enter the breadth b = 3\n",
      "The value of a is  15\n"
     ]
    }
   ],
   "source": [
    "l = int(input(\"Enter the length l = \"))  #global variable\n",
    "b = int(input(\"Enter the breadth b = \")) #global variable\n",
    "def area():\n",
    "    a = l*b                              #local variable\n",
    "    print(\"The value of a is \",a)\n",
    "area()"
   ]
  },
  {
   "cell_type": "code",
   "execution_count": 9,
   "metadata": {},
   "outputs": [],
   "source": [
    "# fucntion with no argument and no return type\n",
    "# function with argument and no return type\n",
    "# function with no argument and return type\n",
    "# function with argument and return type"
   ]
  },
  {
   "cell_type": "code",
   "execution_count": 10,
   "metadata": {},
   "outputs": [
    {
     "name": "stdout",
     "output_type": "stream",
     "text": [
      "Enter the length l = 5\n",
      "Enter the breadth b = 5\n",
      "The value of a is  25\n"
     ]
    }
   ],
   "source": [
    "# fucntion with no argument and no return type\n",
    "l = int(input(\"Enter the length l = \"))\n",
    "b = int(input(\"Enter the breadth b = \"))\n",
    "def area():\n",
    "    a = l*b\n",
    "    print(\"The value of a is \",a)\n",
    "area()"
   ]
  },
  {
   "cell_type": "code",
   "execution_count": 11,
   "metadata": {},
   "outputs": [
    {
     "name": "stdout",
     "output_type": "stream",
     "text": [
      "Enter the length l = 5\n",
      "Enter the breadth b = 5\n",
      "The value of a is  25\n"
     ]
    }
   ],
   "source": [
    "# function with argument and no return type\n",
    "def area(l,b):\n",
    "    a = l*b\n",
    "    print(\"The value of a is \",a)\n",
    "    \n",
    "l = int(input(\"Enter the length l = \"))\n",
    "b = int(input(\"Enter the breadth b = \"))\n",
    "area(l,b)"
   ]
  },
  {
   "cell_type": "code",
   "execution_count": 13,
   "metadata": {},
   "outputs": [
    {
     "name": "stdout",
     "output_type": "stream",
     "text": [
      "Enter the length l = 5\n",
      "Enter the breadth b = 2\n",
      "Enter the height h = 3\n",
      "The value of a is  10\n",
      "The value of v is  30\n"
     ]
    }
   ],
   "source": [
    "# function with argument and no return type\n",
    "def area(l,b):\n",
    "    a = l*b\n",
    "    print(\"The value of a is \",a)\n",
    "    \n",
    "def volume(l,b,h):\n",
    "    v =l*b*h\n",
    "    print(\"The value of v is \",v)\n",
    "    \n",
    "l = int(input(\"Enter the length l = \"))\n",
    "b = int(input(\"Enter the breadth b = \"))\n",
    "h = int(input(\"Enter the height h = \"))\n",
    "area(l,b)\n",
    "volume(l,b,h)"
   ]
  },
  {
   "cell_type": "code",
   "execution_count": 17,
   "metadata": {},
   "outputs": [
    {
     "name": "stdout",
     "output_type": "stream",
     "text": [
      "The value of a is  400\n",
      "400\n"
     ]
    }
   ],
   "source": [
    "#Calling local variable to global variable \n",
    "b = 40\n",
    "def area(l):\n",
    "    global a\n",
    "    a = l*b\n",
    "    print(\"The value of a is \",a)\n",
    "area(10)\n",
    "print(a)"
   ]
  },
  {
   "cell_type": "code",
   "execution_count": 21,
   "metadata": {},
   "outputs": [
    {
     "name": "stdout",
     "output_type": "stream",
     "text": [
      "Ram\n",
      "Shyam\n",
      "Hari\n"
     ]
    }
   ],
   "source": [
    "def name(n = \"Ram\"):\n",
    "    print(n)\n",
    "name() \n",
    "name(\"Shyam\")\n",
    "name(\"Hari\")"
   ]
  },
  {
   "cell_type": "code",
   "execution_count": 24,
   "metadata": {},
   "outputs": [
    {
     "name": "stdout",
     "output_type": "stream",
     "text": [
      "Enter the length l = 5\n",
      "Enter the breadth b = 5\n",
      "[5, 5]\n",
      "The value of a is  25\n"
     ]
    }
   ],
   "source": [
    "# function with argument and no return type\n",
    "def area(y):\n",
    "    l,b = y\n",
    "    a = l*b\n",
    "    print(\"The value of a is \",a)\n",
    "    \n",
    "l = int(input(\"Enter the length l = \"))\n",
    "b = int(input(\"Enter the breadth b = \"))\n",
    "x = [l,b]\n",
    "print(x)\n",
    "area(x)"
   ]
  },
  {
   "cell_type": "code",
   "execution_count": 31,
   "metadata": {},
   "outputs": [
    {
     "name": "stdout",
     "output_type": "stream",
     "text": [
      "Hello World\n"
     ]
    }
   ],
   "source": [
    "# function with no argument and return type\n",
    "def hello():\n",
    "    return \"Hello World\"\n",
    "print(hello())"
   ]
  },
  {
   "cell_type": "code",
   "execution_count": 34,
   "metadata": {},
   "outputs": [
    {
     "name": "stdout",
     "output_type": "stream",
     "text": [
      "Enter the length l = 5\n",
      "Enter the breadth b = 2\n",
      "The area is  10\n",
      "Enter the height h = 3\n",
      "The volume is  30\n"
     ]
    }
   ],
   "source": [
    "def area():\n",
    "    l = int(input(\"Enter the length l = \"))  #local variable\n",
    "    b = int(input(\"Enter the breadth b = \")) #local variable\n",
    "    a = l*b\n",
    "    return a\n",
    "ar = area()\n",
    "print(\"The area is \",ar)\n",
    "h = int(input(\"Enter the height h = \"))\n",
    "v = ar*h\n",
    "print(\"The volume is \",v)"
   ]
  },
  {
   "cell_type": "code",
   "execution_count": 35,
   "metadata": {},
   "outputs": [
    {
     "name": "stdout",
     "output_type": "stream",
     "text": [
      "Enter the length l = 5\n",
      "Enter the breadth b = 3\n",
      "Enter the height h = 2\n",
      "(15, 30)\n",
      "The area is  15\n",
      "The volume is  30\n"
     ]
    }
   ],
   "source": [
    "def area():\n",
    "    l = int(input(\"Enter the length l = \"))  #local variable\n",
    "    b = int(input(\"Enter the breadth b = \")) #local variable\n",
    "    h = int(input(\"Enter the height h = \"))  #local variable\n",
    "    a = l*b\n",
    "    v = a*h\n",
    "    return a,v\n",
    "ar = area()\n",
    "print(ar)\n",
    "area, volume = ar\n",
    "print(\"The area is \",area)\n",
    "print(\"The volume is \",volume)"
   ]
  },
  {
   "cell_type": "code",
   "execution_count": 38,
   "metadata": {},
   "outputs": [
    {
     "name": "stdout",
     "output_type": "stream",
     "text": [
      "Enter the length l = 100\n",
      "Enter the breadth b = 80\n",
      "Enter the height h = 70\n",
      "The area is  8000\n",
      "The volume is  560000\n"
     ]
    }
   ],
   "source": [
    "# function with argument and return type\n",
    "def area(l,b):\n",
    "    a = l*b\n",
    "    return a\n",
    "\n",
    "def volume(l,b,h):\n",
    "    v = area(l,b)*h               #v = a*h\n",
    "    return v\n",
    "\n",
    "l = int(input(\"Enter the length l = \"))  #local variable\n",
    "b = int(input(\"Enter the breadth b = \")) #local variable\n",
    "h = int(input(\"Enter the height h = \"))  #local variable\n",
    "\n",
    "ar = area(l,b)\n",
    "vo = volume(l,b,h)\n",
    "print(\"The area is \",ar)\n",
    "print(\"The volume is \",vo)"
   ]
  },
  {
   "cell_type": "code",
   "execution_count": null,
   "metadata": {},
   "outputs": [],
   "source": []
  }
 ],
 "metadata": {
  "kernelspec": {
   "display_name": "Python 3",
   "language": "python",
   "name": "python3"
  },
  "language_info": {
   "codemirror_mode": {
    "name": "ipython",
    "version": 3
   },
   "file_extension": ".py",
   "mimetype": "text/x-python",
   "name": "python",
   "nbconvert_exporter": "python",
   "pygments_lexer": "ipython3",
   "version": "3.8.5"
  }
 },
 "nbformat": 4,
 "nbformat_minor": 4
}
