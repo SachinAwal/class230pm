{
 "cells": [
  {
   "cell_type": "code",
   "execution_count": 1,
   "metadata": {},
   "outputs": [
    {
     "name": "stdout",
     "output_type": "stream",
     "text": [
      "Hello my name is Ram.I amd from Kathmandu.\n"
     ]
    }
   ],
   "source": [
    "# inheritance\n",
    "class Profile:\n",
    "    def __init__(self,name,add):\n",
    "        self.name = name\n",
    "        self.add = add\n",
    "class Hr(Profile):\n",
    "    def hr(self):\n",
    "        print(f\"Hello my name is {self.name}.I amd from {self.add}.\")\n",
    "\n",
    "obj = Hr(\"Ram\",\"Kathmandu\")\n",
    "obj.hr()"
   ]
  },
  {
   "cell_type": "code",
   "execution_count": 6,
   "metadata": {},
   "outputs": [
    {
     "name": "stdout",
     "output_type": "stream",
     "text": [
      "23\n",
      "Hello my name is Ram.I amd from Kathmandu. My age is 23.\n"
     ]
    }
   ],
   "source": [
    "class Profile:\n",
    "    def __init__(self,name,add):\n",
    "        self.name = name\n",
    "        self.add = add\n",
    "        print(self.age)  # public value can be used or call.\n",
    "        \n",
    "class Hr(Profile):\n",
    "    def __init__(self,name,add,age):\n",
    "        self.age = age\n",
    "        Profile.__init__(self,name,add)\n",
    "    def hr(self):\n",
    "        print(f\"Hello my name is {self.name}.I amd from {self.add}. My age is {self.age}.\")\n",
    "\n",
    "obj = Hr(\"Ram\",\"Kathmandu\",23)\n",
    "obj.hr()"
   ]
  },
  {
   "cell_type": "code",
   "execution_count": 3,
   "metadata": {},
   "outputs": [],
   "source": [
    "# multi level inheritance \n",
    "class A:\n",
    "    pass\n",
    "class B(A):\n",
    "    pass\n",
    "class C(B):\n",
    "    pass\n",
    "obj = C()"
   ]
  },
  {
   "cell_type": "code",
   "execution_count": 4,
   "metadata": {},
   "outputs": [
    {
     "name": "stdout",
     "output_type": "stream",
     "text": [
      "This is Class A.\n",
      "This is Class B.\n",
      "This is Class C.\n"
     ]
    }
   ],
   "source": [
    "class A:\n",
    "    print(\"This is Class A.\")\n",
    "class B(A):\n",
    "    print(\"This is Class B.\")\n",
    "class C(B):\n",
    "    print(\"This is Class C.\")\n",
    "obj = C()"
   ]
  },
  {
   "cell_type": "code",
   "execution_count": 5,
   "metadata": {},
   "outputs": [
    {
     "name": "stdout",
     "output_type": "stream",
     "text": [
      "This is Class A.\n",
      "This is Class B.\n",
      "This is Class C.\n"
     ]
    }
   ],
   "source": [
    "# multiple inheritance\n",
    "class A:\n",
    "    print(\"This is Class A.\")\n",
    "class B:\n",
    "    print(\"This is Class B.\")\n",
    "class C(A,B):\n",
    "    print(\"This is Class C.\")\n",
    "obj = C()"
   ]
  },
  {
   "cell_type": "code",
   "execution_count": 6,
   "metadata": {},
   "outputs": [
    {
     "name": "stdout",
     "output_type": "stream",
     "text": [
      "This is Class A.\n",
      "This is Class B.\n",
      "This is Class C.\n"
     ]
    }
   ],
   "source": [
    "class A:\n",
    "    def a(self):\n",
    "        print(\"This is Class A.\")\n",
    "class B:\n",
    "    def b(self):\n",
    "        print(\"This is Class B.\")\n",
    "class C(A,B):\n",
    "    def c(self):\n",
    "        print(\"This is Class C.\")\n",
    "obj = C()\n",
    "obj.a()\n",
    "obj.b()\n",
    "obj.c()"
   ]
  },
  {
   "cell_type": "code",
   "execution_count": 8,
   "metadata": {},
   "outputs": [
    {
     "name": "stdout",
     "output_type": "stream",
     "text": [
      "Hello my name is Ram.I amd from Kathmandu. My age is 23.\n"
     ]
    }
   ],
   "source": [
    "class Profile:\n",
    "    def __init__(self,add):\n",
    "        self.add = add\n",
    "        \n",
    "class Hr(Profile):\n",
    "    def __init__(self,name):\n",
    "        self.name = name\n",
    "        \n",
    "class Office(Hr):\n",
    "    def __init__(self,name,add,age):\n",
    "        Hr.__init__(self,name)\n",
    "        Profile.__init__(self,add)\n",
    "        self.age = age\n",
    "    def hr(self):\n",
    "        print(f\"Hello my name is {self.name}.I amd from {self.add}. My age is {self.age}.\")\n",
    "\n",
    "obj = Office(\"Ram\",\"Kathmandu\",23)\n",
    "obj.hr()"
   ]
  },
  {
   "cell_type": "code",
   "execution_count": 9,
   "metadata": {},
   "outputs": [
    {
     "name": "stdout",
     "output_type": "stream",
     "text": [
      "Hello my name is Ram.I amd from Kathmandu. My age is 23.\n"
     ]
    }
   ],
   "source": [
    "class Profile:\n",
    "    def __init__(self,add):\n",
    "        self.add = add\n",
    "        \n",
    "class Hr:\n",
    "    def __init__(self,name):\n",
    "        self.name = name\n",
    "        \n",
    "class Office(Hr,Profile):\n",
    "    def __init__(self,name,add,age):\n",
    "        Hr.__init__(self,name)\n",
    "        Profile.__init__(self,add)\n",
    "        self.age = age\n",
    "    def hr(self):\n",
    "        print(f\"Hello my name is {self.name}.I amd from {self.add}. My age is {self.age}.\")\n",
    "\n",
    "obj = Office(\"Ram\",\"Kathmandu\",23)\n",
    "obj.hr()"
   ]
  },
  {
   "cell_type": "code",
   "execution_count": 10,
   "metadata": {},
   "outputs": [
    {
     "name": "stdout",
     "output_type": "stream",
     "text": [
      "Ram\n",
      "34\n"
     ]
    }
   ],
   "source": [
    "# public attributes\n",
    "class Info:\n",
    "    def __init__(self,name,age):\n",
    "        self.name = name\n",
    "        self.age = age\n",
    "\n",
    "obj = Info(\"Ram\",34)\n",
    "print(obj.name)\n",
    "print(obj.age)"
   ]
  },
  {
   "cell_type": "code",
   "execution_count": 11,
   "metadata": {},
   "outputs": [
    {
     "ename": "AttributeError",
     "evalue": "'Info' object has no attribute 'name'",
     "output_type": "error",
     "traceback": [
      "\u001b[1;31m---------------------------------------------------------------------------\u001b[0m",
      "\u001b[1;31mAttributeError\u001b[0m                            Traceback (most recent call last)",
      "\u001b[1;32m<ipython-input-11-5d56260d43d8>\u001b[0m in \u001b[0;36m<module>\u001b[1;34m\u001b[0m\n\u001b[0;32m      6\u001b[0m \u001b[1;33m\u001b[0m\u001b[0m\n\u001b[0;32m      7\u001b[0m \u001b[0mobj\u001b[0m \u001b[1;33m=\u001b[0m \u001b[0mInfo\u001b[0m\u001b[1;33m(\u001b[0m\u001b[1;34m\"Ram\"\u001b[0m\u001b[1;33m,\u001b[0m\u001b[1;36m34\u001b[0m\u001b[1;33m)\u001b[0m\u001b[1;33m\u001b[0m\u001b[1;33m\u001b[0m\u001b[0m\n\u001b[1;32m----> 8\u001b[1;33m \u001b[0mprint\u001b[0m\u001b[1;33m(\u001b[0m\u001b[0mobj\u001b[0m\u001b[1;33m.\u001b[0m\u001b[0mname\u001b[0m\u001b[1;33m)\u001b[0m\u001b[1;33m\u001b[0m\u001b[1;33m\u001b[0m\u001b[0m\n\u001b[0m\u001b[0;32m      9\u001b[0m \u001b[0mprint\u001b[0m\u001b[1;33m(\u001b[0m\u001b[0mobj\u001b[0m\u001b[1;33m.\u001b[0m\u001b[0mage\u001b[0m\u001b[1;33m)\u001b[0m\u001b[1;33m\u001b[0m\u001b[1;33m\u001b[0m\u001b[0m\n",
      "\u001b[1;31mAttributeError\u001b[0m: 'Info' object has no attribute 'name'"
     ]
    }
   ],
   "source": [
    "# protected attributes\n",
    "class Info:\n",
    "    def __init__(self,name,age):\n",
    "        self._name = name  # single underscore for protected attributes\n",
    "        self._age = age\n",
    "\n",
    "obj = Info(\"Ram\",34)\n",
    "print(obj.name)\n",
    "print(obj.age)"
   ]
  },
  {
   "cell_type": "code",
   "execution_count": 12,
   "metadata": {},
   "outputs": [
    {
     "name": "stdout",
     "output_type": "stream",
     "text": [
      "Ram\n",
      "34\n"
     ]
    }
   ],
   "source": [
    "# protected attributes\n",
    "# only for developer or designer to access the data for debugging in protected attributes\n",
    "class Info:\n",
    "    def __init__(self,name,age):\n",
    "        self._name = name\n",
    "        self._age = age\n",
    "\n",
    "obj = Info(\"Ram\",34)\n",
    "print(obj._name)\n",
    "print(obj._age)"
   ]
  },
  {
   "cell_type": "code",
   "execution_count": 13,
   "metadata": {},
   "outputs": [
    {
     "ename": "AttributeError",
     "evalue": "'Info' object has no attribute 'name'",
     "output_type": "error",
     "traceback": [
      "\u001b[1;31m---------------------------------------------------------------------------\u001b[0m",
      "\u001b[1;31mAttributeError\u001b[0m                            Traceback (most recent call last)",
      "\u001b[1;32m<ipython-input-13-5a1f34671b47>\u001b[0m in \u001b[0;36m<module>\u001b[1;34m\u001b[0m\n\u001b[0;32m      6\u001b[0m \u001b[1;33m\u001b[0m\u001b[0m\n\u001b[0;32m      7\u001b[0m \u001b[0mobj\u001b[0m \u001b[1;33m=\u001b[0m \u001b[0mInfo\u001b[0m\u001b[1;33m(\u001b[0m\u001b[1;34m\"Ram\"\u001b[0m\u001b[1;33m,\u001b[0m\u001b[1;36m34\u001b[0m\u001b[1;33m)\u001b[0m\u001b[1;33m\u001b[0m\u001b[1;33m\u001b[0m\u001b[0m\n\u001b[1;32m----> 8\u001b[1;33m \u001b[0mprint\u001b[0m\u001b[1;33m(\u001b[0m\u001b[0mobj\u001b[0m\u001b[1;33m.\u001b[0m\u001b[0mname\u001b[0m\u001b[1;33m)\u001b[0m\u001b[1;33m\u001b[0m\u001b[1;33m\u001b[0m\u001b[0m\n\u001b[0m\u001b[0;32m      9\u001b[0m \u001b[0mprint\u001b[0m\u001b[1;33m(\u001b[0m\u001b[0mobj\u001b[0m\u001b[1;33m.\u001b[0m\u001b[0mage\u001b[0m\u001b[1;33m)\u001b[0m\u001b[1;33m\u001b[0m\u001b[1;33m\u001b[0m\u001b[0m\n",
      "\u001b[1;31mAttributeError\u001b[0m: 'Info' object has no attribute 'name'"
     ]
    }
   ],
   "source": [
    "# private attributes\n",
    "class Info:\n",
    "    def __init__(self,name,age):\n",
    "        self.__name = name   # double underscore for private attributes\n",
    "        self.__age = age\n",
    "\n",
    "obj = Info(\"Ram\",34)\n",
    "print(obj.name)\n",
    "print(obj.age)"
   ]
  },
  {
   "cell_type": "code",
   "execution_count": 14,
   "metadata": {},
   "outputs": [
    {
     "ename": "AttributeError",
     "evalue": "'Info' object has no attribute '__name'",
     "output_type": "error",
     "traceback": [
      "\u001b[1;31m---------------------------------------------------------------------------\u001b[0m",
      "\u001b[1;31mAttributeError\u001b[0m                            Traceback (most recent call last)",
      "\u001b[1;32m<ipython-input-14-eb93905cd7f7>\u001b[0m in \u001b[0;36m<module>\u001b[1;34m\u001b[0m\n\u001b[0;32m      6\u001b[0m \u001b[1;33m\u001b[0m\u001b[0m\n\u001b[0;32m      7\u001b[0m \u001b[0mobj\u001b[0m \u001b[1;33m=\u001b[0m \u001b[0mInfo\u001b[0m\u001b[1;33m(\u001b[0m\u001b[1;34m\"Ram\"\u001b[0m\u001b[1;33m,\u001b[0m\u001b[1;36m34\u001b[0m\u001b[1;33m)\u001b[0m\u001b[1;33m\u001b[0m\u001b[1;33m\u001b[0m\u001b[0m\n\u001b[1;32m----> 8\u001b[1;33m \u001b[0mprint\u001b[0m\u001b[1;33m(\u001b[0m\u001b[0mobj\u001b[0m\u001b[1;33m.\u001b[0m\u001b[0m__name\u001b[0m\u001b[1;33m)\u001b[0m\u001b[1;33m\u001b[0m\u001b[1;33m\u001b[0m\u001b[0m\n\u001b[0m\u001b[0;32m      9\u001b[0m \u001b[0mprint\u001b[0m\u001b[1;33m(\u001b[0m\u001b[0mobj\u001b[0m\u001b[1;33m.\u001b[0m\u001b[0m__age\u001b[0m\u001b[1;33m)\u001b[0m\u001b[1;33m\u001b[0m\u001b[1;33m\u001b[0m\u001b[0m\n",
      "\u001b[1;31mAttributeError\u001b[0m: 'Info' object has no attribute '__name'"
     ]
    }
   ],
   "source": [
    "# private attributes\n",
    "class Info:\n",
    "    def __init__(self,name,age):\n",
    "        self.__name = name\n",
    "        self.__age = age\n",
    "\n",
    "obj = Info(\"Ram\",34)\n",
    "print(obj.__name)\n",
    "print(obj.__age)"
   ]
  },
  {
   "cell_type": "code",
   "execution_count": 16,
   "metadata": {},
   "outputs": [
    {
     "name": "stdout",
     "output_type": "stream",
     "text": [
      "Ram\n",
      "34\n"
     ]
    }
   ],
   "source": [
    "# private attributes\n",
    "# only for developer or designer to access the data for debugging in private attributes\n",
    "class Info:\n",
    "    def __init__(self,name,age):\n",
    "        self.__name = name\n",
    "        self.__age = age\n",
    "\n",
    "obj = Info(\"Ram\",34)\n",
    "print(obj._Info__name)\n",
    "print(obj._Info__age)"
   ]
  },
  {
   "cell_type": "code",
   "execution_count": null,
   "metadata": {},
   "outputs": [],
   "source": [
    "# Name mangling\n",
    "# -private attributes"
   ]
  },
  {
   "cell_type": "code",
   "execution_count": 17,
   "metadata": {},
   "outputs": [
    {
     "name": "stdout",
     "output_type": "stream",
     "text": [
      "Hello my name is Ram.I amd from Kathmandu. My age is 23.\n"
     ]
    }
   ],
   "source": [
    "# calling protected attributes\n",
    "class Profile:\n",
    "    def __init__(self,add):\n",
    "        self._add = add\n",
    "        \n",
    "class Hr(Profile):\n",
    "    def __init__(self,name):\n",
    "        self.name = name\n",
    "        \n",
    "class Office(Hr):\n",
    "    def __init__(self,name,add,age):\n",
    "        Hr.__init__(self,name)\n",
    "        Profile.__init__(self,add)\n",
    "        self.age = age\n",
    "    def hr(self):\n",
    "        print(f\"Hello my name is {self.name}.I amd from {self._add}. My age is {self.age}.\")\n",
    "\n",
    "obj = Office(\"Ram\",\"Kathmandu\",23)\n",
    "obj.hr()"
   ]
  },
  {
   "cell_type": "code",
   "execution_count": 21,
   "metadata": {},
   "outputs": [
    {
     "name": "stdout",
     "output_type": "stream",
     "text": [
      "Hello my name is Ram.I amd from Kathmandu. My age is 23. I am from Kathmandu.\n"
     ]
    }
   ],
   "source": [
    "# Super function\n",
    "# Super function only use to access data from or inside the class only. it cannot access data from outside here like obj.hr()\n",
    "# super function can acccess any type of data such as public, protected and private\n",
    "# super function can access any name mangling\n",
    "class Profile:\n",
    "    def __init__(self,add):\n",
    "        self.__add = add\n",
    "    def profile(self):\n",
    "        return self.__add\n",
    "        \n",
    "class Hr(Profile):\n",
    "    def __init__(self,name):\n",
    "        self._name = name\n",
    "        \n",
    "class Office(Hr):\n",
    "    def __init__(self,name,add,age):\n",
    "        Hr.__init__(self,name)\n",
    "        Profile.__init__(self,add)\n",
    "        self.age = age\n",
    "    def hr(self):\n",
    "        print(f\"Hello my name is {self._name}.I amd from {self._Profile__add}. My age is {self.age}. I am from {super().profile()}.\")\n",
    "\n",
    "obj = Office(\"Ram\",\"Kathmandu\",23)\n",
    "obj.hr()"
   ]
  },
  {
   "cell_type": "code",
   "execution_count": null,
   "metadata": {},
   "outputs": [],
   "source": [
    "# Read about NAME MANGLING"
   ]
  },
  {
   "cell_type": "code",
   "execution_count": null,
   "metadata": {},
   "outputs": [],
   "source": []
  }
 ],
 "metadata": {
  "kernelspec": {
   "display_name": "Python 3",
   "language": "python",
   "name": "python3"
  },
  "language_info": {
   "codemirror_mode": {
    "name": "ipython",
    "version": 3
   },
   "file_extension": ".py",
   "mimetype": "text/x-python",
   "name": "python",
   "nbconvert_exporter": "python",
   "pygments_lexer": "ipython3",
   "version": "3.8.5"
  }
 },
 "nbformat": 4,
 "nbformat_minor": 4
}
