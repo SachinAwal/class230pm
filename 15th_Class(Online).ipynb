{
 "cells": [
  {
   "cell_type": "code",
   "execution_count": null,
   "metadata": {},
   "outputs": [],
   "source": [
    "# Exception Handling\n",
    "# Syntax\n",
    "# try:\n",
    "#     #statements in try block\n",
    "# except:\n",
    "#     #executed when error in try block"
   ]
  },
  {
   "cell_type": "code",
   "execution_count": 2,
   "metadata": {},
   "outputs": [
    {
     "name": "stdout",
     "output_type": "stream",
     "text": [
      "Enter a= Ten\n",
      "Enter int data\n"
     ]
    }
   ],
   "source": [
    "try:\n",
    "    a = int(input(\"Enter a= \"))\n",
    "except:\n",
    "    print(\"Enter int data\")"
   ]
  },
  {
   "cell_type": "code",
   "execution_count": 6,
   "metadata": {},
   "outputs": [
    {
     "name": "stdout",
     "output_type": "stream",
     "text": [
      "Enter the value of a: 100\n",
      "Enter the value of b: 0\n",
      "Error occured\n"
     ]
    }
   ],
   "source": [
    "try:\n",
    "    a = int(input(\"Enter the value of a: \"))\n",
    "    b = int(input(\"Enter the value of b: \"))\n",
    "    c = a/b\n",
    "    print(c)\n",
    "except:\n",
    "    print(\"Error occured\")"
   ]
  },
  {
   "cell_type": "code",
   "execution_count": 7,
   "metadata": {},
   "outputs": [
    {
     "ename": "SyntaxError",
     "evalue": "invalid syntax (<ipython-input-7-4f6a3ef89981>, line 5)",
     "output_type": "error",
     "traceback": [
      "\u001b[1;36m  File \u001b[1;32m\"<ipython-input-7-4f6a3ef89981>\"\u001b[1;36m, line \u001b[1;32m5\u001b[0m\n\u001b[1;33m    print(c)\u001b[0m\n\u001b[1;37m    ^\u001b[0m\n\u001b[1;31mSyntaxError\u001b[0m\u001b[1;31m:\u001b[0m invalid syntax\n"
     ]
    }
   ],
   "source": [
    "try:\n",
    "    a = int(input(\"Enter the value of a: \"))\n",
    "    b = int(input(\"Enter the value of b: \"))\n",
    "    c = a/b\n",
    "print(c)      # never use any code betweem try and except in same indentation\n",
    "except:\n",
    "    print(\"Error occured\")"
   ]
  },
  {
   "cell_type": "code",
   "execution_count": null,
   "metadata": {},
   "outputs": [],
   "source": [
    "# ValueError\n",
    "# ZeroDivisionError\n",
    "a = int(input(\"Enter the value of a: \"))\n",
    "b = int(input(\"Enter the value of b: \"))\n",
    "c = a/b"
   ]
  },
  {
   "cell_type": "code",
   "execution_count": 11,
   "metadata": {},
   "outputs": [
    {
     "name": "stdout",
     "output_type": "stream",
     "text": [
      "Enter the value of a: 100\n",
      "Enter the value of b: 0\n",
      "b should not be zero.\n"
     ]
    }
   ],
   "source": [
    "try:\n",
    "    a = int(input(\"Enter the value of a: \"))\n",
    "    b = int(input(\"Enter the value of b: \"))\n",
    "    c = a/b\n",
    "    print(c)\n",
    "except ValueError:\n",
    "    print(\"a and b should be integer value.\")\n",
    "except ZeroDivisionError:\n",
    "    print(\"b should not be zero.\")"
   ]
  },
  {
   "cell_type": "code",
   "execution_count": 15,
   "metadata": {},
   "outputs": [
    {
     "name": "stdout",
     "output_type": "stream",
     "text": [
      "Enter the value of a: 55\n",
      "Enter the value of b: dsd\n",
      "a and b should be integer value.\n"
     ]
    }
   ],
   "source": [
    "try:\n",
    "    a = int(input(\"Enter the value of a: \"))\n",
    "    b = int(input(\"Enter the value of b: \"))\n",
    "    c = a/b\n",
    "    print(c)\n",
    "except ValueError:\n",
    "    print(\"a and b should be integer value.\")\n",
    "except ZeroDivisionError:\n",
    "    print(\"b should not be zero.\")"
   ]
  },
  {
   "cell_type": "code",
   "execution_count": 14,
   "metadata": {},
   "outputs": [
    {
     "name": "stdout",
     "output_type": "stream",
     "text": [
      "Enter a= dsada\n",
      "Enter int data\n",
      "Enter a= 10\n"
     ]
    }
   ],
   "source": [
    "def cal():\n",
    "    try:\n",
    "        a = int(input(\"Enter a= \"))\n",
    "    except:\n",
    "        print(\"Enter int data\")\n",
    "        cal()       #recursive function\n",
    "cal()"
   ]
  },
  {
   "cell_type": "code",
   "execution_count": 16,
   "metadata": {},
   "outputs": [
    {
     "name": "stdout",
     "output_type": "stream",
     "text": [
      "Enter the value of a: 100\n",
      "Enter the value of b: 0\n",
      "b should not be zero.\n",
      "Enter the value of a: 100\n",
      "Enter the value of b: sadas\n",
      "a and b should be integer value.\n",
      "Enter the value of a: 1000\n",
      "Enter the value of b: 15\n",
      "66.66666666666667\n"
     ]
    }
   ],
   "source": [
    "def div():\n",
    "    try:\n",
    "        a = int(input(\"Enter the value of a: \"))\n",
    "        b = int(input(\"Enter the value of b: \"))\n",
    "        c = a/b\n",
    "        print(c)\n",
    "    except ValueError:\n",
    "        print(\"a and b should be integer value.\")\n",
    "        div()\n",
    "    except ZeroDivisionError:\n",
    "        print(\"b should not be zero.\")\n",
    "        div()\n",
    "\n",
    "div()"
   ]
  },
  {
   "cell_type": "code",
   "execution_count": 17,
   "metadata": {},
   "outputs": [
    {
     "name": "stdout",
     "output_type": "stream",
     "text": [
      "Enter the value of a: 26\n",
      "Enter the value of b: dfs\n",
      "There is some error.\n"
     ]
    }
   ],
   "source": [
    "try:\n",
    "    a = int(input(\"Enter the value of a: \"))\n",
    "    b = int(input(\"Enter the value of b: \"))\n",
    "    c = a/b\n",
    "    print(c)\n",
    "except (ValueError,ZeroDivisionError):\n",
    "    print(\"There is some error.\")"
   ]
  },
  {
   "cell_type": "code",
   "execution_count": null,
   "metadata": {},
   "outputs": [],
   "source": [
    "# Try, Except, Else\n",
    "# try:\n",
    "#     {Run this code}\n",
    "# except:\n",
    "#     {Run this code if an exception occurs}\n",
    "# else:\n",
    "#     {Run this code uf no exception occurs}"
   ]
  },
  {
   "cell_type": "code",
   "execution_count": 19,
   "metadata": {},
   "outputs": [
    {
     "name": "stdout",
     "output_type": "stream",
     "text": [
      "Enter the value of a: 10\n",
      "Enter the value of b: 2\n",
      "This is Else block.\n",
      "5.0\n"
     ]
    }
   ],
   "source": [
    "try:\n",
    "    a = int(input(\"Enter the value of a: \"))\n",
    "    b = int(input(\"Enter the value of b: \"))\n",
    "    c = a/b\n",
    "except (ValueError,ZeroDivisionError):\n",
    "    print(\"There is some error.\")\n",
    "else:\n",
    "    print(\"This is Else block.\")\n",
    "    print(c)"
   ]
  },
  {
   "cell_type": "code",
   "execution_count": 22,
   "metadata": {},
   "outputs": [
    {
     "name": "stdout",
     "output_type": "stream",
     "text": [
      "Enter the name: Ram\n",
      "Enter the age: ten\n",
      "The age should be int value.\n"
     ]
    }
   ],
   "source": [
    "try:  # put only code that throw exception\n",
    "    name = input(\"Enter the name: \")\n",
    "    age = int(input(\"Enter the age: \"))  \n",
    "except:\n",
    "    print(\"The age should be int value.\")\n",
    "else: # put code that does not throw exception\n",
    "    a = f\"Hello my name is {name}.i am {age}.\"\n",
    "    print(a)"
   ]
  },
  {
   "cell_type": "code",
   "execution_count": null,
   "metadata": {},
   "outputs": [],
   "source": [
    "# Try, Except, Else, Finally\n",
    "# try:\n",
    "#     {Run his code}\n",
    "# except:\n",
    "#     {Run this code if an exception occurs}\n",
    "# else:\n",
    "#     {Run this code if no exception occurs}\n",
    "# finally:     # only use in huge program\n",
    "#     {Always run this code}"
   ]
  },
  {
   "cell_type": "code",
   "execution_count": 24,
   "metadata": {},
   "outputs": [
    {
     "name": "stdout",
     "output_type": "stream",
     "text": [
      "Enter the name: Ram\n",
      "Enter the age: 15\n",
      "Hello my name is Ram.i am 15.\n",
      "This is finally block.\n"
     ]
    }
   ],
   "source": [
    "try:\n",
    "    name = input(\"Enter the name: \")\n",
    "    age = int(input(\"Enter the age: \"))  \n",
    "except:\n",
    "    print(\"The age should be int value.\")\n",
    "else:\n",
    "    a = f\"Hello my name is {name}.i am {age}.\"\n",
    "    print(a)\n",
    "finally:\n",
    "    print(\"This is finally block.\")"
   ]
  },
  {
   "cell_type": "code",
   "execution_count": null,
   "metadata": {},
   "outputs": [],
   "source": [
    "#WAP to count the execution of the finally block code."
   ]
  },
  {
   "cell_type": "code",
   "execution_count": null,
   "metadata": {},
   "outputs": [],
   "source": [
    "# Try,raise,else,except"
   ]
  },
  {
   "cell_type": "code",
   "execution_count": 27,
   "metadata": {},
   "outputs": [
    {
     "ename": "ZeroDivisionError",
     "evalue": "division by zero",
     "output_type": "error",
     "traceback": [
      "\u001b[1;31m---------------------------------------------------------------------------\u001b[0m",
      "\u001b[1;31mZeroDivisionError\u001b[0m                         Traceback (most recent call last)",
      "\u001b[1;32m<ipython-input-27-04e13a85c145>\u001b[0m in \u001b[0;36m<module>\u001b[1;34m\u001b[0m\n\u001b[0;32m      1\u001b[0m \u001b[0ma\u001b[0m \u001b[1;33m=\u001b[0m \u001b[1;36m10\u001b[0m\u001b[1;33m\u001b[0m\u001b[1;33m\u001b[0m\u001b[0m\n\u001b[0;32m      2\u001b[0m \u001b[0mb\u001b[0m \u001b[1;33m=\u001b[0m \u001b[1;36m0\u001b[0m\u001b[1;33m\u001b[0m\u001b[1;33m\u001b[0m\u001b[0m\n\u001b[1;32m----> 3\u001b[1;33m \u001b[0ma\u001b[0m\u001b[1;33m/\u001b[0m\u001b[0mb\u001b[0m\u001b[1;33m\u001b[0m\u001b[1;33m\u001b[0m\u001b[0m\n\u001b[0m",
      "\u001b[1;31mZeroDivisionError\u001b[0m: division by zero"
     ]
    }
   ],
   "source": [
    "a = 10\n",
    "b = 0\n",
    "a/b"
   ]
  },
  {
   "cell_type": "code",
   "execution_count": 28,
   "metadata": {},
   "outputs": [
    {
     "ename": "ZeroDivisionError",
     "evalue": "",
     "output_type": "error",
     "traceback": [
      "\u001b[1;31m---------------------------------------------------------------------------\u001b[0m",
      "\u001b[1;31mZeroDivisionError\u001b[0m                         Traceback (most recent call last)",
      "\u001b[1;32m<ipython-input-28-c62fc6984c64>\u001b[0m in \u001b[0;36m<module>\u001b[1;34m\u001b[0m\n\u001b[1;32m----> 1\u001b[1;33m \u001b[1;32mraise\u001b[0m \u001b[0mZeroDivisionError\u001b[0m\u001b[1;33m\u001b[0m\u001b[1;33m\u001b[0m\u001b[0m\n\u001b[0m",
      "\u001b[1;31mZeroDivisionError\u001b[0m: "
     ]
    }
   ],
   "source": [
    "raise ZeroDivisionError"
   ]
  },
  {
   "cell_type": "code",
   "execution_count": 30,
   "metadata": {},
   "outputs": [
    {
     "name": "stdout",
     "output_type": "stream",
     "text": [
      "Enter a: 45\n",
      "Enter b: 0\n",
      "The value of b can't be 0\n"
     ]
    }
   ],
   "source": [
    "try:\n",
    "    a = int(input(\"Enter a: \"))\n",
    "    b = int(input(\"Enter b: \"))\n",
    "    if b == 0:\n",
    "        raise ArithmeticError\n",
    "    else:\n",
    "        print(\"a/b: \",a/b)\n",
    "except ArithmeticError:\n",
    "    print(\"The value of b can't be 0\")"
   ]
  },
  {
   "cell_type": "code",
   "execution_count": 40,
   "metadata": {},
   "outputs": [
    {
     "name": "stdout",
     "output_type": "stream",
     "text": [
      "Enter a number: Ram\n",
      "Ram\n"
     ]
    }
   ],
   "source": [
    "try:\n",
    "    num = input(\"Enter a number: \")\n",
    "    assert(num[0].isupper())\n",
    "    print(num)\n",
    "except AssertionError:\n",
    "    print(\"Error\")"
   ]
  },
  {
   "cell_type": "code",
   "execution_count": 45,
   "metadata": {},
   "outputs": [
    {
     "name": "stdout",
     "output_type": "stream",
     "text": [
      "Enter the name: 1Ram\n",
      "Yes\n"
     ]
    }
   ],
   "source": [
    "name = input(\"Enter the name: \")\n",
    "a = [0,1,2,3,4,5,6,7,8,9]\n",
    "for i in name:\n",
    "    for j in a:\n",
    "        if str(j)==i:\n",
    "            print(\"Yes\")"
   ]
  },
  {
   "cell_type": "code",
   "execution_count": 53,
   "metadata": {},
   "outputs": [
    {
     "name": "stdout",
     "output_type": "stream",
     "text": [
      "Enter a number: 5\n",
      "5\n"
     ]
    }
   ],
   "source": [
    "try:\n",
    "    num = int(input(\"Enter a number: \"))\n",
    "    assert(num >=0)\n",
    "    print(num)\n",
    "except AssertionError:\n",
    "    print(\"Error\")"
   ]
  },
  {
   "cell_type": "code",
   "execution_count": null,
   "metadata": {},
   "outputs": [],
   "source": []
  },
  {
   "cell_type": "code",
   "execution_count": null,
   "metadata": {},
   "outputs": [],
   "source": []
  },
  {
   "cell_type": "code",
   "execution_count": null,
   "metadata": {},
   "outputs": [],
   "source": []
  }
 ],
 "metadata": {
  "kernelspec": {
   "display_name": "Python 3",
   "language": "python",
   "name": "python3"
  },
  "language_info": {
   "codemirror_mode": {
    "name": "ipython",
    "version": 3
   },
   "file_extension": ".py",
   "mimetype": "text/x-python",
   "name": "python",
   "nbconvert_exporter": "python",
   "pygments_lexer": "ipython3",
   "version": "3.8.5"
  }
 },
 "nbformat": 4,
 "nbformat_minor": 4
}
