{
 "cells": [
  {
   "cell_type": "code",
   "execution_count": 2,
   "metadata": {},
   "outputs": [
    {
     "name": "stdout",
     "output_type": "stream",
     "text": [
      "Enter the no. of items buys: 2\n",
      "Enter the items buys: HP\n",
      "Enter the no. of items: 5\n",
      "Enter the items buys: Dell\n",
      "Enter the no. of items: 6\n",
      "[(90000, 85000, 75000, 65000, 90000, 85000, 75000, 65000, 90000, 85000, 75000, 65000, 90000, 85000, 75000, 65000, 90000, 85000, 75000, 65000), (90000, 85000, 75000, 65000, 90000, 85000, 75000, 65000, 90000, 85000, 75000, 65000, 90000, 85000, 75000, 65000, 90000, 85000, 75000, 65000, 90000, 85000, 75000, 65000)]\n"
     ]
    }
   ],
   "source": [
    "def laptop():\n",
    "    HP = 90000\n",
    "    ASUS = 85000\n",
    "    Dell = 75000\n",
    "    Lenovo = 65000\n",
    "    return HP,ASUS,Dell,Lenovo\n",
    "\n",
    "\n",
    "s = []\n",
    "n = int(input(\"Enter the no. of items buys: \"))\n",
    "for i in range(n):\n",
    "    item = input(\"Enter the items buys: \")\n",
    "    num = int(input(\"Enter the no. of items: \"))\n",
    "    HP,ASUS,Dell,Lenovo = laptop()\n",
    "    t = num * item\n",
    "    s.append(t)\n",
    "print(s)\n",
    "\n",
    "# s = []\n",
    "# n = int(input(\"Enter the no. of items: \"))\n"
   ]
  },
  {
   "cell_type": "code",
   "execution_count": null,
   "metadata": {},
   "outputs": [],
   "source": []
  },
  {
   "cell_type": "code",
   "execution_count": 4,
   "metadata": {},
   "outputs": [
    {
     "name": "stdout",
     "output_type": "stream",
     "text": [
      "Enter: 1\n",
      "Enter name: HP\n",
      "Enter num: 5\n",
      "[7500]\n"
     ]
    }
   ],
   "source": [
    "def fun():\n",
    "    dell = 1500\n",
    "    HP = 6500\n",
    "    return dell\n",
    "    return HP\n",
    "\n",
    "s = []\n",
    "n = int(input(\"Enter: \"))\n",
    "for i in range(n):\n",
    "    name = input(\"Enter name: \")\n",
    "    num = int(input(\"Enter num: \"))\n",
    "    name = fun()\n",
    "    total = name * num\n",
    "    s.append(total)\n",
    "print(s)"
   ]
  },
  {
   "cell_type": "code",
   "execution_count": null,
   "metadata": {},
   "outputs": [],
   "source": []
  },
  {
   "cell_type": "code",
   "execution_count": 9,
   "metadata": {},
   "outputs": [
    {
     "name": "stdout",
     "output_type": "stream",
     "text": [
      "Enter the no. of items buys: 2\n",
      "Enter the items buys: Lenovo\n",
      "Enter the no. of items: 5\n",
      "Enter the items buys: Dell\n",
      "Enter the no. of items: 2\n",
      "[450000, 180000]\n"
     ]
    }
   ],
   "source": [
    "def laptop():\n",
    "    HP = 90000\n",
    "    ASUS = 85000\n",
    "    Dell = 75000\n",
    "    Lenovo = 65000\n",
    "    return HP\n",
    "    return ASUS\n",
    "    return Dell\n",
    "    return Lenovo\n",
    "\n",
    "s = []\n",
    "n = int(input(\"Enter the no. of items buys: \"))\n",
    "for i in range(n):\n",
    "    item = input(\"Enter the items buys: \")\n",
    "    num = int(input(\"Enter the no. of items: \"))\n",
    "    item = laptop()\n",
    "    t = num * item\n",
    "    s.append(t)\n",
    "print(s)\n",
    "\n",
    "# s = []\n",
    "# n = int(input(\"Enter the no. of items: \"))\n"
   ]
  },
  {
   "cell_type": "code",
   "execution_count": null,
   "metadata": {},
   "outputs": [],
   "source": []
  },
  {
   "cell_type": "code",
   "execution_count": null,
   "metadata": {},
   "outputs": [],
   "source": []
  }
 ],
 "metadata": {
  "kernelspec": {
   "display_name": "Python 3",
   "language": "python",
   "name": "python3"
  },
  "language_info": {
   "codemirror_mode": {
    "name": "ipython",
    "version": 3
   },
   "file_extension": ".py",
   "mimetype": "text/x-python",
   "name": "python",
   "nbconvert_exporter": "python",
   "pygments_lexer": "ipython3",
   "version": "3.8.5"
  }
 },
 "nbformat": 4,
 "nbformat_minor": 4
}
