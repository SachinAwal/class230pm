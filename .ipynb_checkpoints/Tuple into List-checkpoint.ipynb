{
 "cells": [
  {
   "cell_type": "code",
   "execution_count": 1,
   "metadata": {},
   "outputs": [
    {
     "name": "stdout",
     "output_type": "stream",
     "text": [
      "Enter the value of n: 2\n",
      "Enter the name: Ram\n",
      "Enter the phone no.: 9862535659\n",
      "Enter the name: Shyam\n",
      "Enter the phone no.: 9851658595\n",
      "((1, 'Ram', 9862535659), (2, 'Shyam', 9851658595))\n",
      "[(1, 'Ram', 9862535659), (2, 'Shyam', 9851658595)]\n",
      "[[1, 'Ram', 9862535659], [2, 'Shyam', 9851658595]]\n"
     ]
    }
   ],
   "source": [
    "a = ()\n",
    "n = int(input(\"Enter the value of n: \"))\n",
    "for i in range(1,n+1):\n",
    "    name = input(\"Enter the name: \")\n",
    "    phone = int(input(\"Enter the phone no.: \"))\n",
    "    info = (i,name,phone)\n",
    "    a += (info,)\n",
    "print(a)    \n",
    "b = list(a)\n",
    "print(b)\n",
    "c = []\n",
    "for i in range(len(b)):\n",
    "    d = list(b[i])\n",
    "    c.append(d)\n",
    "print(c)"
   ]
  },
  {
   "cell_type": "code",
   "execution_count": 3,
   "metadata": {},
   "outputs": [
    {
     "name": "stdout",
     "output_type": "stream",
     "text": [
      "([1, 'Ram', 9862535659], [2, 'Shyam', 9851658595])\n",
      "((1, 'Ram', 9862535659), (2, 'Shyam', 9851658595))\n"
     ]
    }
   ],
   "source": [
    "c = ()\n",
    "a = [[1, 'Ram', 9862535659], [2, 'Shyam', 9851658595]]\n",
    "b = tuple(a)\n",
    "print(b)\n",
    "for i in range(len(b)):\n",
    "    d = tuple(b[i])\n",
    "    c += (d,)\n",
    "print(c)"
   ]
  },
  {
   "cell_type": "code",
   "execution_count": 7,
   "metadata": {},
   "outputs": [
    {
     "name": "stdout",
     "output_type": "stream",
     "text": [
      "Enter the value of n: 2\n",
      "Enter the name: RAM\n",
      "Enter the phone no.: 9840659575\n",
      "Enter the name: SHYAM\n",
      "Enter the phone no.: 9862457515\n",
      "((1, 'RAM', 9840659575), (2, 'SHYAM', 9862457515))\n",
      "[(1, 'RAM', 9840659575), (2, 'SHYAM', 9862457515)]\n",
      "[[1, 'RAM', 9840659575], [2, 'SHYAM', 9862457515]]\n",
      "([1, 'RAM', 9840659575], [2, 'SHYAM', 9862457515])\n",
      "((1, 'RAM', 9840659575), (2, 'SHYAM', 9862457515))\n"
     ]
    }
   ],
   "source": [
    "initial_tup = ()\n",
    "num = int(input(\"Enter the value of n: \"))\n",
    "for i in range(1,num+1):\n",
    "    name = input(\"Enter the name: \")\n",
    "    phone = int(input(\"Enter the phone no.: \"))\n",
    "    info = (i,name,phone)\n",
    "    initial_tup += (info,)\n",
    "print(initial_tup)\n",
    "\n",
    "chng = list(initial_tup)\n",
    "print(chng)\n",
    "\n",
    "final_list = []\n",
    "for i in range(len(chng)):\n",
    "    in_list = list(chng[i])\n",
    "    final_list.append(in_list)\n",
    "print(final_list)\n",
    "\n",
    "final_tuple = ()\n",
    "chng_tup = tuple(final_list)\n",
    "print(chng_tup)\n",
    "\n",
    "for i in range(len(chng_tup)):\n",
    "    pro = tuple(chng_tup[i])\n",
    "    final_tuple += (pro,)\n",
    "print(final_tuple)"
   ]
  },
  {
   "cell_type": "code",
   "execution_count": null,
   "metadata": {},
   "outputs": [],
   "source": []
  },
  {
   "cell_type": "code",
   "execution_count": null,
   "metadata": {},
   "outputs": [],
   "source": []
  }
 ],
 "metadata": {
  "kernelspec": {
   "display_name": "Python 3",
   "language": "python",
   "name": "python3"
  },
  "language_info": {
   "codemirror_mode": {
    "name": "ipython",
    "version": 3
   },
   "file_extension": ".py",
   "mimetype": "text/x-python",
   "name": "python",
   "nbconvert_exporter": "python",
   "pygments_lexer": "ipython3",
   "version": "3.8.5"
  }
 },
 "nbformat": 4,
 "nbformat_minor": 4
}
