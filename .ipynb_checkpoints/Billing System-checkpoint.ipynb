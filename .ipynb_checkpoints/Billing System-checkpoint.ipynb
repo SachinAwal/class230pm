{
 "cells": [
  {
   "cell_type": "code",
   "execution_count": 7,
   "metadata": {},
   "outputs": [
    {
     "name": "stdout",
     "output_type": "stream",
     "text": [
      "Enter the no. of items buys: 3\n",
      "Enter the items buys: HP\n",
      "Enter the no. of items: Dell\n"
     ]
    },
    {
     "ename": "ValueError",
     "evalue": "invalid literal for int() with base 10: 'Dell'",
     "output_type": "error",
     "traceback": [
      "\u001b[1;31m---------------------------------------------------------------------------\u001b[0m",
      "\u001b[1;31mValueError\u001b[0m                                Traceback (most recent call last)",
      "\u001b[1;32m<ipython-input-7-bd19583706eb>\u001b[0m in \u001b[0;36m<module>\u001b[1;34m\u001b[0m\n\u001b[0;32m     13\u001b[0m \u001b[1;32mfor\u001b[0m \u001b[0mi\u001b[0m \u001b[1;32min\u001b[0m \u001b[0mrange\u001b[0m\u001b[1;33m(\u001b[0m\u001b[0mn\u001b[0m\u001b[1;33m)\u001b[0m\u001b[1;33m:\u001b[0m\u001b[1;33m\u001b[0m\u001b[1;33m\u001b[0m\u001b[0m\n\u001b[0;32m     14\u001b[0m     \u001b[0mitem\u001b[0m \u001b[1;33m=\u001b[0m \u001b[0minput\u001b[0m\u001b[1;33m(\u001b[0m\u001b[1;34m\"Enter the items buys: \"\u001b[0m\u001b[1;33m)\u001b[0m\u001b[1;33m\u001b[0m\u001b[1;33m\u001b[0m\u001b[0m\n\u001b[1;32m---> 15\u001b[1;33m     \u001b[0mnum\u001b[0m \u001b[1;33m=\u001b[0m \u001b[0mint\u001b[0m\u001b[1;33m(\u001b[0m\u001b[0minput\u001b[0m\u001b[1;33m(\u001b[0m\u001b[1;34m\"Enter the no. of items: \"\u001b[0m\u001b[1;33m)\u001b[0m\u001b[1;33m)\u001b[0m\u001b[1;33m\u001b[0m\u001b[1;33m\u001b[0m\u001b[0m\n\u001b[0m\u001b[0;32m     16\u001b[0m     \u001b[0mitem\u001b[0m \u001b[1;33m=\u001b[0m \u001b[0mlaptop\u001b[0m\u001b[1;33m(\u001b[0m\u001b[1;33m)\u001b[0m\u001b[1;33m\u001b[0m\u001b[1;33m\u001b[0m\u001b[0m\n\u001b[0;32m     17\u001b[0m     \u001b[0mt\u001b[0m \u001b[1;33m=\u001b[0m \u001b[0mnum\u001b[0m \u001b[1;33m*\u001b[0m \u001b[0mitem\u001b[0m\u001b[1;33m\u001b[0m\u001b[1;33m\u001b[0m\u001b[0m\n",
      "\u001b[1;31mValueError\u001b[0m: invalid literal for int() with base 10: 'Dell'"
     ]
    }
   ],
   "source": [
    "def laptop():\n",
    "    HP = 90000\n",
    "    ASUS = 85000\n",
    "    Dell = 75000\n",
    "    Lenovo = 65000\n",
    "    return HP,ASUS,Dell,Lenovo\n",
    "HP,ASUS,Dell,Lenovo = laptop()\n",
    "\n",
    "s = []\n",
    "n = int(input(\"Enter the no. of items buys: \"))\n",
    "for i in range(n):\n",
    "    item = input(\"Enter the items buys: \")\n",
    "    num = int(input(\"Enter the no. of items: \"))\n",
    "    item = laptop()\n",
    "    t = num * item\n",
    "    s.append(t)\n",
    "print(t)\n",
    "\n",
    "# s = []\n",
    "# n = int(input(\"Enter the no. of items: \"))\n"
   ]
  },
  {
   "cell_type": "code",
   "execution_count": null,
   "metadata": {},
   "outputs": [],
   "source": []
  },
  {
   "cell_type": "code",
   "execution_count": 4,
   "metadata": {},
   "outputs": [
    {
     "name": "stdout",
     "output_type": "stream",
     "text": [
      "Enter: 1\n",
      "Enter name: HP\n",
      "Enter num: 5\n",
      "[7500]\n"
     ]
    }
   ],
   "source": [
    "def fun():\n",
    "    dell = 1500\n",
    "    HP = 6500\n",
    "    return dell\n",
    "    return HP\n",
    "\n",
    "s = []\n",
    "n = int(input(\"Enter: \"))\n",
    "for i in range(n):\n",
    "    name = input(\"Enter name: \")\n",
    "    num = int(input(\"Enter num: \"))\n",
    "    name = fun()\n",
    "    total = name * num\n",
    "    s.append(total)\n",
    "print(s)"
   ]
  },
  {
   "cell_type": "code",
   "execution_count": null,
   "metadata": {},
   "outputs": [],
   "source": []
  },
  {
   "cell_type": "code",
   "execution_count": 9,
   "metadata": {},
   "outputs": [
    {
     "name": "stdout",
     "output_type": "stream",
     "text": [
      "Enter the no. of items buys: 2\n",
      "Enter the items buys: Lenovo\n",
      "Enter the no. of items: 5\n",
      "Enter the items buys: Dell\n",
      "Enter the no. of items: 2\n",
      "[450000, 180000]\n"
     ]
    }
   ],
   "source": [
    "def laptop():\n",
    "    HP = 90000\n",
    "    ASUS = 85000\n",
    "    Dell = 75000\n",
    "    Lenovo = 65000\n",
    "    return HP\n",
    "    return ASUS\n",
    "    return Dell\n",
    "    return Lenovo\n",
    "\n",
    "s = []\n",
    "n = int(input(\"Enter the no. of items buys: \"))\n",
    "for i in range(n):\n",
    "    item = input(\"Enter the items buys: \")\n",
    "    num = int(input(\"Enter the no. of items: \"))\n",
    "    item = laptop()\n",
    "    t = num * item\n",
    "    s.append(t)\n",
    "print(s)\n",
    "\n",
    "# s = []\n",
    "# n = int(input(\"Enter the no. of items: \"))\n"
   ]
  },
  {
   "cell_type": "code",
   "execution_count": null,
   "metadata": {},
   "outputs": [],
   "source": []
  },
  {
   "cell_type": "code",
   "execution_count": null,
   "metadata": {},
   "outputs": [],
   "source": []
  }
 ],
 "metadata": {
  "kernelspec": {
   "display_name": "Python 3",
   "language": "python",
   "name": "python3"
  },
  "language_info": {
   "codemirror_mode": {
    "name": "ipython",
    "version": 3
   },
   "file_extension": ".py",
   "mimetype": "text/x-python",
   "name": "python",
   "nbconvert_exporter": "python",
   "pygments_lexer": "ipython3",
   "version": "3.8.5"
  }
 },
 "nbformat": 4,
 "nbformat_minor": 4
}
