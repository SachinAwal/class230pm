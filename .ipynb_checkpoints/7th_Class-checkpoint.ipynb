{
 "cells": [
  {
   "cell_type": "code",
   "execution_count": null,
   "metadata": {},
   "outputs": [],
   "source": [
    "# list\n",
    "# -multiple values accept\n",
    "# -mutuable data type\n",
    "# -indexing\n",
    "# -ordered\n",
    "# -duplicate members"
   ]
  },
  {
   "cell_type": "code",
   "execution_count": 2,
   "metadata": {},
   "outputs": [
    {
     "name": "stdout",
     "output_type": "stream",
     "text": [
      "['Apple', 'Ball', 'Cat', 'Dog']\n",
      "<class 'list'>\n",
      "4\n"
     ]
    }
   ],
   "source": [
    "a = ['Apple','Ball','Cat','Dog']\n",
    "print(a)\n",
    "print(type(a))\n",
    "print(len(a))"
   ]
  },
  {
   "cell_type": "code",
   "execution_count": 3,
   "metadata": {},
   "outputs": [
    {
     "data": {
      "text/plain": [
       "5"
      ]
     },
     "execution_count": 3,
     "metadata": {},
     "output_type": "execute_result"
    }
   ],
   "source": [
    "a = \"Apple\"\n",
    "len(a)"
   ]
  },
  {
   "cell_type": "code",
   "execution_count": 6,
   "metadata": {},
   "outputs": [
    {
     "name": "stdout",
     "output_type": "stream",
     "text": [
      "Apple\n",
      "Dog\n"
     ]
    }
   ],
   "source": [
    "a = ['Apple','Ball','Cat','Dog',]\n",
    "print(a[0])\n",
    "print(a[-1])"
   ]
  },
  {
   "cell_type": "code",
   "execution_count": 7,
   "metadata": {},
   "outputs": [
    {
     "name": "stdout",
     "output_type": "stream",
     "text": [
      "3\n"
     ]
    }
   ],
   "source": [
    "a = ['Apple','Ball','Cat','Dog',1,2,3]\n",
    "print(a[-1])"
   ]
  },
  {
   "cell_type": "code",
   "execution_count": 8,
   "metadata": {},
   "outputs": [
    {
     "name": "stdout",
     "output_type": "stream",
     "text": [
      "['Apple', 'Ball', 'Cat', 'Dog', 1]\n"
     ]
    }
   ],
   "source": [
    "a = ['Apple','Ball','Cat','Dog',1,2,3]\n",
    "print(a[0:5])"
   ]
  },
  {
   "cell_type": "code",
   "execution_count": 9,
   "metadata": {},
   "outputs": [
    {
     "name": "stdout",
     "output_type": "stream",
     "text": [
      "['Apple', 'Cat', 1, 3]\n"
     ]
    }
   ],
   "source": [
    "a = ['Apple','Ball','Cat','Dog',1,2,3]\n",
    "print(a[0:7:2])       #print(a[0::2])"
   ]
  },
  {
   "cell_type": "code",
   "execution_count": null,
   "metadata": {},
   "outputs": [],
   "source": [
    "a = ['Apple','Ball','Cat','Dog',1,2,3]\n",
    "print(a[0:7:2])"
   ]
  },
  {
   "cell_type": "code",
   "execution_count": 10,
   "metadata": {},
   "outputs": [
    {
     "name": "stdout",
     "output_type": "stream",
     "text": [
      "[3, 2, 1, 'Dog', 'Cat', 'Ball', 'Apple']\n"
     ]
    }
   ],
   "source": [
    "a = ['Apple','Ball','Cat','Dog',1,2,3]\n",
    "print(a[6::-1])"
   ]
  },
  {
   "cell_type": "code",
   "execution_count": 13,
   "metadata": {},
   "outputs": [
    {
     "name": "stdout",
     "output_type": "stream",
     "text": [
      "['Apple', 'Ball', 'Cat', 'Dog']\n",
      "['Cat', 'Dog', 'Apple', 'Ball']\n"
     ]
    }
   ],
   "source": [
    "a = [\"Apple\",\"Ball\"]\n",
    "b = [\"Cat\", \"Dog\"]\n",
    "print(a+b)\n",
    "print(b+a)"
   ]
  },
  {
   "cell_type": "code",
   "execution_count": 14,
   "metadata": {},
   "outputs": [
    {
     "name": "stdout",
     "output_type": "stream",
     "text": [
      "['Apple', 'Ball', 'Apple', 'Ball']\n"
     ]
    }
   ],
   "source": [
    "a = [\"Apple\", \"Apple\"]\n",
    "b = [\"Apple\",\"Ball\"]*2\n",
    "print(b)"
   ]
  },
  {
   "cell_type": "code",
   "execution_count": 16,
   "metadata": {},
   "outputs": [
    {
     "name": "stdout",
     "output_type": "stream",
     "text": [
      "[1, 2, 3, 4, 1, 2, 3, 4]\n"
     ]
    }
   ],
   "source": [
    "a = [1,2,3,4]*2\n",
    "print(a)"
   ]
  },
  {
   "cell_type": "code",
   "execution_count": 18,
   "metadata": {},
   "outputs": [
    {
     "name": "stdout",
     "output_type": "stream",
     "text": [
      "['Apple', 'Ball', 2]\n"
     ]
    }
   ],
   "source": [
    "a = ['Apple', 'Ball'] + [2]\n",
    "print(a)"
   ]
  },
  {
   "cell_type": "code",
   "execution_count": 19,
   "metadata": {},
   "outputs": [
    {
     "name": "stdout",
     "output_type": "stream",
     "text": [
      "['Ant', 'Ball', 'Cat']\n"
     ]
    }
   ],
   "source": [
    "# mutable data type examples\n",
    "a = ['Apple', 'Ball', 'Cat']\n",
    "a[0] = \"Ant\"\n",
    "print(a)"
   ]
  },
  {
   "cell_type": "code",
   "execution_count": 21,
   "metadata": {},
   "outputs": [
    {
     "name": "stdout",
     "output_type": "stream",
     "text": [
      "Enter the value of n: 5\n",
      "Enter the value of x: 565\n",
      "Enter the value of x: 56\n",
      "Enter the value of x: 23\n",
      "Enter the value of x: 56\n",
      "Enter the value of x: 45\n",
      "[565, 56, 23, 56, 45]\n"
     ]
    }
   ],
   "source": [
    "y = []\n",
    "n = int(input(\"Enter the value of n: \"))\n",
    "for i in range(n):\n",
    "    x = int(input(\"Enter the value of x: \"))\n",
    "    y.append(x)\n",
    "print(y)"
   ]
  },
  {
   "cell_type": "code",
   "execution_count": 22,
   "metadata": {},
   "outputs": [
    {
     "name": "stdout",
     "output_type": "stream",
     "text": [
      "Enter the value of n: 3\n",
      "Enter the value of x: 54\n",
      "[54]\n",
      "Enter the value of x: 45\n",
      "[54, 45]\n",
      "Enter the value of x: 45\n",
      "[54, 45, 45]\n",
      "[54, 45, 45]\n"
     ]
    }
   ],
   "source": [
    "y = []\n",
    "n = int(input(\"Enter the value of n: \"))\n",
    "for i in range(n):\n",
    "    x = int(input(\"Enter the value of x: \"))\n",
    "    y.append(x)\n",
    "    print(y)\n",
    "print(y)"
   ]
  },
  {
   "cell_type": "code",
   "execution_count": 23,
   "metadata": {},
   "outputs": [
    {
     "name": "stdout",
     "output_type": "stream",
     "text": [
      "Enter the value of n: 5\n",
      "Enter the value of x: 45\n",
      "[45]\n",
      "Enter the value of x: 12\n",
      "[45, 12]\n",
      "Enter the value of x: 56\n",
      "[45, 12, 56]\n",
      "Enter the value of x: 85\n",
      "[45, 12, 56, 85]\n",
      "Enter the value of x: 55\n",
      "[45, 12, 56, 85, 55]\n"
     ]
    }
   ],
   "source": [
    "y = []\n",
    "n = int(input(\"Enter the value of n: \"))\n",
    "for i in range(n):\n",
    "    x = int(input(\"Enter the value of x: \"))\n",
    "    y.append(x)\n",
    "    print(y)\n",
    "# print(y)"
   ]
  },
  {
   "cell_type": "code",
   "execution_count": 24,
   "metadata": {},
   "outputs": [
    {
     "name": "stdout",
     "output_type": "stream",
     "text": [
      "[45, 12, 56, 85, 55, 90]\n"
     ]
    }
   ],
   "source": [
    "a = [45, 12, 56, 85, 55]\n",
    "a.append(90)         # .append() =  adding value in list\n",
    "print(a)"
   ]
  },
  {
   "cell_type": "code",
   "execution_count": 25,
   "metadata": {},
   "outputs": [
    {
     "name": "stdout",
     "output_type": "stream",
     "text": [
      "[45, 12, 56, 99, 85, 55, 90]\n"
     ]
    }
   ],
   "source": [
    "a = [45, 12, 56, 85, 55, 90]\n",
    "a.insert(3,99)            # .insert(index, inserting value)\n",
    "print(a)"
   ]
  },
  {
   "cell_type": "code",
   "execution_count": 26,
   "metadata": {},
   "outputs": [
    {
     "name": "stdout",
     "output_type": "stream",
     "text": [
      "Enter the value of n: 5\n",
      "Enter the value of x: Ram\n",
      "Enter the value of x: Shyam\n",
      "Enter the value of x: Hari\n",
      "Enter the value of x: Krishna\n",
      "Enter the value of x: Laxman\n",
      "['Ram', 'Shyam', 'Hari', 'Krishna', 'Laxman']\n"
     ]
    }
   ],
   "source": [
    "y = []\n",
    "n = int(input(\"Enter the value of n: \"))\n",
    "for i in range(n):\n",
    "    x = input(\"Enter the value of x: \")\n",
    "    y.append(x)               # variable cannot be created in .append (list function)\n",
    "print(y)"
   ]
  },
  {
   "cell_type": "code",
   "execution_count": 27,
   "metadata": {},
   "outputs": [
    {
     "name": "stdout",
     "output_type": "stream",
     "text": [
      "Enter the value of n: 4\n",
      "Enter the value of x: ram\n",
      "Enter the value of x: haro\n",
      "Enter the value of x: gita\n",
      "Enter the value of x: sita\n",
      "['ram', 'haro', 'gita', 'sita']\n"
     ]
    }
   ],
   "source": [
    "y = []\n",
    "n = int(input(\"Enter the value of n: \"))\n",
    "for i in range(n):\n",
    "    x = input(\"Enter the value of x: \")\n",
    "    y = y+[x]            # using fucntion to add the values in list\n",
    "print(y)"
   ]
  },
  {
   "cell_type": "code",
   "execution_count": 29,
   "metadata": {},
   "outputs": [
    {
     "name": "stdout",
     "output_type": "stream",
     "text": [
      "Enter the value of n: 4\n",
      "Enter the value of x: 465\n",
      "Enter the value of x: 254\n",
      "Enter the value of x: 685\n",
      "Enter the value of x: 859\n",
      "The final data is: [465, 254, 685, 859]\n",
      "The maximum data is: 859\n",
      "The minimum data is: 254\n",
      "The sum data is: 2263\n"
     ]
    }
   ],
   "source": [
    "y = []\n",
    "n = int(input(\"Enter the value of n: \"))\n",
    "for i in range(n):\n",
    "    x = int(input(\"Enter the value of x: \"))\n",
    "    y.append(x)\n",
    "print(\"The final data is:\",y)\n",
    "print(\"The maximum data is:\", max(y))\n",
    "print(\"The minimum data is:\", min(y))\n",
    "print(\"The sum data is:\", sum(y))"
   ]
  },
  {
   "cell_type": "code",
   "execution_count": 31,
   "metadata": {},
   "outputs": [
    {
     "name": "stdout",
     "output_type": "stream",
     "text": [
      "The average value is: 565.75\n",
      "The final value is: [254, 465, 685, 859]\n",
      "The sorted value is: [254, 465, 685, 859]\n"
     ]
    }
   ],
   "source": [
    "print(\"The average value is:\", sum(y)/n)\n",
    "print(\"The final value is:\", y)\n",
    "y.sort()                          #arranging the value for ascending order\n",
    "print(\"The sorted value is:\", y)"
   ]
  },
  {
   "cell_type": "code",
   "execution_count": 32,
   "metadata": {},
   "outputs": [
    {
     "name": "stdout",
     "output_type": "stream",
     "text": [
      "[859, 685, 465, 254]\n"
     ]
    }
   ],
   "source": [
    "y.reverse()                       #arranging the value for descending order\n",
    "print(y)"
   ]
  },
  {
   "cell_type": "code",
   "execution_count": 34,
   "metadata": {},
   "outputs": [
    {
     "name": "stdout",
     "output_type": "stream",
     "text": [
      "['Apple', 'Cat', 'NUM', 'Zebra', 'ball']\n"
     ]
    }
   ],
   "source": [
    "a = [\"NUM\",\"Apple\", \"Zebra\", \"ball\", \"Cat\"]\n",
    "a.sort()\n",
    "print(a)"
   ]
  },
  {
   "cell_type": "code",
   "execution_count": 35,
   "metadata": {},
   "outputs": [
    {
     "name": "stdout",
     "output_type": "stream",
     "text": [
      "Apple\n",
      "Cat\n",
      "NUM\n",
      "Zebra\n",
      "ball\n"
     ]
    }
   ],
   "source": [
    "for i in a:\n",
    "    print(i)"
   ]
  },
  {
   "cell_type": "code",
   "execution_count": 37,
   "metadata": {
    "scrolled": true
   },
   "outputs": [
    {
     "name": "stdout",
     "output_type": "stream",
     "text": [
      "0 Apple\n",
      "1 Cat\n",
      "2 NUM\n",
      "3 Zebra\n",
      "4 ball\n"
     ]
    }
   ],
   "source": [
    "for i in range(len(a)):\n",
    "    print(i,a[i])"
   ]
  },
  {
   "cell_type": "code",
   "execution_count": 40,
   "metadata": {},
   "outputs": [
    {
     "name": "stdout",
     "output_type": "stream",
     "text": [
      "Yes 1\n"
     ]
    }
   ],
   "source": [
    "a = ['Apple', 'Cat', 'NUM', 'Zebra', 'ball']\n",
    "if  \"Apple\" in a:\n",
    "    print(\"Yes\", a.count(\"Apple\"))"
   ]
  },
  {
   "cell_type": "code",
   "execution_count": 41,
   "metadata": {},
   "outputs": [
    {
     "name": "stdout",
     "output_type": "stream",
     "text": [
      "Enter the value of search: Cat\n",
      "Yes 1\n"
     ]
    }
   ],
   "source": [
    "a = ['Apple', 'Cat', 'NUM', 'Zebra', 'ball']\n",
    "search = input(\"Enter the value of search: \")\n",
    "if search in a:\n",
    "    print(\"Yes\", a.count(search))"
   ]
  },
  {
   "cell_type": "code",
   "execution_count": 45,
   "metadata": {},
   "outputs": [
    {
     "name": "stdout",
     "output_type": "stream",
     "text": [
      "['apple', 'cat', 'num', 'zebra', 'ball']\n"
     ]
    }
   ],
   "source": [
    "a = ['Apple', 'Cat', 'NUM', 'Zebra', 'ball']\n",
    "b = []\n",
    "for i in a:\n",
    "    j = i.lower()\n",
    "    b.append(j)\n",
    "print(b)"
   ]
  },
  {
   "cell_type": "code",
   "execution_count": 50,
   "metadata": {},
   "outputs": [
    {
     "name": "stdout",
     "output_type": "stream",
     "text": [
      "Enter the value of search: apple\n",
      "Yes\n",
      "Yes\n"
     ]
    }
   ],
   "source": [
    "a = ['Apple', 'Cat', 'NUM', 'Zebra', 'ball', 'Apple']\n",
    "search = input(\"Enter the value of search: \").lower()\n",
    "for i in range(len(a)):\n",
    "    if search in a[i].lower():\n",
    "        print(\"Yes\")"
   ]
  },
  {
   "cell_type": "code",
   "execution_count": 56,
   "metadata": {},
   "outputs": [
    {
     "name": "stdout",
     "output_type": "stream",
     "text": [
      "Enter the value of search: appl\n",
      "Yes\n"
     ]
    }
   ],
   "source": [
    "a = ['Apple', 'Cat', 'NUM', 'Zebra', 'ball', 'Apple']\n",
    "search = input(\"Enter the value of search: \").lower()\n",
    "for i in range(len(a)):\n",
    "    if search in a[i].lower():\n",
    "        print(\"Yes\")\n",
    "        break"
   ]
  },
  {
   "cell_type": "code",
   "execution_count": null,
   "metadata": {},
   "outputs": [],
   "source": []
  },
  {
   "cell_type": "code",
   "execution_count": null,
   "metadata": {},
   "outputs": [],
   "source": []
  }
 ],
 "metadata": {
  "kernelspec": {
   "display_name": "Python 3",
   "language": "python",
   "name": "python3"
  },
  "language_info": {
   "codemirror_mode": {
    "name": "ipython",
    "version": 3
   },
   "file_extension": ".py",
   "mimetype": "text/x-python",
   "name": "python",
   "nbconvert_exporter": "python",
   "pygments_lexer": "ipython3",
   "version": "3.8.5"
  }
 },
 "nbformat": 4,
 "nbformat_minor": 4
}
