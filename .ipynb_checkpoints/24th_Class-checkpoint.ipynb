{
 "cells": [
  {
   "cell_type": "code",
   "execution_count": null,
   "metadata": {},
   "outputs": [],
   "source": [
    "# Operator Overloading"
   ]
  },
  {
   "cell_type": "code",
   "execution_count": null,
   "metadata": {},
   "outputs": [],
   "source": [
    "class Point:\n",
    "    def __init__(self, x=0,y=0):\n",
    "        self.x = x\n",
    "        self.y =y\n",
    "    def __str__(self):        # string representation or class\n",
    "        return \"({0},{1})\".format(self.x,self.y)\n",
    "    def __add__(self,other):\n",
    "        x = self.x + other.x\n",
    "        y = self.y + other.y\n",
    "        return Point(x,y)\n",
    "p1 = Point(2,3)\n",
    "p2 = Point(-1,2)\n",
    "print(p1 + p2)"
   ]
  },
  {
   "cell_type": "code",
   "execution_count": 1,
   "metadata": {},
   "outputs": [
    {
     "name": "stdout",
     "output_type": "stream",
     "text": [
      "1,5\n"
     ]
    }
   ],
   "source": [
    "class Point:\n",
    "    def __init__(self, x=0,y=0):\n",
    "        self.x = x\n",
    "        self.y =y\n",
    "    def __str__(self):        # string representation or class\n",
    "        return f\"{self.x},{self.y}\"\n",
    "    def __add__(self,other):\n",
    "        x = self.x + other.x\n",
    "        y = self.y + other.y\n",
    "        return Point(x,y)\n",
    "p1 = Point(2,3)\n",
    "p2 = Point(-1,2)\n",
    "print(p1 + p2)       #two object can only be added while in string"
   ]
  },
  {
   "cell_type": "code",
   "execution_count": 3,
   "metadata": {},
   "outputs": [
    {
     "name": "stdout",
     "output_type": "stream",
     "text": [
      "4000\n"
     ]
    }
   ],
   "source": [
    "class Product:\n",
    "    def __init__(self, x=0):\n",
    "        self.x = x\n",
    "    def __str__(self):        # string representation or class\n",
    "        return f\"{self.x}\"\n",
    "    def __add__(self,other):\n",
    "        x = self.x + other.x\n",
    "        return Product(x)        #recursive function\n",
    "p1 = Product(1000)\n",
    "p2 = Product(3000)\n",
    "print(p1 + p2)       #two object can only be added while in string"
   ]
  },
  {
   "cell_type": "code",
   "execution_count": 2,
   "metadata": {},
   "outputs": [
    {
     "name": "stdout",
     "output_type": "stream",
     "text": [
      "6000\n"
     ]
    }
   ],
   "source": [
    "class Product:\n",
    "    def __init__(self, x=0):\n",
    "        self.x = x\n",
    "    def __str__(self):        # string representation or class\n",
    "        return f\"{self.x}\"\n",
    "    def __add__(self,other):\n",
    "        x = self.x + other.x\n",
    "        return Product(x)\n",
    "p1 = Product(1000)\n",
    "p2 = Product(3000)\n",
    "p3 = Product(2000)\n",
    "print(p1 +p2 +p3)       #two object can only be added while in string"
   ]
  },
  {
   "cell_type": "code",
   "execution_count": 4,
   "metadata": {},
   "outputs": [
    {
     "name": "stdout",
     "output_type": "stream",
     "text": [
      "This is init method 1000\n",
      "This is init method 3000\n",
      "This is init method 2000\n",
      "This is add method 4000\n",
      "This is init method 4000\n",
      "This is add method 6000\n",
      "This is init method 6000\n",
      "6000\n"
     ]
    }
   ],
   "source": [
    "class Product:\n",
    "    def __init__(self, x=0):\n",
    "        self.x = x\n",
    "        print(\"This is init method\",self.x)\n",
    "    def __str__(self):        # string representation or class\n",
    "        return f\"{self.x}\"\n",
    "    def __add__(self,other):\n",
    "        x = self.x + other.x\n",
    "        print(\"This is add method\",x)\n",
    "        return Product(x)\n",
    "p1 = Product(1000)\n",
    "p2 = Product(3000)\n",
    "p3 = Product(2000)\n",
    "print(p1 +p2 +p3)       #two object can only be added while in string"
   ]
  },
  {
   "cell_type": "code",
   "execution_count": null,
   "metadata": {},
   "outputs": [],
   "source": [
    "# Decorators"
   ]
  },
  {
   "cell_type": "code",
   "execution_count": 5,
   "metadata": {},
   "outputs": [
    {
     "name": "stdout",
     "output_type": "stream",
     "text": [
      "Hello World\n"
     ]
    }
   ],
   "source": [
    "# Function inside function\n",
    "def outer_function():\n",
    "    value = \"Hello World\"\n",
    "    def inner_function():\n",
    "        print(value)\n",
    "    return inner_function()\n",
    "\n",
    "outer_function()"
   ]
  },
  {
   "cell_type": "code",
   "execution_count": 6,
   "metadata": {},
   "outputs": [
    {
     "name": "stdout",
     "output_type": "stream",
     "text": [
      "Hello World\n"
     ]
    }
   ],
   "source": [
    "# Function inside function\n",
    "value = \"Hello World\"\n",
    "def outer_function(x):\n",
    "    def inner_function():\n",
    "        print(x)\n",
    "    return inner_function()\n",
    "\n",
    "outer_function(value)"
   ]
  },
  {
   "cell_type": "code",
   "execution_count": 7,
   "metadata": {},
   "outputs": [
    {
     "name": "stdout",
     "output_type": "stream",
     "text": [
      "Hello World\n"
     ]
    }
   ],
   "source": [
    "# Function inside function with Decorators\n",
    "def outer_function(fun):\n",
    "    def inner_function():\n",
    "        x = fun()\n",
    "    return inner_function()           # callable function\n",
    "\n",
    "@outer_function     # Decorators is use as '@' and must be callthe main or outer function\n",
    "def hello():\n",
    "    print(\"Hello World\")"
   ]
  },
  {
   "cell_type": "code",
   "execution_count": 8,
   "metadata": {},
   "outputs": [
    {
     "data": {
      "text/plain": [
       "'hello world'"
      ]
     },
     "execution_count": 8,
     "metadata": {},
     "output_type": "execute_result"
    }
   ],
   "source": [
    "def strings(function):\n",
    "    def wrapper():\n",
    "        fun = function()\n",
    "        x = fun.lower()\n",
    "        return x\n",
    "    return wrapper           # non-callable function\n",
    "\n",
    "@strings\n",
    "def info():\n",
    "    return 'Hello World'\n",
    "info()"
   ]
  },
  {
   "cell_type": "code",
   "execution_count": null,
   "metadata": {},
   "outputs": [],
   "source": [
    "@login required   # pre define decorator in django"
   ]
  },
  {
   "cell_type": "code",
   "execution_count": 10,
   "metadata": {},
   "outputs": [
    {
     "data": {
      "text/plain": [
       "['hello', 'world']"
      ]
     },
     "execution_count": 10,
     "metadata": {},
     "output_type": "execute_result"
    }
   ],
   "source": [
    "def strings(function):\n",
    "    def wrapper():\n",
    "        fun = function()\n",
    "        x = fun.lower()\n",
    "        return x\n",
    "    return wrapper \n",
    "\n",
    "def split_string(function):\n",
    "    def wrappe():\n",
    "        func = function()\n",
    "        splitted_string = func.split()\n",
    "        return splitted_string\n",
    "    return wrappe\n",
    "\n",
    "@split_string\n",
    "@strings\n",
    "def info():\n",
    "    return 'Hello World'\n",
    "info()"
   ]
  },
  {
   "cell_type": "code",
   "execution_count": null,
   "metadata": {},
   "outputs": [],
   "source": []
  },
  {
   "cell_type": "code",
   "execution_count": null,
   "metadata": {},
   "outputs": [],
   "source": []
  },
  {
   "cell_type": "code",
   "execution_count": null,
   "metadata": {},
   "outputs": [],
   "source": []
  },
  {
   "cell_type": "code",
   "execution_count": null,
   "metadata": {},
   "outputs": [],
   "source": []
  }
 ],
 "metadata": {
  "kernelspec": {
   "display_name": "Python 3",
   "language": "python",
   "name": "python3"
  },
  "language_info": {
   "codemirror_mode": {
    "name": "ipython",
    "version": 3
   },
   "file_extension": ".py",
   "mimetype": "text/x-python",
   "name": "python",
   "nbconvert_exporter": "python",
   "pygments_lexer": "ipython3",
   "version": "3.8.5"
  }
 },
 "nbformat": 4,
 "nbformat_minor": 4
}
