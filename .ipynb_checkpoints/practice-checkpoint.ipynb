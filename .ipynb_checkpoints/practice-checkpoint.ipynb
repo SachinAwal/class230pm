{
 "cells": [
  {
   "cell_type": "code",
   "execution_count": 21,
   "metadata": {},
   "outputs": [
    {
     "name": "stdout",
     "output_type": "stream",
     "text": [
      "Enter the value for x: 111\n",
      "A\n"
     ]
    }
   ],
   "source": [
    "class Grade:\n",
    "    def grade(self, x):     \n",
    "        if x>=80 and x<=100:\n",
    "            return \"A\"\n",
    "        if x>=70 and x<80:\n",
    "            return \"B\"\n",
    "        if x>=60 and x<70:\n",
    "            return \"C\"\n",
    "        if x>=45 and x<60:\n",
    "            return \"D\"\n",
    "        if x>0 and x<45:\n",
    "            return \"Fail\"\n",
    "        \n",
    "obj = Grade()\n",
    "try:\n",
    "    x = int(input(\"Enter the value for x: \"))\n",
    "    if x<1 or x >100:\n",
    "        raise TypeError\n",
    "except: #TypeError:\n",
    "    pass\n",
    "#     if x<1 and x >100:\n",
    "#     print(\"The value must be not exceed to 100.\")\n",
    "b = obj.grade(x)\n",
    "print(b)\n",
    "# except:\n",
    "#     \n",
    "\n"
   ]
  },
  {
   "cell_type": "code",
   "execution_count": 22,
   "metadata": {},
   "outputs": [
    {
     "name": "stdout",
     "output_type": "stream",
     "text": [
      "Enter score:1.9\n",
      "Grade is F\n"
     ]
    }
   ],
   "source": [
    "try:\n",
    "    score = float(input('Enter score:'))\n",
    "    if score >= 0.9 and score <= 1.0: \n",
    "        print(\"Grade is A\") \n",
    "    elif score >= 0.8 and score < 0.9: \n",
    "            print(\"Grade is B\")\n",
    "    elif score >= 0.7 and score < 0.8: \n",
    "            print(\"Grade is C\") \n",
    "    elif score >=0.6 and score < 0.7: \n",
    "            print(\"Grade is D\") \n",
    "    else: \n",
    "        print(\"Grade is F\") \n",
    "except: \n",
    "    print('bad score')"
   ]
  },
  {
   "cell_type": "code",
   "execution_count": 42,
   "metadata": {},
   "outputs": [
    {
     "name": "stdout",
     "output_type": "stream",
     "text": [
      "Enter the value of x: 79\n",
      "B\n"
     ]
    }
   ],
   "source": [
    "def grade():\n",
    "    try:\n",
    "        x = int(input(\"Enter the value of x: \"))\n",
    "        if x>=1 and x<=100:\n",
    "            if x>=80 and x<=100:\n",
    "                print(\"A\")\n",
    "            elif x>=70 and x<80:\n",
    "                print(\"B\")\n",
    "            elif x>=60 and x<70:\n",
    "                print(\"C\")\n",
    "            elif x>=45 and x<60:\n",
    "                print(\"D\")\n",
    "            else:\n",
    "                print(\"Fail\")\n",
    "        else:\n",
    "            raise TypeError\n",
    "    except TypeError:\n",
    "        print(\"The value must not exceed to 100.\")\n",
    "        grade()\n",
    "grade()\n"
   ]
  },
  {
   "cell_type": "code",
   "execution_count": null,
   "metadata": {},
   "outputs": [],
   "source": []
  },
  {
   "cell_type": "code",
   "execution_count": null,
   "metadata": {},
   "outputs": [],
   "source": []
  }
 ],
 "metadata": {
  "kernelspec": {
   "display_name": "Python 3",
   "language": "python",
   "name": "python3"
  },
  "language_info": {
   "codemirror_mode": {
    "name": "ipython",
    "version": 3
   },
   "file_extension": ".py",
   "mimetype": "text/x-python",
   "name": "python",
   "nbconvert_exporter": "python",
   "pygments_lexer": "ipython3",
   "version": "3.8.5"
  }
 },
 "nbformat": 4,
 "nbformat_minor": 4
}
