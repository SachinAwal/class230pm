{
 "cells": [
  {
   "cell_type": "code",
   "execution_count": 2,
   "metadata": {},
   "outputs": [
    {
     "name": "stdout",
     "output_type": "stream",
     "text": [
      "Enter the operator a,b,c,d = a\n",
      "Enter the first number: 15\n",
      "Enter the second number: 5\n",
      "20\n"
     ]
    }
   ],
   "source": [
    "def add(x,y):\n",
    "    return x+y\n",
    "def sub(x,y):\n",
    "    return x-y\n",
    "def mul(x,y):\n",
    "    return x*y\n",
    "def div(x,y):\n",
    "    return x/y\n",
    "\n",
    "o = input(\"Enter the operator a,b,c,d = \")\n",
    "x = int(input(\"Enter the first number: \"))\n",
    "y = int(input(\"Enter the second number: \"))\n",
    "\n",
    "# operation = input(\"Enter the operator(+,-,)\")\n",
    "# a = add(x,y)\n",
    "# s = sub(x,y)\n",
    "# m = mul(x,y)\n",
    "# d = div(x,y)\n",
    "\n",
    "if o == 'a':  \n",
    "    print(add(x,y))  \n",
    "elif o == 'b':\n",
    "    print(sub(a,b))  \n",
    "elif o == 'c':\n",
    "    print(mul(x,y))  \n",
    "elif o == 'd':\n",
    "    print(div(x,y))  \n",
    "else:\n",
    "    print(\"Invalid Input\")\n"
   ]
  },
  {
   "cell_type": "code",
   "execution_count": null,
   "metadata": {},
   "outputs": [],
   "source": []
  }
 ],
 "metadata": {
  "kernelspec": {
   "display_name": "Python 3",
   "language": "python",
   "name": "python3"
  },
  "language_info": {
   "codemirror_mode": {
    "name": "ipython",
    "version": 3
   },
   "file_extension": ".py",
   "mimetype": "text/x-python",
   "name": "python",
   "nbconvert_exporter": "python",
   "pygments_lexer": "ipython3",
   "version": "3.8.5"
  }
 },
 "nbformat": 4,
 "nbformat_minor": 4
}
