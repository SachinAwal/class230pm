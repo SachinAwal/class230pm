{
 "cells": [
  {
   "cell_type": "code",
   "execution_count": 5,
   "metadata": {},
   "outputs": [
    {
     "name": "stdout",
     "output_type": "stream",
     "text": [
      "[[], [], [], []]\n",
      "<class 'list'>\n",
      "4\n"
     ]
    }
   ],
   "source": [
    "# list inside list\n",
    "a = [[],[],[],[]]\n",
    "print(a)\n",
    "print(type(a))\n",
    "print(len(a))"
   ]
  },
  {
   "cell_type": "code",
   "execution_count": 10,
   "metadata": {},
   "outputs": [
    {
     "data": {
      "text/plain": [
       "6"
      ]
     },
     "execution_count": 10,
     "metadata": {},
     "output_type": "execute_result"
    }
   ],
   "source": [
    "a = [[1,2,3],                           # a = [[1,2,3],[4,5,6],[7,8,9]]\n",
    "     [4,5,6],\n",
    "     [7,8,9]]\n",
    "a[1][2]"
   ]
  },
  {
   "cell_type": "code",
   "execution_count": 15,
   "metadata": {},
   "outputs": [
    {
     "name": "stdout",
     "output_type": "stream",
     "text": [
      "Enter the value of n: 2\n",
      "Enter the name: ram\n",
      "Enter the phone no.: 9862535685\n",
      "Enter the name: shyam\n",
      "Enter the phone no.: 9852625359\n",
      "[['ram', 9862535685], ['shyam', 9852625359]]\n"
     ]
    }
   ],
   "source": [
    "a = []\n",
    "n = int(input(\"Enter the value of n: \"))\n",
    "for i in range(n):\n",
    "    name = input(\"Enter the name: \")\n",
    "    phone = int(input(\"Enter the phone no.: \"))\n",
    "    info = [name,phone]\n",
    "    a.append(info)\n",
    "print(a)"
   ]
  },
  {
   "cell_type": "code",
   "execution_count": 2,
   "metadata": {},
   "outputs": [
    {
     "name": "stdout",
     "output_type": "stream",
     "text": [
      "Enter the value of n: 2\n",
      "Enter the name: ram\n",
      "Enter the phone no.: 9862585965\n",
      "Enter the name: shyam\n",
      "Enter the phone no.: 9862535656\n",
      "[[1, 'ram', 9862585965], [2, 'shyam', 9862535656]]\n"
     ]
    }
   ],
   "source": [
    "a = []\n",
    "n = int(input(\"Enter the value of n: \"))\n",
    "for i in range(1,n+1):\n",
    "    name = input(\"Enter the name: \")\n",
    "    phone = int(input(\"Enter the phone no.: \"))\n",
    "    info = [i,name,phone]\n",
    "    a.append(info)\n",
    "print(a)"
   ]
  },
  {
   "cell_type": "code",
   "execution_count": 5,
   "metadata": {},
   "outputs": [
    {
     "name": "stdout",
     "output_type": "stream",
     "text": [
      "Enter the sn value: 2\n",
      "The data is  [2, 'shyam', 9862535656]\n"
     ]
    }
   ],
   "source": [
    "sn = int(input(\"Enter the sn value: \"))\n",
    "print(\"The data is \", a[sn-1])"
   ]
  },
  {
   "cell_type": "code",
   "execution_count": null,
   "metadata": {},
   "outputs": [],
   "source": [
    "# list inside list\n",
    "# -multiple values accept\n",
    "# -mutable data type\n",
    "# -indexing\n",
    "# -ordered\n",
    "# -duplicate members"
   ]
  },
  {
   "cell_type": "code",
   "execution_count": 6,
   "metadata": {},
   "outputs": [
    {
     "data": {
      "text/plain": [
       "[[1, 2, 3], [1, 2, 3]]"
      ]
     },
     "execution_count": 6,
     "metadata": {},
     "output_type": "execute_result"
    }
   ],
   "source": [
    "# -multiple values accept\n",
    "a = [[1,2,3]]\n",
    "a*2"
   ]
  },
  {
   "cell_type": "code",
   "execution_count": 7,
   "metadata": {},
   "outputs": [
    {
     "name": "stdout",
     "output_type": "stream",
     "text": [
      "[['apple', 'ant'], ['Ball', 'Bat']]\n"
     ]
    }
   ],
   "source": [
    "# -mutable data type\n",
    "a = [['Apple','Ant'], ['Ball','Bat']]\n",
    "a[0] = ['apple','ant']\n",
    "print(a)"
   ]
  },
  {
   "cell_type": "code",
   "execution_count": 8,
   "metadata": {},
   "outputs": [
    {
     "name": "stdout",
     "output_type": "stream",
     "text": [
      "[['apple', 'Ant'], ['Ball', 'Bat']]\n"
     ]
    }
   ],
   "source": [
    "a = [['Apple','Ant'], ['Ball','Bat']]\n",
    "a[0][0] = 'apple'\n",
    "print(a)"
   ]
  },
  {
   "cell_type": "code",
   "execution_count": 9,
   "metadata": {},
   "outputs": [
    {
     "name": "stdout",
     "output_type": "stream",
     "text": [
      "[[['apple'], 'Ant'], ['Ball', 'Bat']]\n"
     ]
    }
   ],
   "source": [
    "a = [['Apple','Ant'], ['Ball','Bat']]\n",
    "a[0][0] = ['apple']\n",
    "print(a)"
   ]
  },
  {
   "cell_type": "code",
   "execution_count": 14,
   "metadata": {},
   "outputs": [
    {
     "data": {
      "text/plain": [
       "['Apple', 'Ant', 'Ball', 'Bat']"
      ]
     },
     "execution_count": 14,
     "metadata": {},
     "output_type": "execute_result"
    }
   ],
   "source": [
    "a = ['Apple','Ant']\n",
    "b = ['Ball','Bat']\n",
    "a+b"
   ]
  },
  {
   "cell_type": "code",
   "execution_count": 15,
   "metadata": {},
   "outputs": [
    {
     "data": {
      "text/plain": [
       "[['Apple', 'Ant'], ['Ball', 'Bat']]"
      ]
     },
     "execution_count": 15,
     "metadata": {},
     "output_type": "execute_result"
    }
   ],
   "source": [
    "a = [['Apple','Ant']]\n",
    "b = [['Ball','Bat']]\n",
    "a+b"
   ]
  },
  {
   "cell_type": "code",
   "execution_count": 17,
   "metadata": {},
   "outputs": [
    {
     "name": "stdout",
     "output_type": "stream",
     "text": [
      "Enter the value of n: 2\n",
      "Enter the name: ram\n",
      "Enter the phone no.: 9856235689\n",
      "Enter the name: shyam\n",
      "Enter the phone no.: 8956235658\n",
      "[[1, 'ram', 9856235689], [2, 'shyam', 8956235658]]\n"
     ]
    }
   ],
   "source": [
    "a = []\n",
    "n = int(input(\"Enter the value of n: \"))\n",
    "for i in range(1,n+1):\n",
    "    name = input(\"Enter the name: \")\n",
    "    phone = int(input(\"Enter the phone no.: \"))\n",
    "    info = [[i,name,phone]]\n",
    "    a += info\n",
    "print(a)"
   ]
  },
  {
   "cell_type": "code",
   "execution_count": 18,
   "metadata": {},
   "outputs": [
    {
     "name": "stdout",
     "output_type": "stream",
     "text": [
      "Enter the value of n: 2\n",
      "Enter the name: ram\n",
      "Enter the phone no.: 9856235689\n",
      "Enter the name: shyam\n",
      "Enter the phone no.: 9856235689\n",
      "[[1, 'ram', 9856235689], [2, 'shyam', 9856235689]]\n"
     ]
    }
   ],
   "source": [
    "a = []\n",
    "n = int(input(\"Enter the value of n: \"))\n",
    "for i in range(1,n+1):\n",
    "    name = input(\"Enter the name: \")\n",
    "    phone = int(input(\"Enter the phone no.: \"))\n",
    "    info = [i,name,phone]\n",
    "    a.append(info)\n",
    "print(a)"
   ]
  },
  {
   "cell_type": "code",
   "execution_count": 23,
   "metadata": {},
   "outputs": [
    {
     "name": "stdout",
     "output_type": "stream",
     "text": [
      "Enter the name for search: ram\n",
      "[1, 'ram', 9856235689]\n"
     ]
    }
   ],
   "source": [
    "# a = []\n",
    "# n = int(input(\"Enter the value of n: \"))\n",
    "# for i in range(1,n+1):\n",
    "#     name = input(\"Enter the name: \")\n",
    "#     phone = int(input(\"Enter the phone no.: \"))\n",
    "#     info = [i,name,phone]\n",
    "#     a.append(info)\n",
    "# print(a)\n",
    "\n",
    "name = input(\"Enter the name for search: \")\n",
    "for j in a:\n",
    "    if name in j:\n",
    "        print(j)"
   ]
  },
  {
   "cell_type": "code",
   "execution_count": 26,
   "metadata": {},
   "outputs": [
    {
     "name": "stdout",
     "output_type": "stream",
     "text": [
      "Enter the name for search: ram\n",
      "[1, 'ram', 9856235689]\n"
     ]
    }
   ],
   "source": [
    "name = input(\"Enter the name for search: \").lower()\n",
    "for j in a:\n",
    "    if name in j[1].lower():\n",
    "        print(j)"
   ]
  },
  {
   "cell_type": "code",
   "execution_count": 27,
   "metadata": {},
   "outputs": [
    {
     "name": "stdout",
     "output_type": "stream",
     "text": [
      "Enter the value of n: 2\n",
      "Enter the name: RAM\n",
      "Enter the phone no.: 9863525865\n",
      "Enter the name: SHYAM\n",
      "Enter the phone no.: 9863526595\n",
      "[[1, 'RAM', 9863525865], [2, 'SHYAM', 9863526595]]\n",
      "Enter the name for search: ram\n",
      "[1, 'RAM', 9863525865]\n"
     ]
    }
   ],
   "source": [
    "a = []\n",
    "n = int(input(\"Enter the value of n: \"))\n",
    "for i in range(1,n+1):\n",
    "    name = input(\"Enter the name: \")\n",
    "    phone = int(input(\"Enter the phone no.: \"))\n",
    "    info = [i,name,phone]\n",
    "    a.append(info)\n",
    "print(a)\n",
    "\n",
    "name = input(\"Enter the name for search: \").lower()\n",
    "for j in a:\n",
    "    if name in j[1].lower():\n",
    "        print(j)"
   ]
  },
  {
   "cell_type": "code",
   "execution_count": 28,
   "metadata": {},
   "outputs": [
    {
     "name": "stdout",
     "output_type": "stream",
     "text": [
      "Enter the name for search: ram\n",
      "[[2, 'SHYAM', 9863526595]]\n"
     ]
    }
   ],
   "source": [
    "# deleting codde in list\n",
    "a = [[1, 'RAM', 9863525865], [2, 'SHYAM', 9863526595]]\n",
    "name = input(\"Enter the name for search: \").lower()\n",
    "for j in a:\n",
    "    if name in j[1].lower():\n",
    "        a.remove(j)\n",
    "print(a)"
   ]
  },
  {
   "cell_type": "code",
   "execution_count": 29,
   "metadata": {},
   "outputs": [
    {
     "name": "stdout",
     "output_type": "stream",
     "text": [
      "Enter the name for search: ram\n",
      "Enter the change value: RAM PRASAD\n",
      "[[1, 'RAM PRASAD', 9863525865], [2, 'SHYAM', 9863526595]]\n"
     ]
    }
   ],
   "source": [
    "# deleting codde in list\n",
    "a = [[1, 'RAM', 9863525865], [2, 'SHYAM', 9863526595]]\n",
    "name = input(\"Enter the name for search: \").lower()\n",
    "for j in a:\n",
    "    if name in j[1].lower():\n",
    "        j[1] = input(\"Enter the change value: \")\n",
    "print(a)"
   ]
  },
  {
   "cell_type": "code",
   "execution_count": null,
   "metadata": {},
   "outputs": [],
   "source": [
    "# WAP to make the result management system"
   ]
  },
  {
   "cell_type": "code",
   "execution_count": null,
   "metadata": {},
   "outputs": [],
   "source": []
  },
  {
   "cell_type": "code",
   "execution_count": null,
   "metadata": {},
   "outputs": [],
   "source": []
  },
  {
   "cell_type": "code",
   "execution_count": null,
   "metadata": {},
   "outputs": [],
   "source": []
  },
  {
   "cell_type": "code",
   "execution_count": null,
   "metadata": {},
   "outputs": [],
   "source": []
  }
 ],
 "metadata": {
  "kernelspec": {
   "display_name": "Python 3",
   "language": "python",
   "name": "python3"
  },
  "language_info": {
   "codemirror_mode": {
    "name": "ipython",
    "version": 3
   },
   "file_extension": ".py",
   "mimetype": "text/x-python",
   "name": "python",
   "nbconvert_exporter": "python",
   "pygments_lexer": "ipython3",
   "version": "3.8.5"
  }
 },
 "nbformat": 4,
 "nbformat_minor": 4
}
