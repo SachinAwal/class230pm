{
 "cells": [
  {
   "cell_type": "code",
   "execution_count": 11,
   "metadata": {},
   "outputs": [
    {
     "name": "stdout",
     "output_type": "stream",
     "text": [
      "Enter the value of search: apple\n",
      "Yes\n",
      "1\n"
     ]
    }
   ],
   "source": [
    "a = ['Apple', 'Cat', 'NUM', 'Zebra', 'ball', 'Apple']\n",
    "search = input(\"Enter the value of search: \").lower()\n",
    "for i in range(len(a)):\n",
    "    if search in a[i].lower():\n",
    "        print(\"Yes\")\n",
    "        break\n"
   ]
  },
  {
   "cell_type": "code",
   "execution_count": 39,
   "metadata": {},
   "outputs": [
    {
     "name": "stdout",
     "output_type": "stream",
     "text": [
      "Enter the value of search: zebra\n",
      "2\n"
     ]
    }
   ],
   "source": [
    "a = ['Apple', 'Cat', 'NUM', 'Zebra', 'ball','zebra', \"apple\", \"Apple\", 'ball']\n",
    "search = input(\"Enter the value of search: \").lower()\n",
    "x = []\n",
    "for i in range(len(a)):\n",
    "    if search in a[i].lower():\n",
    "        x.append(search)\n",
    "print(x.count(search))"
   ]
  },
  {
   "cell_type": "code",
   "execution_count": null,
   "metadata": {},
   "outputs": [],
   "source": []
  }
 ],
 "metadata": {
  "kernelspec": {
   "display_name": "Python 3",
   "language": "python",
   "name": "python3"
  },
  "language_info": {
   "codemirror_mode": {
    "name": "ipython",
    "version": 3
   },
   "file_extension": ".py",
   "mimetype": "text/x-python",
   "name": "python",
   "nbconvert_exporter": "python",
   "pygments_lexer": "ipython3",
   "version": "3.8.5"
  }
 },
 "nbformat": 4,
 "nbformat_minor": 4
}
