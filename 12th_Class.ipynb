{
 "cells": [
  {
   "cell_type": "code",
   "execution_count": null,
   "metadata": {},
   "outputs": [],
   "source": [
    "# WAP for billing (accounting) for a shop (CRUD-(Create,Read,Update,Delete) Operation)\n",
    "# WAP for result management system(CRUD operation)\n",
    "\n",
    "# WAP to get the maximum and minimum value in a dictionary\n",
    "# WAP to remove duplicates from dictionary\n",
    "# WAP to change ay key or index of a dictionary\n",
    "# WAP to drop empty items from a given dictionary. go to the editor\n",
    "#     original dictionary:\n",
    "#     {'c1':'Red','c2':'Green','c3':None}\n",
    "#     New Dictionary after dropping empty items:\n",
    "#      {'c1':'Red','c2':'Green'}"
   ]
  },
  {
   "cell_type": "code",
   "execution_count": 6,
   "metadata": {
    "scrolled": true
   },
   "outputs": [
    {
     "name": "stdout",
     "output_type": "stream",
     "text": [
      "Enter the no. of students: 2\n",
      "Enter the name: Ram\n",
      "Enter the marks in physics: 95\n",
      "Enter the marks in chemistry: 90\n",
      "Enter the marks in maths: 95\n",
      "Enter the marks in computer: 85\n",
      "Enter the name: Shyam\n",
      "Enter the marks in physics: 75\n",
      "Enter the marks in chemistry: 65\n",
      "Enter the marks in maths: 55\n",
      "Enter the marks in computer: 80\n",
      "The result of the student are:\n",
      " {1: ['Ram', 95, 90, 95, 85, 365, 91.25, 'A'], 2: ['Shyam', 75, 65, 55, 80, 275, 68.75, 'B']}\n"
     ]
    }
   ],
   "source": [
    "def avg():\n",
    "    total = (total_obtained/total_marks) * 100\n",
    "    return total\n",
    "def grade():\n",
    "    if percentage>=80:\n",
    "        return \"A\"\n",
    "    elif percentage>=60:\n",
    "        return \"B\"\n",
    "    elif percentage>=50:\n",
    "        return \"C\"\n",
    "    elif percentage>=40:\n",
    "        return \"D\"\n",
    "    else:\n",
    "        return \"Fail\"\n",
    "\n",
    "rslt = {}\n",
    "std = int(input(\"Enter the no. of students: \"))\n",
    "for i in range(1,std+1):\n",
    "    name = input(\"Enter the name: \")\n",
    "    physics = int(input(\"Enter the marks in physics: \"))\n",
    "    chemistry = int(input(\"Enter the marks in chemistry: \"))\n",
    "    maths = int(input(\"Enter the marks in maths: \"))\n",
    "    computer = int(input(\"Enter the marks in computer: \"))\n",
    "    total_obtained = physics + chemistry + maths + computer\n",
    "    total_marks = 400\n",
    "    percentage = avg()\n",
    "    rslt[i] = [name, physics, chemistry, maths, computer,total_obtained,percentage,grade()]\n",
    "print(\"The result of the student are:\\n\",rslt)\n",
    "\n"
   ]
  },
  {
   "cell_type": "code",
   "execution_count": 33,
   "metadata": {},
   "outputs": [
    {
     "name": "stdout",
     "output_type": "stream",
     "text": [
      "2\n",
      "Enter the name for search: ram\n"
     ]
    },
    {
     "ename": "TypeError",
     "evalue": "'int' object is not subscriptable",
     "output_type": "error",
     "traceback": [
      "\u001b[1;31m---------------------------------------------------------------------------\u001b[0m",
      "\u001b[1;31mTypeError\u001b[0m                                 Traceback (most recent call last)",
      "\u001b[1;32m<ipython-input-33-0cc20f63b2a6>\u001b[0m in \u001b[0;36m<module>\u001b[1;34m\u001b[0m\n\u001b[0;32m      8\u001b[0m \u001b[0mname\u001b[0m \u001b[1;33m=\u001b[0m \u001b[0minput\u001b[0m\u001b[1;33m(\u001b[0m\u001b[1;34m\"Enter the name for search: \"\u001b[0m\u001b[1;33m)\u001b[0m\u001b[1;33m.\u001b[0m\u001b[0mlower\u001b[0m\u001b[1;33m(\u001b[0m\u001b[1;33m)\u001b[0m\u001b[1;33m\u001b[0m\u001b[1;33m\u001b[0m\u001b[0m\n\u001b[0;32m      9\u001b[0m \u001b[1;32mfor\u001b[0m \u001b[0mj\u001b[0m \u001b[1;32min\u001b[0m \u001b[0mrslt\u001b[0m\u001b[1;33m:\u001b[0m\u001b[1;33m\u001b[0m\u001b[1;33m\u001b[0m\u001b[0m\n\u001b[1;32m---> 10\u001b[1;33m     \u001b[1;32mif\u001b[0m \u001b[0mname\u001b[0m \u001b[1;32min\u001b[0m \u001b[0mj\u001b[0m\u001b[1;33m[\u001b[0m\u001b[1;36m0\u001b[0m\u001b[1;33m]\u001b[0m\u001b[1;33m.\u001b[0m\u001b[0mlower\u001b[0m\u001b[1;33m(\u001b[0m\u001b[1;33m)\u001b[0m\u001b[1;33m:\u001b[0m\u001b[1;33m\u001b[0m\u001b[1;33m\u001b[0m\u001b[0m\n\u001b[0m\u001b[0;32m     11\u001b[0m         \u001b[0mrslt\u001b[0m\u001b[1;33m.\u001b[0m\u001b[0mpop\u001b[0m\u001b[1;33m[\u001b[0m\u001b[0mj\u001b[0m\u001b[1;33m]\u001b[0m\u001b[1;33m[\u001b[0m\u001b[1;36m0\u001b[0m\u001b[1;33m]\u001b[0m\u001b[1;33m\u001b[0m\u001b[1;33m\u001b[0m\u001b[0m\n\u001b[0;32m     12\u001b[0m \u001b[0mprint\u001b[0m\u001b[1;33m(\u001b[0m\u001b[0mrslt\u001b[0m\u001b[1;33m)\u001b[0m\u001b[1;33m\u001b[0m\u001b[1;33m\u001b[0m\u001b[0m\n",
      "\u001b[1;31mTypeError\u001b[0m: 'int' object is not subscriptable"
     ]
    }
   ],
   "source": [
    "rslt =  {1: ['Ram', 95, 90, 95, 85, 365, 91.25, 'A'], 2: ['Shyam', 75, 65, 55, 80, 275, 68.75, 'B']}\n",
    "# name = input(\"Enter the name for search: \").lower()\n",
    "# for j in rslt:\n",
    "#     if name in rslt[j][0].lower():\n",
    "#         rslt[j][0] = input(\"Enter the change value: \")\n",
    "# print(rslt)\n",
    "print(len(rslt))\n",
    "name = input(\"Enter the name for search: \").lower()\n",
    "for j in rslt:\n",
    "    if name in rslt[j][0].lower():\n",
    "        rslt.pop[j][0]\n",
    "print(rslt)"
   ]
  },
  {
   "cell_type": "code",
   "execution_count": 37,
   "metadata": {},
   "outputs": [
    {
     "name": "stdout",
     "output_type": "stream",
     "text": [
      "Enter the no. of items buys: 2\n",
      "Enter the items name: HP\n",
      "Enter the no. of quantity of items: 2\n",
      "Enter the items name: Dell\n",
      "Enter the no. of quantity of items: 3\n",
      "{1: {'Name': 'HP', 'QTY': 2, 'Price': 90000, 'Total': 180000}, 2: {'Name': 'Dell', 'QTY': 3, 'Price': 90000, 'Total': 270000}}\n"
     ]
    }
   ],
   "source": [
    "def laptop():\n",
    "    HP = 90000\n",
    "    ASUS = 85000\n",
    "    Dell = 75000\n",
    "    Lenovo = 65000\n",
    "    return HP\n",
    "    return ASUS\n",
    "    return Dell\n",
    "    return Lenovo\n",
    "\n",
    "s = {}\n",
    "n = int(input(\"Enter the no. of items buys: \"))\n",
    "for i in range(1,n+1):\n",
    "    items = input(\"Enter the items name: \")\n",
    "    num = int(input(\"Enter the no. of quantity of items: \"))\n",
    "    item = laptop()\n",
    "    t = num * item\n",
    "    s[i] = {\"Name\":items,\"QTY\":num,\"Price\":item,\"Total\":t}\n",
    "print(s)"
   ]
  },
  {
   "cell_type": "code",
   "execution_count": 45,
   "metadata": {},
   "outputs": [
    {
     "name": "stdout",
     "output_type": "stream",
     "text": [
      "Enter the no. of items buys: 2\n",
      "Enter the items name: HP\n",
      "No. of quantity: 5\n",
      "Enter the items name: Dell\n",
      "No. of quantity: 2\n",
      "{1: {'Name': 'HP', 'QTY': 5, 'Price': 90000, 'Total': 450000}, 2: {'Name': 'Dell', 'QTY': 2, 'Price': 75000, 'Total': 150000}}\n",
      "Type 1 if u want to change item's name: 1\n",
      "Enter the name for search: Dell\n",
      "Enter the update name: Lenovo\n",
      "{1: {'Name': 'HP', 'QTY': 5, 'Price': 90000, 'Total': 450000}, 2: {'Name': 'Lenovo', 'QTY': 2, 'Price': 75000, 'Total': 150000}}\n"
     ]
    }
   ],
   "source": [
    "s = {}\n",
    "av_items = {\"HP\":90000,\"ASUS\":85000,\"Dell\":75000,\"Lenovo\":65000}\n",
    "n = int(input(\"Enter the no. of items buys: \"))\n",
    "for i in range(1,n+1):\n",
    "    it = input(\"Enter the items name: \")\n",
    "    num = int(input(\"No. of quantity: \"))\n",
    "    if it in av_items.keys():\n",
    "        v = num * av_items[it]\n",
    "        s[i] = {\"Name\":it,\"QTY\":num,\"Price\":av_items[it],\"Total\":v}  \n",
    "print(s)\n",
    "\n",
    "t = int(input(\"Type 1 if u want to change item's name: \"))\n",
    "if t == 1:\n",
    "    x = input(\"Enter the name for search: \")\n",
    "    for i in s:\n",
    "        if x == s[i][\"Name\"]:\n",
    "            c = input(\"Enter the update name: \")\n",
    "            s[i][\"Name\"] = c\n",
    "    print(s)\n",
    "else:\n",
    "    print(\"NO CHANGE\")"
   ]
  },
  {
   "cell_type": "code",
   "execution_count": 50,
   "metadata": {},
   "outputs": [
    {
     "name": "stdout",
     "output_type": "stream",
     "text": [
      "Enter the no. of items buys: 2\n",
      "Enter the items name: HP\n",
      "No. of quantity: 2\n",
      "Enter the items name: Dell\n",
      "No. of quantity: 5\n",
      "{1: {'Name': 'HP', 'QTY': 2, 'Price': 90000, 'Total': 180000}, 2: {'Name': 'Dell', 'QTY': 5, 'Price': 75000, 'Total': 375000}}\n",
      "Enter the name for search: Dell\n",
      "Enter the update name: Lenovo\n",
      "{1: {'Name': 'HP', 'QTY': 2, 'Price': 90000, 'Total': 180000}, 2: {'Name': 'Lenovo', 'QTY': 5, 'Price': 65000, 'Total': 325000}}\n"
     ]
    }
   ],
   "source": [
    "s = {}\n",
    "av_items = {\"HP\":90000,\"ASUS\":85000,\"Dell\":75000,\"Lenovo\":65000}\n",
    "n = int(input(\"Enter the no. of items buys: \"))\n",
    "for i in range(1,n+1):\n",
    "    it = input(\"Enter the items name: \")\n",
    "    num = int(input(\"No. of quantity: \"))\n",
    "    if it in av_items.keys():\n",
    "        v = num * av_items[it]\n",
    "        s[i] = {\"Name\":it,\"QTY\":num,\"Price\":av_items[it],\"Total\":v}  \n",
    "print(s)\n",
    "\n",
    "# t = int(input(\"Type 1 if u want to change item's name: \"))\n",
    "# if t == 1:\n",
    "x = input(\"Enter the name for search: \")\n",
    "for i in s:\n",
    "    if x == s[i][\"Name\"]:\n",
    "        c = input(\"Enter the update name: \")\n",
    "        s[i][\"Name\"] = c\n",
    "        p = s[i][\"QTY\"] *av_items[c]\n",
    "        s[i][\"Price\"] = av_items[c]\n",
    "        s[i][\"Total\"] = p\n",
    "        print(s)\n",
    "# else:\n",
    "#     print(\"NO CHANGE\")"
   ]
  },
  {
   "cell_type": "code",
   "execution_count": 68,
   "metadata": {},
   "outputs": [
    {
     "ename": "TypeError",
     "evalue": "'int' object is not subscriptable",
     "output_type": "error",
     "traceback": [
      "\u001b[1;31m---------------------------------------------------------------------------\u001b[0m",
      "\u001b[1;31mTypeError\u001b[0m                                 Traceback (most recent call last)",
      "\u001b[1;32m<ipython-input-68-4fe6f74a72c4>\u001b[0m in \u001b[0;36m<module>\u001b[1;34m\u001b[0m\n\u001b[0;32m      1\u001b[0m \u001b[0ma\u001b[0m \u001b[1;33m=\u001b[0m \u001b[1;33m{\u001b[0m\u001b[1;36m1\u001b[0m\u001b[1;33m:\u001b[0m \u001b[1;33m{\u001b[0m\u001b[1;34m'Name'\u001b[0m\u001b[1;33m:\u001b[0m \u001b[1;34m'HP'\u001b[0m\u001b[1;33m,\u001b[0m \u001b[1;34m'QTY'\u001b[0m\u001b[1;33m:\u001b[0m \u001b[1;36m2\u001b[0m\u001b[1;33m,\u001b[0m \u001b[1;34m'Price'\u001b[0m\u001b[1;33m:\u001b[0m \u001b[1;36m90000\u001b[0m\u001b[1;33m,\u001b[0m \u001b[1;34m'Total'\u001b[0m\u001b[1;33m:\u001b[0m \u001b[1;36m180000\u001b[0m\u001b[1;33m}\u001b[0m\u001b[1;33m,\u001b[0m \u001b[1;36m2\u001b[0m\u001b[1;33m:\u001b[0m \u001b[1;33m{\u001b[0m\u001b[1;34m'Name'\u001b[0m\u001b[1;33m:\u001b[0m \u001b[1;34m'Lenovo'\u001b[0m\u001b[1;33m,\u001b[0m \u001b[1;34m'QTY'\u001b[0m\u001b[1;33m:\u001b[0m \u001b[1;36m5\u001b[0m\u001b[1;33m,\u001b[0m \u001b[1;34m'Price'\u001b[0m\u001b[1;33m:\u001b[0m \u001b[1;36m65000\u001b[0m\u001b[1;33m,\u001b[0m \u001b[1;34m'Total'\u001b[0m\u001b[1;33m:\u001b[0m \u001b[1;36m325000\u001b[0m\u001b[1;33m}\u001b[0m\u001b[1;33m}\u001b[0m\u001b[1;33m\u001b[0m\u001b[1;33m\u001b[0m\u001b[0m\n\u001b[1;32m----> 2\u001b[1;33m \u001b[0mseq\u001b[0m \u001b[1;33m=\u001b[0m \u001b[1;33m[\u001b[0m\u001b[0mx\u001b[0m\u001b[1;33m[\u001b[0m\u001b[1;34m'Total'\u001b[0m\u001b[1;33m]\u001b[0m \u001b[1;32mfor\u001b[0m \u001b[0mx\u001b[0m \u001b[1;32min\u001b[0m \u001b[0ma\u001b[0m\u001b[1;33m]\u001b[0m\u001b[1;33m\u001b[0m\u001b[1;33m\u001b[0m\u001b[0m\n\u001b[0m\u001b[0;32m      3\u001b[0m \u001b[0mprint\u001b[0m\u001b[1;33m(\u001b[0m\u001b[0mseq\u001b[0m\u001b[1;33m)\u001b[0m\u001b[1;33m\u001b[0m\u001b[1;33m\u001b[0m\u001b[0m\n\u001b[0;32m      4\u001b[0m \u001b[1;33m\u001b[0m\u001b[0m\n\u001b[0;32m      5\u001b[0m \u001b[1;31m# myMax = max(d['Total'] for d in a)\u001b[0m\u001b[1;33m\u001b[0m\u001b[1;33m\u001b[0m\u001b[1;33m\u001b[0m\u001b[0m\n",
      "\u001b[1;32m<ipython-input-68-4fe6f74a72c4>\u001b[0m in \u001b[0;36m<listcomp>\u001b[1;34m(.0)\u001b[0m\n\u001b[0;32m      1\u001b[0m \u001b[0ma\u001b[0m \u001b[1;33m=\u001b[0m \u001b[1;33m{\u001b[0m\u001b[1;36m1\u001b[0m\u001b[1;33m:\u001b[0m \u001b[1;33m{\u001b[0m\u001b[1;34m'Name'\u001b[0m\u001b[1;33m:\u001b[0m \u001b[1;34m'HP'\u001b[0m\u001b[1;33m,\u001b[0m \u001b[1;34m'QTY'\u001b[0m\u001b[1;33m:\u001b[0m \u001b[1;36m2\u001b[0m\u001b[1;33m,\u001b[0m \u001b[1;34m'Price'\u001b[0m\u001b[1;33m:\u001b[0m \u001b[1;36m90000\u001b[0m\u001b[1;33m,\u001b[0m \u001b[1;34m'Total'\u001b[0m\u001b[1;33m:\u001b[0m \u001b[1;36m180000\u001b[0m\u001b[1;33m}\u001b[0m\u001b[1;33m,\u001b[0m \u001b[1;36m2\u001b[0m\u001b[1;33m:\u001b[0m \u001b[1;33m{\u001b[0m\u001b[1;34m'Name'\u001b[0m\u001b[1;33m:\u001b[0m \u001b[1;34m'Lenovo'\u001b[0m\u001b[1;33m,\u001b[0m \u001b[1;34m'QTY'\u001b[0m\u001b[1;33m:\u001b[0m \u001b[1;36m5\u001b[0m\u001b[1;33m,\u001b[0m \u001b[1;34m'Price'\u001b[0m\u001b[1;33m:\u001b[0m \u001b[1;36m65000\u001b[0m\u001b[1;33m,\u001b[0m \u001b[1;34m'Total'\u001b[0m\u001b[1;33m:\u001b[0m \u001b[1;36m325000\u001b[0m\u001b[1;33m}\u001b[0m\u001b[1;33m}\u001b[0m\u001b[1;33m\u001b[0m\u001b[1;33m\u001b[0m\u001b[0m\n\u001b[1;32m----> 2\u001b[1;33m \u001b[0mseq\u001b[0m \u001b[1;33m=\u001b[0m \u001b[1;33m[\u001b[0m\u001b[0mx\u001b[0m\u001b[1;33m[\u001b[0m\u001b[1;34m'Total'\u001b[0m\u001b[1;33m]\u001b[0m \u001b[1;32mfor\u001b[0m \u001b[0mx\u001b[0m \u001b[1;32min\u001b[0m \u001b[0ma\u001b[0m\u001b[1;33m]\u001b[0m\u001b[1;33m\u001b[0m\u001b[1;33m\u001b[0m\u001b[0m\n\u001b[0m\u001b[0;32m      3\u001b[0m \u001b[0mprint\u001b[0m\u001b[1;33m(\u001b[0m\u001b[0mseq\u001b[0m\u001b[1;33m)\u001b[0m\u001b[1;33m\u001b[0m\u001b[1;33m\u001b[0m\u001b[0m\n\u001b[0;32m      4\u001b[0m \u001b[1;33m\u001b[0m\u001b[0m\n\u001b[0;32m      5\u001b[0m \u001b[1;31m# myMax = max(d['Total'] for d in a)\u001b[0m\u001b[1;33m\u001b[0m\u001b[1;33m\u001b[0m\u001b[1;33m\u001b[0m\u001b[0m\n",
      "\u001b[1;31mTypeError\u001b[0m: 'int' object is not subscriptable"
     ]
    }
   ],
   "source": [
    "a = {1: {'Name': 'HP', 'QTY': 2, 'Price': 90000, 'Total': 180000}, 2: {'Name': 'Lenovo', 'QTY': 5, 'Price': 65000, 'Total': 325000}}\n",
    "seq = [x['Total'] for x in a]\n",
    "print(seq)\n",
    "\n",
    "# myMax = max(d['Total'] for d in a)\n",
    "# print(myMax)\n",
    "\n",
    "# for i in :\n",
    "#     if i == a[\"Total\"]:\n",
    "#         print(max(\"Total\"))\n",
    "        \n",
    "  \n",
    "\n"
   ]
  },
  {
   "cell_type": "code",
   "execution_count": null,
   "metadata": {},
   "outputs": [],
   "source": [
    "s = {}\n",
    "av_items = {\"HP\":90000,\"ASUS\":85000,\"Dell\":75000,\"Lenovo\":65000}\n",
    "n = int(input(\"Enter the no. of items buys: \"))\n",
    "for i in range(1,n+1):\n",
    "    it = input(\"Enter the items name: \")\n",
    "    num = int(input(\"No. of quantity: \"))\n",
    "    if it in av_items.keys():\n",
    "        v = num * av_items[it]\n",
    "        s[i] = {\"Name\":it,\"QTY\":num,\"Price\":av_items[it],\"Total\":v}  \n",
    "print(s)\n",
    "\n",
    "# t = int(input(\"Type 1 if u want to change item's name: \"))\n",
    "# if t == 1:\n",
    "x = input(\"Enter the name for search: \")\n",
    "for i in s:\n",
    "    if x == s[i][\"Name\"]:\n",
    "        c = input(\"Enter the update name: \")\n",
    "        s[i][\"Name\"] = c\n",
    "        p = s[i][\"QTY\"] *av_items[c]\n",
    "        s[i][\"Price\"] = av_items[c]\n",
    "        s[i][\"Total\"] = p\n",
    "        print(s)\n",
    "# else:\n",
    "#     print(\"NO CHANGE\")"
   ]
  },
  {
   "cell_type": "code",
   "execution_count": null,
   "metadata": {},
   "outputs": [],
   "source": []
  }
 ],
 "metadata": {
  "kernelspec": {
   "display_name": "Python 3",
   "language": "python",
   "name": "python3"
  },
  "language_info": {
   "codemirror_mode": {
    "name": "ipython",
    "version": 3
   },
   "file_extension": ".py",
   "mimetype": "text/x-python",
   "name": "python",
   "nbconvert_exporter": "python",
   "pygments_lexer": "ipython3",
   "version": "3.8.5"
  }
 },
 "nbformat": 4,
 "nbformat_minor": 4
}
