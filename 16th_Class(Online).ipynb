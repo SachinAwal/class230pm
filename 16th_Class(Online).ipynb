{
 "cells": [
  {
   "cell_type": "code",
   "execution_count": null,
   "metadata": {},
   "outputs": [],
   "source": [
    "# b = open(<file_name>,<mode>)\n",
    "# b.close()"
   ]
  },
  {
   "cell_type": "code",
   "execution_count": 1,
   "metadata": {},
   "outputs": [],
   "source": [
    "b = open('class230pm.txt','x')\n",
    "b.close()"
   ]
  },
  {
   "cell_type": "code",
   "execution_count": 2,
   "metadata": {},
   "outputs": [
    {
     "name": "stdout",
     "output_type": "stream",
     "text": [
      "The file is already there.\n"
     ]
    }
   ],
   "source": [
    "try:\n",
    "    b = open('class230pm.txt','x')\n",
    "    b.close()\n",
    "except:\n",
    "    print(\"The file is already there.\")"
   ]
  },
  {
   "cell_type": "code",
   "execution_count": 3,
   "metadata": {},
   "outputs": [
    {
     "name": "stdout",
     "output_type": "stream",
     "text": [
      "1. Hello World\n",
      "2. Hello World\n",
      "3. Hello World\n",
      "4. Hello World\n",
      "5. Hello World\n",
      "6. Hello World\n",
      "7. Hello World\n",
      "\n"
     ]
    }
   ],
   "source": [
    "b = open('class230pm.txt',\"r\")\n",
    "print(b.read())\n",
    "b.close()"
   ]
  },
  {
   "cell_type": "code",
   "execution_count": 4,
   "metadata": {},
   "outputs": [
    {
     "name": "stdout",
     "output_type": "stream",
     "text": [
      "<class 'str'>\n",
      "1. Hello World\n",
      "2. Hello World\n",
      "3. Hello World\n",
      "4. Hello World\n",
      "5. Hello World\n",
      "6. Hello World\n",
      "7. Hello World\n",
      "\n"
     ]
    }
   ],
   "source": [
    "b = open('class230pm.txt',\"r\")\n",
    "c = b.read()\n",
    "print(type(c))\n",
    "print(c)\n",
    "b.close()"
   ]
  },
  {
   "cell_type": "code",
   "execution_count": 5,
   "metadata": {},
   "outputs": [
    {
     "name": "stdout",
     "output_type": "stream",
     "text": [
      "<class 'str'>\n",
      "1. Hello World\n",
      "2. Hello World\n",
      "3. Hello World\n",
      "4. He\n"
     ]
    }
   ],
   "source": [
    "b = open('class230pm.txt',\"r\")\n",
    "c = b.read(50)  # .read(50) means count or read only 50 words from the files.\n",
    "print(type(c))\n",
    "print(c)\n",
    "b.close()"
   ]
  },
  {
   "cell_type": "code",
   "execution_count": 6,
   "metadata": {},
   "outputs": [
    {
     "name": "stdout",
     "output_type": "stream",
     "text": [
      "<class 'str'>\n",
      "1. Hello World\n",
      "2. Hello World\n",
      "3. Hello World\n",
      "4. Hello World\n",
      "5. Hello World\n",
      "6. Hello World\n",
      "7. Hello World\n",
      "\n"
     ]
    }
   ],
   "source": [
    "b = open('class230pm.txt',\"r\")\n",
    "c = b.read()\n",
    "print(type(c))\n",
    "print(c)\n",
    "b.close()"
   ]
  },
  {
   "cell_type": "code",
   "execution_count": 8,
   "metadata": {},
   "outputs": [
    {
     "name": "stdout",
     "output_type": "stream",
     "text": [
      "1. Hello World\n",
      "\n",
      "1. Hello World\n",
      "\n"
     ]
    }
   ],
   "source": [
    "b = open('class230pm.txt',\"r\")\n",
    "c = b.readline()   # .readline function only reads only one line from the files\n",
    "print(c)\n",
    "print(c)\n",
    "b.close()"
   ]
  },
  {
   "cell_type": "code",
   "execution_count": 10,
   "metadata": {},
   "outputs": [
    {
     "name": "stdout",
     "output_type": "stream",
     "text": [
      "1. Hello World\n",
      "\n",
      "2. Hello World\n",
      "\n"
     ]
    }
   ],
   "source": [
    "b = open('class230pm.txt',\"r\")\n",
    "print(b.readline())\n",
    "print(b.readline())\n",
    "b.close()"
   ]
  },
  {
   "cell_type": "code",
   "execution_count": 11,
   "metadata": {},
   "outputs": [
    {
     "name": "stdout",
     "output_type": "stream",
     "text": [
      "1. \n",
      "Hello World\n",
      "\n"
     ]
    }
   ],
   "source": [
    "b = open('class230pm.txt',\"r\")\n",
    "print(b.readline(3))\n",
    "print(b.readline())\n",
    "b.close()"
   ]
  },
  {
   "cell_type": "code",
   "execution_count": 13,
   "metadata": {},
   "outputs": [
    {
     "name": "stdout",
     "output_type": "stream",
     "text": [
      "Enter the line no.: 5\n",
      "5. Hello World\n",
      "\n"
     ]
    }
   ],
   "source": [
    "b = open('class230pm.txt',\"r\")\n",
    "n = int(input(\"Enter the line no.: \"))\n",
    "for i in range(1,8):\n",
    "    if i != n:\n",
    "        b.readline()\n",
    "    else:\n",
    "        print(b.readline())\n",
    "b.close()"
   ]
  },
  {
   "cell_type": "code",
   "execution_count": 14,
   "metadata": {},
   "outputs": [],
   "source": [
    "b = open(\"data.txt\",'a')\n",
    "b.write(\"Hello World\")\n",
    "b.close()"
   ]
  },
  {
   "cell_type": "code",
   "execution_count": 15,
   "metadata": {},
   "outputs": [
    {
     "name": "stdout",
     "output_type": "stream",
     "text": [
      "Enter how many rows = 2\n",
      "Enter the name: Ram\n",
      "Enter the phone no.: 9856565656\n",
      "Enter the name: Shyam\n",
      "Enter the phone no.: 5554494949\n"
     ]
    }
   ],
   "source": [
    "s=\"\"\n",
    "n = int(input(\"Enter how many rows = \"))\n",
    "for i in range(n):\n",
    "    name = input(\"Enter the name: \")\n",
    "    phone = int(input(\"Enter the phone no.: \"))\n",
    "    info = f\"{name}-----{phone}\\n\"\n",
    "    s = s+info\n",
    "    \n",
    "b = open(\"data.txt\",'a')\n",
    "b.write(s)\n",
    "b.close()"
   ]
  },
  {
   "cell_type": "code",
   "execution_count": 16,
   "metadata": {},
   "outputs": [
    {
     "name": "stdout",
     "output_type": "stream",
     "text": [
      "Ram-----9856565656\n",
      "Shyam-----5554494949\n",
      "\n"
     ]
    }
   ],
   "source": [
    "b = open(\"data.txt\",'r')\n",
    "print(b.read())\n",
    "b.close()"
   ]
  },
  {
   "cell_type": "code",
   "execution_count": 17,
   "metadata": {},
   "outputs": [
    {
     "name": "stdout",
     "output_type": "stream",
     "text": [
      "Enter how many rows = 2\n",
      "Enter the name: Ram\n",
      "Enter the phone no.: 9856235689\n",
      "Enter the name: Shyam\n",
      "Enter the phone no.: 9845758595\n"
     ]
    }
   ],
   "source": [
    "s=\"\"\n",
    "n = int(input(\"Enter how many rows = \"))\n",
    "for i in range(n):\n",
    "    name = input(\"Enter the name: \")\n",
    "    phone = int(input(\"Enter the phone no.: \"))\n",
    "    info = f\"{name},{phone}\\n\"\n",
    "    s = s+info\n",
    "    \n",
    "b = open(\"data.csv\",'a')   # 'a' mean append\n",
    "b.write(s)\n",
    "b.close()"
   ]
  },
  {
   "cell_type": "code",
   "execution_count": 19,
   "metadata": {},
   "outputs": [
    {
     "name": "stdout",
     "output_type": "stream",
     "text": [
      "Enter how many rows = 2\n",
      "Enter the name: Ram\n",
      "Enter the phone no.: 45546565465\n",
      "Enter the name: Shyam\n",
      "Enter the phone no.: 569484984\n"
     ]
    }
   ],
   "source": [
    "s=\"\"\n",
    "b = open(\"data.csv\",'a')\n",
    "b.write('Name,Phone\\n')\n",
    "n = int(input(\"Enter how many rows = \"))\n",
    "for i in range(n):\n",
    "    name = input(\"Enter the name: \")\n",
    "    phone = int(input(\"Enter the phone no.: \"))\n",
    "    info = f\"{name},{phone}\\n\"\n",
    "    s = s+info\n",
    "    \n",
    "b = open(\"data.csv\",'w')  # 'w' mean write\n",
    "b.write(s)\n",
    "b.close()"
   ]
  },
  {
   "cell_type": "code",
   "execution_count": 36,
   "metadata": {
    "scrolled": true
   },
   "outputs": [
    {
     "name": "stdout",
     "output_type": "stream",
     "text": [
      "Ram-----9856565656\n",
      "Shyam-----5554494949\n"
     ]
    }
   ],
   "source": [
    "b = open(\"data.txt\",'r')\n",
    "c = b.read()\n",
    "print(c)\n",
    "b.close()"
   ]
  },
  {
   "cell_type": "code",
   "execution_count": 37,
   "metadata": {},
   "outputs": [],
   "source": [
    "b = open(\"data.txt\",'w')\n",
    "d = c.replace(\"9856565656\",\"9823569812\")  #immutable data must be chnage using variable\n",
    "b.write(d)\n",
    "b.close()"
   ]
  },
  {
   "cell_type": "code",
   "execution_count": 101,
   "metadata": {},
   "outputs": [
    {
     "name": "stdout",
     "output_type": "stream",
     "text": [
      "Enter the line no.: 2\n",
      "\n"
     ]
    }
   ],
   "source": [
    "b = open('class230pm.txt',\"r\")\n",
    "x = b.read()\n",
    "n = int(input(\"Enter the line no.: \"))\n",
    "for i in range(1,8):\n",
    "    if i != n:\n",
    "        b.readline()\n",
    "    else:\n",
    "        global z\n",
    "        z = b.readline()\n",
    "        print(z)\n",
    "b = open('class230pm.txt',\"w\")\n",
    "d = x.replace(z,'Hall')\n",
    "b.write(d)\n",
    "b.close()"
   ]
  },
  {
   "cell_type": "code",
   "execution_count": 96,
   "metadata": {},
   "outputs": [
    {
     "name": "stdout",
     "output_type": "stream",
     "text": [
      "Ram-----9823569812\n",
      "Shyam-----5554494949\n"
     ]
    }
   ],
   "source": [
    "b = open(\"data.txt\",'w')\n",
    "d = c.replace(\"9856565656\",\"9823569812\")  # immutable data must be change using variable\n",
    "b.write(d)\n",
    "b.close()\n",
    "print(d)"
   ]
  },
  {
   "cell_type": "code",
   "execution_count": null,
   "metadata": {},
   "outputs": [],
   "source": []
  },
  {
   "cell_type": "code",
   "execution_count": null,
   "metadata": {},
   "outputs": [],
   "source": []
  },
  {
   "cell_type": "code",
   "execution_count": null,
   "metadata": {},
   "outputs": [],
   "source": []
  },
  {
   "cell_type": "code",
   "execution_count": null,
   "metadata": {},
   "outputs": [],
   "source": []
  },
  {
   "cell_type": "code",
   "execution_count": null,
   "metadata": {},
   "outputs": [],
   "source": []
  },
  {
   "cell_type": "code",
   "execution_count": null,
   "metadata": {},
   "outputs": [],
   "source": []
  }
 ],
 "metadata": {
  "kernelspec": {
   "display_name": "Python 3",
   "language": "python",
   "name": "python3"
  },
  "language_info": {
   "codemirror_mode": {
    "name": "ipython",
    "version": 3
   },
   "file_extension": ".py",
   "mimetype": "text/x-python",
   "name": "python",
   "nbconvert_exporter": "python",
   "pygments_lexer": "ipython3",
   "version": "3.8.5"
  }
 },
 "nbformat": 4,
 "nbformat_minor": 4
}
