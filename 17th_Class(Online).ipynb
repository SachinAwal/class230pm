{
 "cells": [
  {
   "cell_type": "code",
   "execution_count": null,
   "metadata": {},
   "outputs": [],
   "source": [
    "b = open('class230pm.txt',\"r\")\n",
    "print(b.readline())\n",
    "e = b.read()\n",
    "\n",
    "print(e)\n",
    "n = int(input(\"Enter the line no.: \"))\n",
    "for i in range(1,8):\n",
    "    if i != n:\n",
    "        print(b.readline())\n",
    "    else:\n",
    "        global z  \n",
    "        z = b.readline()\n",
    "        print(z)\n",
    "        y = e.replace(z,'')\n",
    "b.close()\n",
    "\n",
    "a = open('class230pm.txt',\"w\")\n",
    "a.write(y)\n",
    "a.close()"
   ]
  },
  {
   "cell_type": "code",
   "execution_count": 1,
   "metadata": {},
   "outputs": [
    {
     "name": "stdout",
     "output_type": "stream",
     "text": [
      "['1. Apple', '2. Ball', '3. Cat', '4. Dog', '5. Egg', '6. Fish', '7. Gold']\n"
     ]
    }
   ],
   "source": [
    "b = open('class230pm.txt',\"r\")\n",
    "e = b.read()\n",
    "file_data = e.split('\\n')\n",
    "print(file_data)\n",
    "b.close()"
   ]
  },
  {
   "cell_type": "code",
   "execution_count": 9,
   "metadata": {},
   "outputs": [
    {
     "name": "stdout",
     "output_type": "stream",
     "text": [
      "['1. Apple', '2. Ball', '4. Dog', '5. Egg', '6. Fish', '7. Gold']\n"
     ]
    }
   ],
   "source": [
    "b = open('class230pm.txt',\"r\")\n",
    "e = b.read()\n",
    "file_data = e.split('\\n')\n",
    "del file_data[2]\n",
    "print(file_data)\n",
    "b.close()\n",
    "\n",
    "b = open('class230pm1.txt',\"a\")\n",
    "for i in file_data:\n",
    "    b.write(f'{i}\\n')\n",
    "b.close()"
   ]
  },
  {
   "cell_type": "code",
   "execution_count": 10,
   "metadata": {},
   "outputs": [],
   "source": [
    "# deleting file\n",
    "import os\n",
    "os.remove('data.csv')"
   ]
  },
  {
   "cell_type": "code",
   "execution_count": 13,
   "metadata": {},
   "outputs": [
    {
     "name": "stdout",
     "output_type": "stream",
     "text": [
      "There is no such file.\n"
     ]
    }
   ],
   "source": [
    "import os\n",
    "if os.path.exists('data.csv'):\n",
    "    os.remove('data.csv')\n",
    "else:\n",
    "    print(\"There is no such file.\")"
   ]
  },
  {
   "cell_type": "code",
   "execution_count": 14,
   "metadata": {},
   "outputs": [
    {
     "data": {
      "text/plain": [
       "'Untitled Folder\\\\data.txt'"
      ]
     },
     "execution_count": 14,
     "metadata": {},
     "output_type": "execute_result"
    }
   ],
   "source": [
    "# copying file\n",
    "import shutil\n",
    "src = 'data.txt'\n",
    "dst = 'Untitled Folder'\n",
    "shutil.copy(src,dst)"
   ]
  },
  {
   "cell_type": "code",
   "execution_count": 15,
   "metadata": {},
   "outputs": [
    {
     "data": {
      "text/plain": [
       "'Untitled Folder 2'"
      ]
     },
     "execution_count": 15,
     "metadata": {},
     "output_type": "execute_result"
    }
   ],
   "source": [
    "# copying directories\n",
    "import shutil\n",
    "src = 'Untitled Folder'\n",
    "dst = 'Untitled Folder 2'\n",
    "shutil.copytree(src,dst)  # file must not be copy in existed file."
   ]
  },
  {
   "cell_type": "code",
   "execution_count": null,
   "metadata": {},
   "outputs": [],
   "source": [
    "# moving files and directories\n",
    "import shutil\n",
    "shutil.move('dir_1','backup/')"
   ]
  },
  {
   "cell_type": "code",
   "execution_count": 16,
   "metadata": {},
   "outputs": [
    {
     "name": "stdout",
     "output_type": "stream",
     "text": [
      "Enter how many rows = 6\n",
      "Enter the name: Ram\n",
      "Enter the phone no.: 9856235689\n",
      "Enter the age: 25\n",
      "Enter the address: Kathmandu\n",
      "Enter the blood group: A+\n",
      "Enter the name: Shyam\n",
      "Enter the phone no.: 9856124578\n",
      "Enter the age: 32\n",
      "Enter the address: Kathmandu\n",
      "Enter the blood group: B+\n",
      "Enter the name: Gita\n",
      "Enter the phone no.: 9845785623\n",
      "Enter the age: 20\n",
      "Enter the address: Bara\n",
      "Enter the blood group: B+\n",
      "Enter the name: Nabina\n",
      "Enter the phone no.: 9812234548\n",
      "Enter the age: 45\n",
      "Enter the address: Bhaktapur\n",
      "Enter the blood group: O-\n",
      "Enter the name: Tara\n",
      "Enter the phone no.: 9823127898\n",
      "Enter the age: 65\n",
      "Enter the address: Pyuthan\n",
      "Enter the blood group: AB+\n",
      "Enter the name: Uttam\n",
      "Enter the phone no.: 9845657823\n",
      "Enter the age: 18\n",
      "Enter the address: Bhaktapur\n",
      "Enter the blood group: AB-\n"
     ]
    }
   ],
   "source": [
    "# creating the csv file\n",
    "s=\"\"\n",
    "n = int(input(\"Enter how many rows = \"))\n",
    "for i in range(n):\n",
    "    name = input(\"Enter the name: \")\n",
    "    phone = int(input(\"Enter the phone no.: \"))\n",
    "    age = int(input(\"Enter the age: \"))\n",
    "    add = input(\"Enter the address: \")\n",
    "    blood = input(\"Enter the blood group: \")\n",
    "    info = f\"{name},{age},{add},{phone},{blood}\\n\"\n",
    "    s = s+info\n",
    "    \n",
    "b = open(\"info.csv\",'w')\n",
    "b.write(s)\n",
    "b.close()"
   ]
  },
  {
   "cell_type": "code",
   "execution_count": 18,
   "metadata": {},
   "outputs": [
    {
     "data": {
      "text/html": [
       "<div>\n",
       "<style scoped>\n",
       "    .dataframe tbody tr th:only-of-type {\n",
       "        vertical-align: middle;\n",
       "    }\n",
       "\n",
       "    .dataframe tbody tr th {\n",
       "        vertical-align: top;\n",
       "    }\n",
       "\n",
       "    .dataframe thead th {\n",
       "        text-align: right;\n",
       "    }\n",
       "</style>\n",
       "<table border=\"1\" class=\"dataframe\">\n",
       "  <thead>\n",
       "    <tr style=\"text-align: right;\">\n",
       "      <th></th>\n",
       "      <th>Ram</th>\n",
       "      <th>25</th>\n",
       "      <th>Kathmandu</th>\n",
       "      <th>9856235689</th>\n",
       "      <th>A+</th>\n",
       "    </tr>\n",
       "  </thead>\n",
       "  <tbody>\n",
       "    <tr>\n",
       "      <th>0</th>\n",
       "      <td>Shyam</td>\n",
       "      <td>32</td>\n",
       "      <td>Kathmandu</td>\n",
       "      <td>9856124578</td>\n",
       "      <td>B+</td>\n",
       "    </tr>\n",
       "    <tr>\n",
       "      <th>1</th>\n",
       "      <td>Gita</td>\n",
       "      <td>20</td>\n",
       "      <td>Bara</td>\n",
       "      <td>9845785623</td>\n",
       "      <td>B+</td>\n",
       "    </tr>\n",
       "    <tr>\n",
       "      <th>2</th>\n",
       "      <td>Nabina</td>\n",
       "      <td>45</td>\n",
       "      <td>Bhaktapur</td>\n",
       "      <td>9812234548</td>\n",
       "      <td>O-</td>\n",
       "    </tr>\n",
       "    <tr>\n",
       "      <th>3</th>\n",
       "      <td>Tara</td>\n",
       "      <td>65</td>\n",
       "      <td>Pyuthan</td>\n",
       "      <td>9823127898</td>\n",
       "      <td>AB+</td>\n",
       "    </tr>\n",
       "    <tr>\n",
       "      <th>4</th>\n",
       "      <td>Uttam</td>\n",
       "      <td>18</td>\n",
       "      <td>Bhaktapur</td>\n",
       "      <td>9845657823</td>\n",
       "      <td>AB-</td>\n",
       "    </tr>\n",
       "  </tbody>\n",
       "</table>\n",
       "</div>"
      ],
      "text/plain": [
       "      Ram  25  Kathmandu  9856235689   A+\n",
       "0   Shyam  32  Kathmandu  9856124578   B+\n",
       "1    Gita  20       Bara  9845785623   B+\n",
       "2  Nabina  45  Bhaktapur  9812234548   O-\n",
       "3    Tara  65    Pyuthan  9823127898  AB+\n",
       "4   Uttam  18  Bhaktapur  9845657823  AB-"
      ]
     },
     "execution_count": 18,
     "metadata": {},
     "output_type": "execute_result"
    }
   ],
   "source": [
    "import pandas as pd\n",
    "df = pd.read_csv('info.csv')\n",
    "df \n",
    "# csv file take first row as column"
   ]
  },
  {
   "cell_type": "code",
   "execution_count": 20,
   "metadata": {},
   "outputs": [
    {
     "data": {
      "text/html": [
       "<div>\n",
       "<style scoped>\n",
       "    .dataframe tbody tr th:only-of-type {\n",
       "        vertical-align: middle;\n",
       "    }\n",
       "\n",
       "    .dataframe tbody tr th {\n",
       "        vertical-align: top;\n",
       "    }\n",
       "\n",
       "    .dataframe thead th {\n",
       "        text-align: right;\n",
       "    }\n",
       "</style>\n",
       "<table border=\"1\" class=\"dataframe\">\n",
       "  <thead>\n",
       "    <tr style=\"text-align: right;\">\n",
       "      <th></th>\n",
       "      <th>Name</th>\n",
       "      <th>Age</th>\n",
       "      <th>Address</th>\n",
       "      <th>Phone</th>\n",
       "      <th>Blood</th>\n",
       "    </tr>\n",
       "  </thead>\n",
       "  <tbody>\n",
       "    <tr>\n",
       "      <th>0</th>\n",
       "      <td>Ram</td>\n",
       "      <td>25</td>\n",
       "      <td>Kathmandu</td>\n",
       "      <td>9856235689</td>\n",
       "      <td>A+</td>\n",
       "    </tr>\n",
       "    <tr>\n",
       "      <th>1</th>\n",
       "      <td>Shyam</td>\n",
       "      <td>32</td>\n",
       "      <td>Kathmandu</td>\n",
       "      <td>9856124578</td>\n",
       "      <td>B+</td>\n",
       "    </tr>\n",
       "    <tr>\n",
       "      <th>2</th>\n",
       "      <td>Gita</td>\n",
       "      <td>20</td>\n",
       "      <td>Bara</td>\n",
       "      <td>9845785623</td>\n",
       "      <td>B+</td>\n",
       "    </tr>\n",
       "    <tr>\n",
       "      <th>3</th>\n",
       "      <td>Nabina</td>\n",
       "      <td>45</td>\n",
       "      <td>Bhaktapur</td>\n",
       "      <td>9812234548</td>\n",
       "      <td>O-</td>\n",
       "    </tr>\n",
       "    <tr>\n",
       "      <th>4</th>\n",
       "      <td>Tara</td>\n",
       "      <td>65</td>\n",
       "      <td>Pyuthan</td>\n",
       "      <td>9823127898</td>\n",
       "      <td>AB+</td>\n",
       "    </tr>\n",
       "    <tr>\n",
       "      <th>5</th>\n",
       "      <td>Uttam</td>\n",
       "      <td>18</td>\n",
       "      <td>Bhaktapur</td>\n",
       "      <td>9845657823</td>\n",
       "      <td>AB-</td>\n",
       "    </tr>\n",
       "  </tbody>\n",
       "</table>\n",
       "</div>"
      ],
      "text/plain": [
       "     Name  Age    Address       Phone Blood\n",
       "0     Ram   25  Kathmandu  9856235689    A+\n",
       "1   Shyam   32  Kathmandu  9856124578    B+\n",
       "2    Gita   20       Bara  9845785623    B+\n",
       "3  Nabina   45  Bhaktapur  9812234548    O-\n",
       "4    Tara   65    Pyuthan  9823127898   AB+\n",
       "5   Uttam   18  Bhaktapur  9845657823   AB-"
      ]
     },
     "execution_count": 20,
     "metadata": {},
     "output_type": "execute_result"
    }
   ],
   "source": [
    "import pandas as pd\n",
    "df = pd.read_csv('info.csv')\n",
    "df"
   ]
  },
  {
   "cell_type": "code",
   "execution_count": 21,
   "metadata": {},
   "outputs": [
    {
     "data": {
      "text/html": [
       "<div>\n",
       "<style scoped>\n",
       "    .dataframe tbody tr th:only-of-type {\n",
       "        vertical-align: middle;\n",
       "    }\n",
       "\n",
       "    .dataframe tbody tr th {\n",
       "        vertical-align: top;\n",
       "    }\n",
       "\n",
       "    .dataframe thead th {\n",
       "        text-align: right;\n",
       "    }\n",
       "</style>\n",
       "<table border=\"1\" class=\"dataframe\">\n",
       "  <thead>\n",
       "    <tr style=\"text-align: right;\">\n",
       "      <th></th>\n",
       "      <th>Name</th>\n",
       "      <th>Age</th>\n",
       "      <th>Address</th>\n",
       "      <th>Phone</th>\n",
       "      <th>Blood</th>\n",
       "    </tr>\n",
       "  </thead>\n",
       "  <tbody>\n",
       "    <tr>\n",
       "      <th>0</th>\n",
       "      <td>Ram</td>\n",
       "      <td>25</td>\n",
       "      <td>Kathmandu</td>\n",
       "      <td>9856235689</td>\n",
       "      <td>A+</td>\n",
       "    </tr>\n",
       "    <tr>\n",
       "      <th>1</th>\n",
       "      <td>Shyam</td>\n",
       "      <td>32</td>\n",
       "      <td>Kathmandu</td>\n",
       "      <td>9856124578</td>\n",
       "      <td>B+</td>\n",
       "    </tr>\n",
       "    <tr>\n",
       "      <th>2</th>\n",
       "      <td>Gita</td>\n",
       "      <td>20</td>\n",
       "      <td>Bara</td>\n",
       "      <td>9845785623</td>\n",
       "      <td>B+</td>\n",
       "    </tr>\n",
       "    <tr>\n",
       "      <th>3</th>\n",
       "      <td>Nabina</td>\n",
       "      <td>45</td>\n",
       "      <td>Bhaktapur</td>\n",
       "      <td>9812234548</td>\n",
       "      <td>O-</td>\n",
       "    </tr>\n",
       "  </tbody>\n",
       "</table>\n",
       "</div>"
      ],
      "text/plain": [
       "     Name  Age    Address       Phone Blood\n",
       "0     Ram   25  Kathmandu  9856235689    A+\n",
       "1   Shyam   32  Kathmandu  9856124578    B+\n",
       "2    Gita   20       Bara  9845785623    B+\n",
       "3  Nabina   45  Bhaktapur  9812234548    O-"
      ]
     },
     "execution_count": 21,
     "metadata": {},
     "output_type": "execute_result"
    }
   ],
   "source": [
    "import pandas as pd\n",
    "df = pd.read_csv('info.csv',nrows = 4)  # print 4 rows datas\n",
    "df"
   ]
  },
  {
   "cell_type": "code",
   "execution_count": 22,
   "metadata": {},
   "outputs": [
    {
     "data": {
      "text/html": [
       "<div>\n",
       "<style scoped>\n",
       "    .dataframe tbody tr th:only-of-type {\n",
       "        vertical-align: middle;\n",
       "    }\n",
       "\n",
       "    .dataframe tbody tr th {\n",
       "        vertical-align: top;\n",
       "    }\n",
       "\n",
       "    .dataframe thead th {\n",
       "        text-align: right;\n",
       "    }\n",
       "</style>\n",
       "<table border=\"1\" class=\"dataframe\">\n",
       "  <thead>\n",
       "    <tr style=\"text-align: right;\">\n",
       "      <th></th>\n",
       "      <th>Age</th>\n",
       "      <th>Address</th>\n",
       "      <th>Phone</th>\n",
       "      <th>Blood</th>\n",
       "    </tr>\n",
       "    <tr>\n",
       "      <th>Name</th>\n",
       "      <th></th>\n",
       "      <th></th>\n",
       "      <th></th>\n",
       "      <th></th>\n",
       "    </tr>\n",
       "  </thead>\n",
       "  <tbody>\n",
       "    <tr>\n",
       "      <th>Ram</th>\n",
       "      <td>25</td>\n",
       "      <td>Kathmandu</td>\n",
       "      <td>9856235689</td>\n",
       "      <td>A+</td>\n",
       "    </tr>\n",
       "    <tr>\n",
       "      <th>Shyam</th>\n",
       "      <td>32</td>\n",
       "      <td>Kathmandu</td>\n",
       "      <td>9856124578</td>\n",
       "      <td>B+</td>\n",
       "    </tr>\n",
       "    <tr>\n",
       "      <th>Gita</th>\n",
       "      <td>20</td>\n",
       "      <td>Bara</td>\n",
       "      <td>9845785623</td>\n",
       "      <td>B+</td>\n",
       "    </tr>\n",
       "    <tr>\n",
       "      <th>Nabina</th>\n",
       "      <td>45</td>\n",
       "      <td>Bhaktapur</td>\n",
       "      <td>9812234548</td>\n",
       "      <td>O-</td>\n",
       "    </tr>\n",
       "    <tr>\n",
       "      <th>Tara</th>\n",
       "      <td>65</td>\n",
       "      <td>Pyuthan</td>\n",
       "      <td>9823127898</td>\n",
       "      <td>AB+</td>\n",
       "    </tr>\n",
       "    <tr>\n",
       "      <th>Uttam</th>\n",
       "      <td>18</td>\n",
       "      <td>Bhaktapur</td>\n",
       "      <td>9845657823</td>\n",
       "      <td>AB-</td>\n",
       "    </tr>\n",
       "  </tbody>\n",
       "</table>\n",
       "</div>"
      ],
      "text/plain": [
       "        Age    Address       Phone Blood\n",
       "Name                                    \n",
       "Ram      25  Kathmandu  9856235689    A+\n",
       "Shyam    32  Kathmandu  9856124578    B+\n",
       "Gita     20       Bara  9845785623    B+\n",
       "Nabina   45  Bhaktapur  9812234548    O-\n",
       "Tara     65    Pyuthan  9823127898   AB+\n",
       "Uttam    18  Bhaktapur  9845657823   AB-"
      ]
     },
     "execution_count": 22,
     "metadata": {},
     "output_type": "execute_result"
    }
   ],
   "source": [
    "import pandas as pd\n",
    "df = pd.read_csv('info.csv',index_col = 'Name')\n",
    "df"
   ]
  },
  {
   "cell_type": "code",
   "execution_count": 23,
   "metadata": {},
   "outputs": [
    {
     "data": {
      "text/html": [
       "<div>\n",
       "<style scoped>\n",
       "    .dataframe tbody tr th:only-of-type {\n",
       "        vertical-align: middle;\n",
       "    }\n",
       "\n",
       "    .dataframe tbody tr th {\n",
       "        vertical-align: top;\n",
       "    }\n",
       "\n",
       "    .dataframe thead th {\n",
       "        text-align: right;\n",
       "    }\n",
       "</style>\n",
       "<table border=\"1\" class=\"dataframe\">\n",
       "  <thead>\n",
       "    <tr style=\"text-align: right;\">\n",
       "      <th></th>\n",
       "      <th>Age</th>\n",
       "      <th>Address</th>\n",
       "      <th>Phone</th>\n",
       "      <th>Blood</th>\n",
       "    </tr>\n",
       "    <tr>\n",
       "      <th>Name</th>\n",
       "      <th></th>\n",
       "      <th></th>\n",
       "      <th></th>\n",
       "      <th></th>\n",
       "    </tr>\n",
       "  </thead>\n",
       "  <tbody>\n",
       "    <tr>\n",
       "      <th>Ram</th>\n",
       "      <td>25</td>\n",
       "      <td>Kathmandu</td>\n",
       "      <td>9856235689</td>\n",
       "      <td>A+</td>\n",
       "    </tr>\n",
       "    <tr>\n",
       "      <th>Shyam</th>\n",
       "      <td>32</td>\n",
       "      <td>Kathmandu</td>\n",
       "      <td>9856124578</td>\n",
       "      <td>B+</td>\n",
       "    </tr>\n",
       "    <tr>\n",
       "      <th>Gita</th>\n",
       "      <td>20</td>\n",
       "      <td>Bara</td>\n",
       "      <td>9845785623</td>\n",
       "      <td>B+</td>\n",
       "    </tr>\n",
       "    <tr>\n",
       "      <th>Nabina</th>\n",
       "      <td>45</td>\n",
       "      <td>Bhaktapur</td>\n",
       "      <td>9812234548</td>\n",
       "      <td>O-</td>\n",
       "    </tr>\n",
       "  </tbody>\n",
       "</table>\n",
       "</div>"
      ],
      "text/plain": [
       "        Age    Address       Phone Blood\n",
       "Name                                    \n",
       "Ram      25  Kathmandu  9856235689    A+\n",
       "Shyam    32  Kathmandu  9856124578    B+\n",
       "Gita     20       Bara  9845785623    B+\n",
       "Nabina   45  Bhaktapur  9812234548    O-"
      ]
     },
     "execution_count": 23,
     "metadata": {},
     "output_type": "execute_result"
    }
   ],
   "source": [
    "import pandas as pd\n",
    "df = pd.read_csv('info.csv',index_col = 'Name')\n",
    "df.head(4)"
   ]
  },
  {
   "cell_type": "code",
   "execution_count": 26,
   "metadata": {},
   "outputs": [
    {
     "data": {
      "text/html": [
       "<div>\n",
       "<style scoped>\n",
       "    .dataframe tbody tr th:only-of-type {\n",
       "        vertical-align: middle;\n",
       "    }\n",
       "\n",
       "    .dataframe tbody tr th {\n",
       "        vertical-align: top;\n",
       "    }\n",
       "\n",
       "    .dataframe thead th {\n",
       "        text-align: right;\n",
       "    }\n",
       "</style>\n",
       "<table border=\"1\" class=\"dataframe\">\n",
       "  <thead>\n",
       "    <tr style=\"text-align: right;\">\n",
       "      <th></th>\n",
       "      <th>Name</th>\n",
       "      <th>Address</th>\n",
       "      <th>Phone</th>\n",
       "      <th>Blood</th>\n",
       "    </tr>\n",
       "    <tr>\n",
       "      <th>Age</th>\n",
       "      <th></th>\n",
       "      <th></th>\n",
       "      <th></th>\n",
       "      <th></th>\n",
       "    </tr>\n",
       "  </thead>\n",
       "  <tbody>\n",
       "    <tr>\n",
       "      <th>20</th>\n",
       "      <td>Gita</td>\n",
       "      <td>Bara</td>\n",
       "      <td>9845785623</td>\n",
       "      <td>B+</td>\n",
       "    </tr>\n",
       "    <tr>\n",
       "      <th>45</th>\n",
       "      <td>Nabina</td>\n",
       "      <td>Bhaktapur</td>\n",
       "      <td>9812234548</td>\n",
       "      <td>O-</td>\n",
       "    </tr>\n",
       "    <tr>\n",
       "      <th>65</th>\n",
       "      <td>Tara</td>\n",
       "      <td>Pyuthan</td>\n",
       "      <td>9823127898</td>\n",
       "      <td>AB+</td>\n",
       "    </tr>\n",
       "    <tr>\n",
       "      <th>18</th>\n",
       "      <td>Uttam</td>\n",
       "      <td>Bhaktapur</td>\n",
       "      <td>9845657823</td>\n",
       "      <td>AB-</td>\n",
       "    </tr>\n",
       "  </tbody>\n",
       "</table>\n",
       "</div>"
      ],
      "text/plain": [
       "       Name    Address       Phone Blood\n",
       "Age                                     \n",
       "20     Gita       Bara  9845785623    B+\n",
       "45   Nabina  Bhaktapur  9812234548    O-\n",
       "65     Tara    Pyuthan  9823127898   AB+\n",
       "18    Uttam  Bhaktapur  9845657823   AB-"
      ]
     },
     "execution_count": 26,
     "metadata": {},
     "output_type": "execute_result"
    }
   ],
   "source": [
    "import pandas as pd\n",
    "df = pd.read_csv('info.csv',index_col = 1)\n",
    "# df.head(4)\n",
    "df.tail(4)   #read table data from bottom"
   ]
  },
  {
   "cell_type": "code",
   "execution_count": 30,
   "metadata": {},
   "outputs": [
    {
     "data": {
      "text/html": [
       "<div>\n",
       "<style scoped>\n",
       "    .dataframe tbody tr th:only-of-type {\n",
       "        vertical-align: middle;\n",
       "    }\n",
       "\n",
       "    .dataframe tbody tr th {\n",
       "        vertical-align: top;\n",
       "    }\n",
       "\n",
       "    .dataframe thead th {\n",
       "        text-align: right;\n",
       "    }\n",
       "</style>\n",
       "<table border=\"1\" class=\"dataframe\">\n",
       "  <thead>\n",
       "    <tr style=\"text-align: right;\">\n",
       "      <th></th>\n",
       "      <th>Address</th>\n",
       "    </tr>\n",
       "    <tr>\n",
       "      <th>Name</th>\n",
       "      <th></th>\n",
       "    </tr>\n",
       "  </thead>\n",
       "  <tbody>\n",
       "    <tr>\n",
       "      <th>Ram</th>\n",
       "      <td>Kathmandu</td>\n",
       "    </tr>\n",
       "    <tr>\n",
       "      <th>Shyam</th>\n",
       "      <td>Kathmandu</td>\n",
       "    </tr>\n",
       "    <tr>\n",
       "      <th>Gita</th>\n",
       "      <td>Bara</td>\n",
       "    </tr>\n",
       "    <tr>\n",
       "      <th>Nabina</th>\n",
       "      <td>Bhaktapur</td>\n",
       "    </tr>\n",
       "    <tr>\n",
       "      <th>Tara</th>\n",
       "      <td>Pyuthan</td>\n",
       "    </tr>\n",
       "  </tbody>\n",
       "</table>\n",
       "</div>"
      ],
      "text/plain": [
       "          Address\n",
       "Name             \n",
       "Ram     Kathmandu\n",
       "Shyam   Kathmandu\n",
       "Gita         Bara\n",
       "Nabina  Bhaktapur\n",
       "Tara      Pyuthan"
      ]
     },
     "execution_count": 30,
     "metadata": {},
     "output_type": "execute_result"
    }
   ],
   "source": [
    "import pandas as pd\n",
    "df = pd.read_csv('info.csv',index_col = \"Name\",usecols = ['Name','Address'])\n",
    "df.head()   "
   ]
  },
  {
   "cell_type": "code",
   "execution_count": null,
   "metadata": {},
   "outputs": [],
   "source": []
  },
  {
   "cell_type": "code",
   "execution_count": null,
   "metadata": {},
   "outputs": [],
   "source": []
  },
  {
   "cell_type": "code",
   "execution_count": null,
   "metadata": {},
   "outputs": [],
   "source": []
  }
 ],
 "metadata": {
  "kernelspec": {
   "display_name": "Python 3",
   "language": "python",
   "name": "python3"
  },
  "language_info": {
   "codemirror_mode": {
    "name": "ipython",
    "version": 3
   },
   "file_extension": ".py",
   "mimetype": "text/x-python",
   "name": "python",
   "nbconvert_exporter": "python",
   "pygments_lexer": "ipython3",
   "version": "3.8.5"
  }
 },
 "nbformat": 4,
 "nbformat_minor": 4
}
