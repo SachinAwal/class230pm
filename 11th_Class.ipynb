{
 "cells": [
  {
   "cell_type": "code",
   "execution_count": null,
   "metadata": {},
   "outputs": [],
   "source": [
    "# dictionary\n",
    "# -mutable data type\n",
    "# -multiple values accept\n",
    "# -indexing\n",
    "# -ordered\n",
    "# -duplicate members\n",
    "# -no duplicate index"
   ]
  },
  {
   "cell_type": "code",
   "execution_count": 1,
   "metadata": {},
   "outputs": [
    {
     "data": {
      "text/plain": [
       "dict"
      ]
     },
     "execution_count": 1,
     "metadata": {},
     "output_type": "execute_result"
    }
   ],
   "source": [
    "a = {}\n",
    "type(a)"
   ]
  },
  {
   "cell_type": "code",
   "execution_count": 2,
   "metadata": {},
   "outputs": [
    {
     "name": "stdout",
     "output_type": "stream",
     "text": [
      "{'A': 'Apple', 'B': 'Ball'}\n",
      "<class 'dict'>\n"
     ]
    }
   ],
   "source": [
    "# a = {<key>:<value>,<key>:<value>}\n",
    "a = {\"A\":\"Apple\",\"B\":\"Ball\"}\n",
    "b = {0:\"Apple\",1:\"Ball\"}\n",
    "print(a)\n",
    "print(type(a))"
   ]
  },
  {
   "cell_type": "code",
   "execution_count": 3,
   "metadata": {},
   "outputs": [
    {
     "name": "stdout",
     "output_type": "stream",
     "text": [
      "{'A': 'Apple', 'a': 'Apple'}\n"
     ]
    }
   ],
   "source": [
    "a = {\"A\":\"Apple\",\"a\":\"Apple\"}\n",
    "print(a)"
   ]
  },
  {
   "cell_type": "code",
   "execution_count": 9,
   "metadata": {},
   "outputs": [
    {
     "data": {
      "text/plain": [
       "'Apple'"
      ]
     },
     "execution_count": 9,
     "metadata": {},
     "output_type": "execute_result"
    }
   ],
   "source": [
    "a = {\"A\":\"Apple\",\"a\":\"Apple\"}\n",
    "a[\"A\"]"
   ]
  },
  {
   "cell_type": "code",
   "execution_count": 10,
   "metadata": {},
   "outputs": [
    {
     "ename": "KeyError",
     "evalue": "0",
     "output_type": "error",
     "traceback": [
      "\u001b[1;31m---------------------------------------------------------------------------\u001b[0m",
      "\u001b[1;31mKeyError\u001b[0m                                  Traceback (most recent call last)",
      "\u001b[1;32m<ipython-input-10-7dcfcf4fbca5>\u001b[0m in \u001b[0;36m<module>\u001b[1;34m\u001b[0m\n\u001b[0;32m      1\u001b[0m \u001b[0ma\u001b[0m \u001b[1;33m=\u001b[0m \u001b[1;33m{\u001b[0m\u001b[1;34m\"A\"\u001b[0m\u001b[1;33m:\u001b[0m\u001b[1;34m\"Apple\"\u001b[0m\u001b[1;33m,\u001b[0m\u001b[1;34m\"a\"\u001b[0m\u001b[1;33m:\u001b[0m\u001b[1;34m\"Apple\"\u001b[0m\u001b[1;33m}\u001b[0m\u001b[1;33m\u001b[0m\u001b[1;33m\u001b[0m\u001b[0m\n\u001b[1;32m----> 2\u001b[1;33m \u001b[0ma\u001b[0m\u001b[1;33m[\u001b[0m\u001b[1;36m0\u001b[0m\u001b[1;33m]\u001b[0m\u001b[1;33m\u001b[0m\u001b[1;33m\u001b[0m\u001b[0m\n\u001b[0m",
      "\u001b[1;31mKeyError\u001b[0m: 0"
     ]
    }
   ],
   "source": [
    "a = {\"A\":\"Apple\",\"a\":\"Apple\"}\n",
    "a[0]                       #dictionary value cannot be call by using indexing like 0,1,2,...."
   ]
  },
  {
   "cell_type": "code",
   "execution_count": 11,
   "metadata": {},
   "outputs": [
    {
     "name": "stdout",
     "output_type": "stream",
     "text": [
      "{1: 'apple', 0: 'Apple'}\n"
     ]
    }
   ],
   "source": [
    "a = {1:\"apple\",0:\"Apple\"}\n",
    "print(a)"
   ]
  },
  {
   "cell_type": "code",
   "execution_count": 14,
   "metadata": {},
   "outputs": [
    {
     "name": "stdout",
     "output_type": "stream",
     "text": [
      "{'A': 'Ant'}\n"
     ]
    }
   ],
   "source": [
    "# -mutable data type\n",
    "# -no duplicate index\n",
    "a = {\"A\":\"Apple\",\"A\":\"Ant\"}\n",
    "print(a)"
   ]
  },
  {
   "cell_type": "code",
   "execution_count": 17,
   "metadata": {},
   "outputs": [
    {
     "ename": "TypeError",
     "evalue": "unsupported operand type(s) for +: 'dict' and 'dict'",
     "output_type": "error",
     "traceback": [
      "\u001b[1;31m---------------------------------------------------------------------------\u001b[0m",
      "\u001b[1;31mTypeError\u001b[0m                                 Traceback (most recent call last)",
      "\u001b[1;32m<ipython-input-17-99f23b941f39>\u001b[0m in \u001b[0;36m<module>\u001b[1;34m\u001b[0m\n\u001b[0;32m      2\u001b[0m \u001b[0ma\u001b[0m \u001b[1;33m=\u001b[0m \u001b[1;33m{\u001b[0m\u001b[1;34m\"A\"\u001b[0m\u001b[1;33m:\u001b[0m\u001b[1;34m\"Apple\"\u001b[0m\u001b[1;33m}\u001b[0m\u001b[1;33m\u001b[0m\u001b[1;33m\u001b[0m\u001b[0m\n\u001b[0;32m      3\u001b[0m \u001b[0mb\u001b[0m \u001b[1;33m=\u001b[0m \u001b[1;33m{\u001b[0m\u001b[1;34m\"B\"\u001b[0m\u001b[1;33m:\u001b[0m\u001b[1;34m\"Ball\"\u001b[0m\u001b[1;33m}\u001b[0m\u001b[1;33m\u001b[0m\u001b[1;33m\u001b[0m\u001b[0m\n\u001b[1;32m----> 4\u001b[1;33m \u001b[0mprint\u001b[0m\u001b[1;33m(\u001b[0m\u001b[0ma\u001b[0m\u001b[1;33m+\u001b[0m\u001b[0mb\u001b[0m\u001b[1;33m)\u001b[0m\u001b[1;33m\u001b[0m\u001b[1;33m\u001b[0m\u001b[0m\n\u001b[0m",
      "\u001b[1;31mTypeError\u001b[0m: unsupported operand type(s) for +: 'dict' and 'dict'"
     ]
    }
   ],
   "source": [
    "# + , *          these operators cannot be used.\n",
    "a = {\"A\":\"Apple\"} \n",
    "b = {\"B\":\"Ball\"}\n",
    "print(a+b)"
   ]
  },
  {
   "cell_type": "code",
   "execution_count": 18,
   "metadata": {},
   "outputs": [
    {
     "ename": "TypeError",
     "evalue": "unsupported operand type(s) for *: 'dict' and 'int'",
     "output_type": "error",
     "traceback": [
      "\u001b[1;31m---------------------------------------------------------------------------\u001b[0m",
      "\u001b[1;31mTypeError\u001b[0m                                 Traceback (most recent call last)",
      "\u001b[1;32m<ipython-input-18-7a1a07bc48e7>\u001b[0m in \u001b[0;36m<module>\u001b[1;34m\u001b[0m\n\u001b[0;32m      1\u001b[0m \u001b[0ma\u001b[0m \u001b[1;33m=\u001b[0m \u001b[1;33m{\u001b[0m\u001b[1;34m\"A\"\u001b[0m\u001b[1;33m:\u001b[0m\u001b[1;34m\"Apple\"\u001b[0m\u001b[1;33m}\u001b[0m\u001b[1;33m\u001b[0m\u001b[1;33m\u001b[0m\u001b[0m\n\u001b[0;32m      2\u001b[0m \u001b[0mb\u001b[0m \u001b[1;33m=\u001b[0m \u001b[1;33m{\u001b[0m\u001b[1;34m\"B\"\u001b[0m\u001b[1;33m:\u001b[0m\u001b[1;34m\"Ball\"\u001b[0m\u001b[1;33m}\u001b[0m\u001b[1;33m\u001b[0m\u001b[1;33m\u001b[0m\u001b[0m\n\u001b[1;32m----> 3\u001b[1;33m \u001b[0mprint\u001b[0m\u001b[1;33m(\u001b[0m\u001b[0ma\u001b[0m\u001b[1;33m*\u001b[0m\u001b[1;36m2\u001b[0m\u001b[1;33m)\u001b[0m\u001b[1;33m\u001b[0m\u001b[1;33m\u001b[0m\u001b[0m\n\u001b[0m",
      "\u001b[1;31mTypeError\u001b[0m: unsupported operand type(s) for *: 'dict' and 'int'"
     ]
    }
   ],
   "source": [
    "a = {\"A\":\"Apple\"} \n",
    "b = {\"B\":\"Ball\"}\n",
    "print(a*2)"
   ]
  },
  {
   "cell_type": "code",
   "execution_count": 20,
   "metadata": {},
   "outputs": [
    {
     "name": "stdout",
     "output_type": "stream",
     "text": [
      "{'A': 'Apple', 'B': 'Ball'}\n"
     ]
    }
   ],
   "source": [
    "a = {\"A\":\"Apple\"} \n",
    "b = {\"B\":\"Ball\"}\n",
    "a.update(b)\n",
    "print(a)"
   ]
  },
  {
   "cell_type": "code",
   "execution_count": 21,
   "metadata": {},
   "outputs": [
    {
     "name": "stdout",
     "output_type": "stream",
     "text": [
      "{'B': 'Ball'}\n"
     ]
    }
   ],
   "source": [
    "a = {}\n",
    "b = {\"B\":\"Ball\"}\n",
    "a.update(b)\n",
    "print(a)"
   ]
  },
  {
   "cell_type": "code",
   "execution_count": 23,
   "metadata": {},
   "outputs": [
    {
     "name": "stdout",
     "output_type": "stream",
     "text": [
      "{'A': 'Apple', 'B': 'Ball'}\n"
     ]
    }
   ],
   "source": [
    "a = {}\n",
    "a[\"A\"] = \"Apple\"\n",
    "a[\"B\"] = \"Ball\"\n",
    "print(a)"
   ]
  },
  {
   "cell_type": "code",
   "execution_count": 24,
   "metadata": {},
   "outputs": [
    {
     "name": "stdout",
     "output_type": "stream",
     "text": [
      "{'A': 'Ball'}\n"
     ]
    }
   ],
   "source": [
    "a = {}                               #Index must be unique otherwise the result will be different than expect. \n",
    "a[\"A\"] = \"Apple\"\n",
    "a[\"A\"] = \"Ball\"\n",
    "print(a)"
   ]
  },
  {
   "cell_type": "code",
   "execution_count": 25,
   "metadata": {},
   "outputs": [
    {
     "name": "stdout",
     "output_type": "stream",
     "text": [
      "Enter the value of n: 2\n",
      "Enter the value of a: Apple\n",
      "Enter the value of a: Ant\n",
      "{0: 'Apple', 1: 'Ant'}\n"
     ]
    }
   ],
   "source": [
    "c = {}\n",
    "n = int(input(\"Enter the value of n: \"))\n",
    "for i in range(n):\n",
    "    a = input(\"Enter the value of a: \")\n",
    "    c[i] = a\n",
    "print(c)    "
   ]
  },
  {
   "cell_type": "code",
   "execution_count": 27,
   "metadata": {},
   "outputs": [
    {
     "name": "stdout",
     "output_type": "stream",
     "text": [
      "Enter the value of n: 2\n",
      "Enter the name: Ram\n",
      "Enter the phone: 985665665\n",
      "Enter the name: Shyam\n",
      "Enter the phone: 985662663\n",
      "{'Ram': 985665665, 'Shyam': 985662663}\n"
     ]
    }
   ],
   "source": [
    "info = {}\n",
    "n = int(input(\"Enter the value of n: \"))\n",
    "for i in range(n):\n",
    "    name = input(\"Enter the name: \")\n",
    "    phone = int(input(\"Enter the phone: \"))\n",
    "    info[name] = phone\n",
    "print(info)    "
   ]
  },
  {
   "cell_type": "code",
   "execution_count": 30,
   "metadata": {},
   "outputs": [
    {
     "name": "stdout",
     "output_type": "stream",
     "text": [
      "Ram\n",
      "Shyam\n"
     ]
    }
   ],
   "source": [
    "info = {'Ram': 985665665, 'Shyam': 985662663}\n",
    "for i in info:\n",
    "    print(i)"
   ]
  },
  {
   "cell_type": "code",
   "execution_count": 31,
   "metadata": {},
   "outputs": [
    {
     "name": "stdout",
     "output_type": "stream",
     "text": [
      "985665665\n",
      "985662663\n"
     ]
    }
   ],
   "source": [
    "info = {'Ram': 985665665, 'Shyam': 985662663}\n",
    "for i in info.values():\n",
    "    print(i)"
   ]
  },
  {
   "cell_type": "code",
   "execution_count": 33,
   "metadata": {},
   "outputs": [
    {
     "name": "stdout",
     "output_type": "stream",
     "text": [
      "('Ram', 985665665)\n",
      "('Shyam', 985662663)\n"
     ]
    }
   ],
   "source": [
    "info = {'Ram': 985665665, 'Shyam': 985662663}\n",
    "for i in info.items():\n",
    "    print(i)"
   ]
  },
  {
   "cell_type": "code",
   "execution_count": 34,
   "metadata": {},
   "outputs": [
    {
     "name": "stdout",
     "output_type": "stream",
     "text": [
      "{'Ram': 986258659, 'Shyam': 985662663}\n"
     ]
    }
   ],
   "source": [
    "a = {'Ram': 985665665, 'Shyam': 985662663}\n",
    "a[\"Ram\"] = 986258659\n",
    "print(a)"
   ]
  },
  {
   "cell_type": "code",
   "execution_count": 35,
   "metadata": {},
   "outputs": [
    {
     "name": "stdout",
     "output_type": "stream",
     "text": [
      "{'Shyam': 985662663}\n"
     ]
    }
   ],
   "source": [
    "a = {'Ram': 985665665, 'Shyam': 985662663}\n",
    "del a['Ram']\n",
    "print(a)"
   ]
  },
  {
   "cell_type": "code",
   "execution_count": 36,
   "metadata": {},
   "outputs": [
    {
     "name": "stdout",
     "output_type": "stream",
     "text": [
      "{'Shyam': 985662663}\n"
     ]
    }
   ],
   "source": [
    "a = {'Ram': 985665665, 'Shyam': 985662663}\n",
    "a.pop('Ram')                       # .pop() is used to delete the key values as well as moving the values \n",
    "print(a)"
   ]
  },
  {
   "cell_type": "code",
   "execution_count": 37,
   "metadata": {},
   "outputs": [
    {
     "name": "stdout",
     "output_type": "stream",
     "text": [
      "985665665\n"
     ]
    }
   ],
   "source": [
    "a = {'Ram': 985665665, 'Shyam': 985662663}\n",
    "b = a.pop('Ram')\n",
    "print(b)"
   ]
  },
  {
   "cell_type": "code",
   "execution_count": 38,
   "metadata": {},
   "outputs": [
    {
     "name": "stdout",
     "output_type": "stream",
     "text": [
      "{'Ram': [985665665, 986522235], 'Shyam': [985662663, 985236585]}\n",
      "<class 'dict'>\n",
      "2\n"
     ]
    }
   ],
   "source": [
    "# list inside dictionary\n",
    "a = {'Ram': [985665665,986522235], 'Shyam': [985662663,985236585]}\n",
    "print(a)\n",
    "print(type(a))\n",
    "print(len(a))"
   ]
  },
  {
   "cell_type": "code",
   "execution_count": 39,
   "metadata": {},
   "outputs": [
    {
     "name": "stdout",
     "output_type": "stream",
     "text": [
      "[985665665, 986522235]\n"
     ]
    }
   ],
   "source": [
    "a = {'Ram': [985665665,986522235], 'Shyam': [985662663,985236585]}\n",
    "print(a['Ram'])"
   ]
  },
  {
   "cell_type": "code",
   "execution_count": 40,
   "metadata": {},
   "outputs": [
    {
     "name": "stdout",
     "output_type": "stream",
     "text": [
      "985665665\n"
     ]
    }
   ],
   "source": [
    "a = {'Ram': [985665665,986522235], 'Shyam': [985662663,985236585]}\n",
    "print(a['Ram'][0])"
   ]
  },
  {
   "cell_type": "code",
   "execution_count": 45,
   "metadata": {},
   "outputs": [
    {
     "name": "stdout",
     "output_type": "stream",
     "text": [
      "Enter the name: Ram\n",
      "Enter 0 for 'NTC' 1 for 'Ncell' 1\n",
      "The info is 986522235\n"
     ]
    }
   ],
   "source": [
    "a = {'Ram': [985665665,986522235], 'Shyam': [985662663,985236585]}\n",
    "name = input(\"Enter the name: \")\n",
    "typ = int(input(\"Enter 0 for 'NTC' 1 for 'Ncell' \"))\n",
    "print(\"The info is\",a[name][typ])"
   ]
  },
  {
   "cell_type": "code",
   "execution_count": 46,
   "metadata": {},
   "outputs": [
    {
     "name": "stdout",
     "output_type": "stream",
     "text": [
      "{'Ram': [985665665, 986522235, 6635859], 'Shyam': [985662663, 985236585]}\n"
     ]
    }
   ],
   "source": [
    "a = {'Ram': [985665665,986522235], 'Shyam': [985662663,985236585]}\n",
    "a['Ram'].append(6635859)\n",
    "print(a)"
   ]
  },
  {
   "cell_type": "code",
   "execution_count": 48,
   "metadata": {},
   "outputs": [
    {
     "name": "stdout",
     "output_type": "stream",
     "text": [
      "{'Ram': [985665665, 986522235], 'Shyam': [985662663, 985236585]}\n"
     ]
    }
   ],
   "source": [
    "a = {'Ram': [985665665, 986522235, 6635859], 'Shyam': [985662663, 985236585]}\n",
    "del a['Ram'][2]\n",
    "print(a)"
   ]
  },
  {
   "cell_type": "code",
   "execution_count": 50,
   "metadata": {},
   "outputs": [
    {
     "name": "stdout",
     "output_type": "stream",
     "text": [
      "Enter the value of n: 2\n",
      "Enter the name: Ram\n",
      "Enter the NTC phone no.: 9852653595\n",
      "Enter the NCELL phone no.: 9801235689\n",
      "Enter the name: Shyam\n",
      "Enter the NTC phone no.: 9865329856\n",
      "Enter the NCELL phone no.: 9808259585\n",
      "{'Ram': [9852653595, 9801235689], 'Shyam': [9865329856, 9808259585]}\n"
     ]
    }
   ],
   "source": [
    "info = {}\n",
    "n = int(input(\"Enter the value of n: \"))\n",
    "for i in range(n):\n",
    "    name = input(\"Enter the name: \")\n",
    "    ntc_phone = int(input(\"Enter the NTC phone no.: \"))\n",
    "    ncell_phone = int(input(\"Enter the NCELL phone no.: \"))\n",
    "    info[name] = [ntc_phone,ncell_phone]\n",
    "print(info)    "
   ]
  },
  {
   "cell_type": "code",
   "execution_count": 51,
   "metadata": {},
   "outputs": [
    {
     "name": "stdout",
     "output_type": "stream",
     "text": [
      "{'Ram': (9852653595, 9801235689), 'Shyam': (9865329856, 9808259585)}\n"
     ]
    }
   ],
   "source": [
    "# tuple inside dictionary\n",
    "a = {'Ram': (9852653595, 9801235689), 'Shyam': (9865329856, 9808259585)}\n",
    "print(a)"
   ]
  },
  {
   "cell_type": "code",
   "execution_count": 52,
   "metadata": {},
   "outputs": [
    {
     "name": "stdout",
     "output_type": "stream",
     "text": [
      "Enter the value of n: 2\n",
      "Enter the name: Ram\n",
      "Enter the NTC phone no.: 98256565\n",
      "Enter the NCELL phone no.: 9851515\n",
      "Enter the name: Shyam\n",
      "Enter the NTC phone no.: 9865565\n",
      "Enter the NCELL phone no.: 9856565\n",
      "{'Ram': (98256565, 9851515), 'Shyam': (9865565, 9856565)}\n"
     ]
    }
   ],
   "source": [
    "info = {}\n",
    "n = int(input(\"Enter the value of n: \"))\n",
    "for i in range(n):\n",
    "    name = input(\"Enter the name: \")\n",
    "    ntc_phone = int(input(\"Enter the NTC phone no.: \"))\n",
    "    ncell_phone = int(input(\"Enter the NCELL phone no.: \"))\n",
    "    info[name] = (ntc_phone,ncell_phone)\n",
    "print(info)   "
   ]
  },
  {
   "cell_type": "code",
   "execution_count": 53,
   "metadata": {},
   "outputs": [
    {
     "name": "stdout",
     "output_type": "stream",
     "text": [
      "{'Ram': {'NTC': 9856235689, 'Ncell': 9862585685}, 'Shyam': {'NTC': 9856457812, 'Ncell': 9845786521}}\n"
     ]
    }
   ],
   "source": [
    "# dictionary inside dictionary\n",
    "a = {\"Ram\":{\"NTC\":9856235689, \"Ncell\":9862585685},\"Shyam\":{\"NTC\":9856457812,\"Ncell\":9845786521}}\n",
    "print(a)"
   ]
  },
  {
   "cell_type": "code",
   "execution_count": 54,
   "metadata": {},
   "outputs": [
    {
     "name": "stdout",
     "output_type": "stream",
     "text": [
      "{'NTC': 9856235689, 'Ncell': 9862585685}\n"
     ]
    }
   ],
   "source": [
    "a = {\"Ram\":{\"NTC\":9856235689, \"Ncell\":9862585685},\"Shyam\":{\"NTC\":9856457812,\"Ncell\":9845786521}}\n",
    "print(a[\"Ram\"])"
   ]
  },
  {
   "cell_type": "code",
   "execution_count": 55,
   "metadata": {},
   "outputs": [
    {
     "name": "stdout",
     "output_type": "stream",
     "text": [
      "9856235689\n"
     ]
    }
   ],
   "source": [
    "a = {\"Ram\":{\"NTC\":9856235689, \"Ncell\":9862585685},\"Shyam\":{\"NTC\":9856457812,\"Ncell\":9845786521}}\n",
    "print(a[\"Ram\"][\"NTC\"])"
   ]
  },
  {
   "cell_type": "code",
   "execution_count": 56,
   "metadata": {},
   "outputs": [
    {
     "name": "stdout",
     "output_type": "stream",
     "text": [
      "('Ram', {'NTC': 9856235689, 'Ncell': 9862585685})\n",
      "('Shyam', {'NTC': 9856457812, 'Ncell': 9845786521})\n"
     ]
    }
   ],
   "source": [
    "a = {\"Ram\":{\"NTC\":9856235689, \"Ncell\":9862585685},\"Shyam\":{\"NTC\":9856457812,\"Ncell\":9845786521}}\n",
    "for i in a.items():\n",
    "    print(i)"
   ]
  },
  {
   "cell_type": "code",
   "execution_count": 58,
   "metadata": {
    "scrolled": true
   },
   "outputs": [
    {
     "name": "stdout",
     "output_type": "stream",
     "text": [
      "{'NTC': 9856235689, 'Ncell': 9862585685}\n",
      "{'NTC': 9856457812, 'Ncell': 9845786521}\n"
     ]
    }
   ],
   "source": [
    "a = {\"Ram\":{\"NTC\":9856235689, \"Ncell\":9862585685},\"Shyam\":{\"NTC\":9856457812,\"Ncell\":9845786521}}\n",
    "for i in a:\n",
    "    print(a[i])"
   ]
  },
  {
   "cell_type": "code",
   "execution_count": 59,
   "metadata": {},
   "outputs": [
    {
     "name": "stdout",
     "output_type": "stream",
     "text": [
      "Enter the value of n: 2\n",
      "Enter the name: Ram\n",
      "Enter the NTC phone no.: 9823568945\n",
      "Enter the NCELL phone no.: 9878456523\n",
      "Enter the name: Shyam\n",
      "Enter the NTC phone no.: 9823564\n",
      "Enter the NCELL phone no.: 984521655\n",
      "{'Ram': {'NTC': 9823568945, 'NCELL': 9878456523}, 'Shyam': {'NTC': 9823564, 'NCELL': 984521655}}\n"
     ]
    }
   ],
   "source": [
    "info = {}\n",
    "n = int(input(\"Enter the value of n: \"))\n",
    "for i in range(n):\n",
    "    name = input(\"Enter the name: \")\n",
    "    ntc_phone = int(input(\"Enter the NTC phone no.: \"))\n",
    "    ncell_phone = int(input(\"Enter the NCELL phone no.: \"))\n",
    "    info[name] = {\"NTC\":ntc_phone,\"NCELL\":ncell_phone}\n",
    "print(info) "
   ]
  },
  {
   "cell_type": "code",
   "execution_count": null,
   "metadata": {},
   "outputs": [],
   "source": []
  },
  {
   "cell_type": "code",
   "execution_count": null,
   "metadata": {},
   "outputs": [],
   "source": []
  },
  {
   "cell_type": "code",
   "execution_count": null,
   "metadata": {},
   "outputs": [],
   "source": []
  },
  {
   "cell_type": "code",
   "execution_count": null,
   "metadata": {},
   "outputs": [],
   "source": []
  },
  {
   "cell_type": "code",
   "execution_count": null,
   "metadata": {},
   "outputs": [],
   "source": []
  }
 ],
 "metadata": {
  "kernelspec": {
   "display_name": "Python 3",
   "language": "python",
   "name": "python3"
  },
  "language_info": {
   "codemirror_mode": {
    "name": "ipython",
    "version": 3
   },
   "file_extension": ".py",
   "mimetype": "text/x-python",
   "name": "python",
   "nbconvert_exporter": "python",
   "pygments_lexer": "ipython3",
   "version": "3.8.5"
  }
 },
 "nbformat": 4,
 "nbformat_minor": 4
}
