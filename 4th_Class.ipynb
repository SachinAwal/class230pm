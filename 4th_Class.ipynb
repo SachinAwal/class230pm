{
 "cells": [
  {
   "cell_type": "code",
   "execution_count": 4,
   "metadata": {},
   "outputs": [
    {
     "name": "stdout",
     "output_type": "stream",
     "text": [
      "Python"
     ]
    }
   ],
   "source": [
    "a = \"Python\"\n",
    "for i in a:\n",
    "    print(i,end = \"\")"
   ]
  },
  {
   "cell_type": "code",
   "execution_count": null,
   "metadata": {},
   "outputs": [],
   "source": [
    "#while\n",
    "# while <condition>:\n",
    "#     <operations>\n",
    "#     <increament or decrement>"
   ]
  },
  {
   "cell_type": "code",
   "execution_count": 3,
   "metadata": {},
   "outputs": [
    {
     "name": "stdout",
     "output_type": "stream",
     "text": [
      "1 Hello World\n",
      "2 Hello World\n",
      "3 Hello World\n",
      "4 Hello World\n"
     ]
    }
   ],
   "source": [
    "a = 1\n",
    "while a<5:\n",
    "    print(a,\"Hello World\")\n",
    "    a += 1           #a = a+1"
   ]
  },
  {
   "cell_type": "code",
   "execution_count": 5,
   "metadata": {},
   "outputs": [
    {
     "name": "stdout",
     "output_type": "stream",
     "text": [
      "1 Hello World\n",
      "3 Hello World\n",
      "5 Hello World\n"
     ]
    }
   ],
   "source": [
    "a = 1\n",
    "while a<=5:\n",
    "    print(a,\"Hello World\")\n",
    "    a += 2"
   ]
  },
  {
   "cell_type": "code",
   "execution_count": 7,
   "metadata": {},
   "outputs": [
    {
     "name": "stdout",
     "output_type": "stream",
     "text": [
      "Enter n = 2\n",
      "Enter x = 243\n",
      "Enter x = 345\n",
      "The sum is =  588\n",
      "The average is =  294.0\n"
     ]
    }
   ],
   "source": [
    "s = 0\n",
    "i = 0\n",
    "n = int(input(\"Enter n = \"))\n",
    "# for i in range(n):\n",
    "while i<n:\n",
    "    x = int(input(\"Enter x = \"))\n",
    "    s = s+x\n",
    "    i = i+1\n",
    "print(\"The sum is = \",s)\n",
    "print(\"The average is = \",s/n)"
   ]
  },
  {
   "cell_type": "code",
   "execution_count": 8,
   "metadata": {},
   "outputs": [
    {
     "name": "stdout",
     "output_type": "stream",
     "text": [
      "5 Hello World\n",
      "4 Hello World\n",
      "3 Hello World\n",
      "2 Hello World\n",
      "1 Hello World\n"
     ]
    }
   ],
   "source": [
    "a = 5\n",
    "while a>0:\n",
    "    print(a,\"Hello World\")\n",
    "    a -= 1"
   ]
  },
  {
   "cell_type": "code",
   "execution_count": 11,
   "metadata": {},
   "outputs": [
    {
     "name": "stdout",
     "output_type": "stream",
     "text": [
      "5 Python\n",
      "4 Python\n",
      "3 Python\n",
      "2 Python\n",
      "1 Python\n"
     ]
    }
   ],
   "source": [
    "for i in range(5,0,-1):\n",
    "    print(i,'Python')"
   ]
  },
  {
   "cell_type": "code",
   "execution_count": 13,
   "metadata": {},
   "outputs": [
    {
     "name": "stdout",
     "output_type": "stream",
     "text": [
      "5 n\n",
      "4 o\n",
      "3 h\n",
      "2 t\n",
      "1 y\n",
      "0 P\n"
     ]
    }
   ],
   "source": [
    "a = \"Python\"\n",
    "for i in range(5,-1,-1):\n",
    "    print(i,a[i])"
   ]
  },
  {
   "cell_type": "code",
   "execution_count": 16,
   "metadata": {},
   "outputs": [
    {
     "name": "stdout",
     "output_type": "stream",
     "text": [
      "nohtyP"
     ]
    }
   ],
   "source": [
    "a = \"Python\"\n",
    "for i in range(5,-1,-1):\n",
    "    print(a[i],end=\"\")"
   ]
  },
  {
   "cell_type": "code",
   "execution_count": 4,
   "metadata": {},
   "outputs": [
    {
     "name": "stdout",
     "output_type": "stream",
     "text": [
      "Enter a = python\n",
      "nohtyp"
     ]
    }
   ],
   "source": [
    "a = input(\"Enter a = \")\n",
    "n = len(a)\n",
    "# for i in range(5,-1,-1):\n",
    "while n-1>=0:  \n",
    "    n -=1\n",
    "    print(a[n],end=\"\")"
   ]
  },
  {
   "cell_type": "code",
   "execution_count": 5,
   "metadata": {},
   "outputs": [
    {
     "name": "stdout",
     "output_type": "stream",
     "text": [
      "Enter a = python\n",
      "5\n",
      "4\n",
      "3\n",
      "2\n",
      "1\n",
      "0\n"
     ]
    }
   ],
   "source": [
    "a = input(\"Enter a = \")\n",
    "n = len(a)\n",
    "# for i in range(5,-1,-1):\n",
    "while n-1>=0:  \n",
    "    n -=1\n",
    "    print(n)"
   ]
  },
  {
   "cell_type": "code",
   "execution_count": 3,
   "metadata": {},
   "outputs": [
    {
     "name": "stdout",
     "output_type": "stream",
     "text": [
      "Enter n = 5\n",
      "5 * 1 = 5\n",
      "5 * 2 = 10\n",
      "5 * 3 = 15\n",
      "5 * 4 = 20\n",
      "5 * 5 = 25\n",
      "5 * 6 = 30\n",
      "5 * 7 = 35\n",
      "5 * 8 = 40\n",
      "5 * 9 = 45\n",
      "5 * 10 = 50\n"
     ]
    }
   ],
   "source": [
    "n = int(input(\"Enter n = \"))\n",
    "i = 1\n",
    "while i <=10:\n",
    "    print(n,\"*\",i,\"=\",n*i)\n",
    "    i =i+1"
   ]
  },
  {
   "cell_type": "code",
   "execution_count": 6,
   "metadata": {},
   "outputs": [
    {
     "name": "stdout",
     "output_type": "stream",
     "text": [
      "Enter n = 5\n",
      "The vaue of fac =  1\n",
      "The vaue of fac =  2\n",
      "The vaue of fac =  6\n",
      "The vaue of fac =  24\n",
      "The vaue of fac =  120\n",
      "120\n"
     ]
    }
   ],
   "source": [
    "# 5! = 1*2*3*4*5\n",
    "fac = 1\n",
    "n = int(input(\"Enter n = \"))\n",
    "for i in range(1,n+1):\n",
    "    fac = fac*i\n",
    "    print(\"The vaue of fac = \",fac)\n",
    "print(fac)"
   ]
  },
  {
   "cell_type": "code",
   "execution_count": 3,
   "metadata": {},
   "outputs": [
    {
     "name": "stdout",
     "output_type": "stream",
     "text": [
      "Enter n = 4\n",
      "The vaue of fac =  1\n",
      "The vaue of fac =  2\n",
      "The vaue of fac =  6\n",
      "The vaue of fac =  24\n",
      "24\n"
     ]
    }
   ],
   "source": [
    "# 5! = 1*2*3*4*5\n",
    "fac = 1\n",
    "i = 1\n",
    "n = int(input(\"Enter n = \"))\n",
    "# for i in range(1,n+1):\n",
    "while i<=n:\n",
    "    fac = fac*i\n",
    "    i = i+1\n",
    "    print(\"The vaue of fac = \",fac)\n",
    "print(fac)"
   ]
  },
  {
   "cell_type": "code",
   "execution_count": 8,
   "metadata": {},
   "outputs": [
    {
     "name": "stdout",
     "output_type": "stream",
     "text": [
      "Enter n = 2\n",
      "Enter name = ram\n",
      "Enter phone no = 9856858595\n",
      "Enter name = shyam\n",
      "Enter phone no = 6595854575\n",
      "The Entry is =  ram--9856858595\n",
      "shyam--6595854575\n",
      "\n"
     ]
    }
   ],
   "source": [
    "# validating phone no\n",
    "s = \"\"\n",
    "n = int(input(\"Enter n = \"))\n",
    "a = 1\n",
    "# for i in range(n):\n",
    "while a<=n:\n",
    "    name = input(\"Enter name = \")\n",
    "    phone = input(\"Enter phone no = \")\n",
    "    length = len(phone)\n",
    "    if length == 10:\n",
    "        s = s +name+\"--\"+phone+\"\\n\"\n",
    "    else:\n",
    "        print(\"Invalid no\")\n",
    "    a = a+1\n",
    "    \n",
    "print(\"The Entry is = \",s)\n",
    "# print(\"The Entry is = \", \"\\n\",s)"
   ]
  },
  {
   "cell_type": "code",
   "execution_count": 7,
   "metadata": {},
   "outputs": [
    {
     "name": "stdout",
     "output_type": "stream",
     "text": [
      "Enter n = 2\n",
      "Enter x = ram\n",
      "Enter x = shyam\n",
      "The Entry is =   ram shyam\n"
     ]
    }
   ],
   "source": [
    "s = \"\"\n",
    "i = 1\n",
    "n = int(input(\"Enter n = \"))\n",
    "# for i in range(n):\n",
    "while i<=n:\n",
    "    x = input(\"Enter x = \")\n",
    "    s = s+\" \"+x\n",
    "    i = i+1\n",
    "print(\"The Entry is = \",s)"
   ]
  },
  {
   "cell_type": "code",
   "execution_count": 8,
   "metadata": {},
   "outputs": [
    {
     "name": "stdout",
     "output_type": "stream",
     "text": [
      "Hello World\n"
     ]
    }
   ],
   "source": [
    "# break continue pass\n",
    "for i in range(5):\n",
    "    print(\"Hello World\")\n",
    "    break"
   ]
  },
  {
   "cell_type": "code",
   "execution_count": 9,
   "metadata": {},
   "outputs": [
    {
     "name": "stdout",
     "output_type": "stream",
     "text": [
      "P\n",
      "y\n",
      "t\n",
      "h\n"
     ]
    }
   ],
   "source": [
    "a = \"Python\"\n",
    "for i in a:\n",
    "    if i == 'o':\n",
    "        break\n",
    "    print(i)"
   ]
  },
  {
   "cell_type": "code",
   "execution_count": null,
   "metadata": {},
   "outputs": [],
   "source": []
  },
  {
   "cell_type": "code",
   "execution_count": null,
   "metadata": {},
   "outputs": [],
   "source": []
  }
 ],
 "metadata": {
  "kernelspec": {
   "display_name": "Python 3",
   "language": "python",
   "name": "python3"
  },
  "language_info": {
   "codemirror_mode": {
    "name": "ipython",
    "version": 3
   },
   "file_extension": ".py",
   "mimetype": "text/x-python",
   "name": "python",
   "nbconvert_exporter": "python",
   "pygments_lexer": "ipython3",
   "version": "3.8.5"
  }
 },
 "nbformat": 4,
 "nbformat_minor": 4
}
